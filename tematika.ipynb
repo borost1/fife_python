{
 "cells": [
  {
   "cell_type": "markdown",
   "id": "e9296eec-85ac-4644-b1e2-c33662135e21",
   "metadata": {},
   "source": [
    "# Tematika\n",
    "\n",
    "0. Telepítés, workspace setup\n",
    "1. Python interactive shell, aritmetika, alap típusok, alap beépitett függvények (input es print)\n",
    "2. Python fájlok, string műveletek\n",
    "3. Listák\n",
    "4. Cilkusok és logikai elágazások\n",
    "5. Függvények, rekurzió, import használata\n",
    "6. Osztályok\n",
    "7. Virtualizáció és külső libek használata"
   ]
  }
 ],
 "metadata": {
  "kernelspec": {
   "display_name": "Python 3",
   "language": "python",
   "name": "python3"
  },
  "language_info": {
   "codemirror_mode": {
    "name": "ipython",
    "version": 3
   },
   "file_extension": ".py",
   "mimetype": "text/x-python",
   "name": "python",
   "nbconvert_exporter": "python",
   "pygments_lexer": "ipython3",
   "version": "3.9.2"
  }
 },
 "nbformat": 4,
 "nbformat_minor": 5
}
