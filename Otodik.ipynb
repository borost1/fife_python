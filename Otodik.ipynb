{
 "cells": [
  {
   "cell_type": "markdown",
   "id": "17f41bcd-3621-42ee-b431-b84dd68a2814",
   "metadata": {},
   "source": [
    "# Ötödik lecke\n",
    "\n",
    "1. Ciklusok\n",
    "2. Dictionary-k\n",
    "3. Egymásba ágyazott ciklusok\n",
    "\n",
    "## 1. Ciklusok\n",
    "Programozás során gyakran előfordul, hogy ugyanazt a műveletet kell nagyon sokszor elvégeznünk. Ilyen, amikor például megszámoljuk, milyen gyakran fordulnak elő a betűk egy szövegben, vagy amikor több száz elemet tartalmazó teljes nevek listájából kell előállítanunk az illetők monogramját, stb. Sok adat feldolgozása során is mindig ugyanazt a műveletet végezzük el egyszerre nagyon sok elemen.\n",
    "\n",
    "Ahhoz, hogy ezeket egyszerűen el tudjuk végezni, a ciklusok vannak segítségünkre a programozás során, ami az egyik legelterjedtebb építőköve minden létező algoritmusnak. A ciklus szó szinonímája az iterációnak (megjegyzés: de nem azonos az iterator-ral!).\n",
    "\n",
    "### A ciklusok típusai\n",
    "Pythonban alapvetően két típusú ciklust különböztetünk meg:\n",
    "    \n",
    "#### Feltételes ciklusok\n",
    "A feltételes ciklusok magjában lévő kód addig fut folyamatosan, amíg a megadott feltétel igaz. Ez a feltétel a logikai elágazásokból ismert statement kiértékelése. A Python csak az elöltesztelős ciklusokat ismeri, azonban a nyelv egyéb elemei felhasználásával tudunk létrehozni hátultesztelő ciklust is. *(Az elöl- illetve hátultesztelő ciklusok közötti fő különbség, hogy utóbbi legalább egyszer mindenképp lefut.)*\n",
    "- **elöltesztelő ciklus (while)**\n",
    "    A ciklus addig fut, amíg az a feltétel, amelyet megszabunk, igaz. Ha a feltétel sosem igaz, akkor a ciklus sosem fut le.\n",
    "    \n",
    "Példa: írassuk ki külön sorba az első tíz egész számot while ciklus segítségével!"
   ]
  },
  {
   "cell_type": "code",
   "execution_count": 2,
   "id": "d12fe732-3615-44d1-a0c8-51c0841d9207",
   "metadata": {},
   "outputs": [
    {
     "name": "stdout",
     "output_type": "stream",
     "text": [
      "1\n",
      "2\n",
      "3\n",
      "4\n",
      "5\n",
      "6\n",
      "7\n",
      "8\n",
      "9\n",
      "10\n"
     ]
    }
   ],
   "source": [
    "i = 1\n",
    "\n",
    "while i < 11:\n",
    "    print(i)\n",
    "    i = i + 1"
   ]
  },
  {
   "cell_type": "markdown",
   "id": "fe32804d-4cda-4ea1-8595-9156156eafa7",
   "metadata": {},
   "source": [
    "### Ciklus megszakítása\n",
    "Pythonban nincs hátultesztelő ciklus, azonban elő tudjuk idézni a működését a ciklus futását termináló **break** kulcsszó segítségével. Ez a ciklus bármelyik állapotában megszakítja annak futását!\n",
    "Példa: kérjünk be a felhasználótól addig inputot, amíg azt nem írja be inputnak, hogy 'Sanyi'!"
   ]
  },
  {
   "cell_type": "code",
   "execution_count": 3,
   "id": "5333058e-8133-4250-be70-a9d300414515",
   "metadata": {},
   "outputs": [
    {
     "name": "stdin",
     "output_type": "stream",
     "text": [
      "Add meg a neved, Sanyi! :  Laci\n",
      "Add meg a neved, Sanyi! :  Juci\n",
      "Add meg a neved, Sanyi! :  Susi\n",
      "Add meg a neved, Sanyi! :  Sanyi\n"
     ]
    }
   ],
   "source": [
    "while True: # ez alapvetően egy ún. végtelen ciklus, ami soha nem ér véget.\n",
    "    s = input(\"Add meg a neved, Sanyi! : \")\n",
    "    if s == \"Sanyi\":\n",
    "        break"
   ]
  },
  {
   "cell_type": "markdown",
   "id": "25e93406-4df5-4154-be52-d9d393e8f719",
   "metadata": {},
   "source": [
    "### Léptetés, lépés kihagyása\n",
    "Amennyiben az adott lépésen nem szeretnénk semmilyen lépést elvégezni, a **continue** kulcsszó használatával tudjuk ezt elérni.\n",
    "\n",
    "#### Értékek növelésére, csökkentésére használható rövidítések:\n",
    "Elég gyakran történik az, hogy valaminek az értékét növelni vagy csökkenteni kell, esetleg önmagával megszorozni, vagy elosztani, ezekre használhatóak a következő rövidítések, példával:\n",
    "- `i = i + 1` helyett `i += 1` *eggyel növeli a változó értékét*\n",
    "- `i = i - 2` helyett `i -= 2` *kettővel csökkenti a változó értékét*\n",
    "- `i = i *2` helyett `i *= 2` *duplázza a változó értékét*\n",
    "Természetesen az összes aritmetikai operátor használható így (amennyiben a kifejezés értelmezhető).\n",
    "\n",
    "A következő példában csak a páros számokat írassuk ki, 20-ig!"
   ]
  },
  {
   "cell_type": "code",
   "execution_count": 6,
   "id": "ab91b292-c34e-4268-b3f1-5d824735844f",
   "metadata": {},
   "outputs": [
    {
     "name": "stdout",
     "output_type": "stream",
     "text": [
      "2\n",
      "4\n",
      "6\n",
      "8\n",
      "10\n",
      "12\n",
      "14\n",
      "16\n",
      "18\n",
      "20\n"
     ]
    }
   ],
   "source": [
    "i = 0\n",
    "while i < 21:\n",
    "    i += 1\n",
    "    if i % 2 == 1:\n",
    "        continue\n",
    "    else:\n",
    "        print(i)"
   ]
  },
  {
   "cell_type": "markdown",
   "id": "fd91daae-86fd-45e6-a5bf-f690915129dc",
   "metadata": {},
   "source": [
    "#### Számláló ciklusok\n",
    "- **iteráló ciklus (for)**\n",
    "    Adott elemszám esetén végrehajtuk műveleteinket minden elemen. Ez Pythonban mindig iterable objektumokon történik (pl. range, list, dictionary stb.), más programozási nyelvekben külön van számláló és iteráló ciklus, Pythonban azonban kivétel nélkül iterálunk ilyen ciklusok esetén is.\n",
    "    \n",
    "Vegyük azt a példát, hogy ugyanígy ki akarjuk iratni az első tíz páros számot!"
   ]
  },
  {
   "cell_type": "code",
   "execution_count": 3,
   "id": "53b5eb44-0889-4af0-a50d-f1745d63f089",
   "metadata": {},
   "outputs": [
    {
     "name": "stdout",
     "output_type": "stream",
     "text": [
      "2\n",
      "4\n",
      "6\n",
      "8\n",
      "10\n"
     ]
    }
   ],
   "source": [
    "for i in range(1,11):\n",
    "    if i % 2 == 0:\n",
    "        print(i)"
   ]
  },
  {
   "cell_type": "markdown",
   "id": "32be4ca3-3b40-4769-972f-c34db1d58697",
   "metadata": {},
   "source": [
    "Jól látható, hogy itt is használjuk az `in` kulcsszót, amely a `for` és egy ciklusváltozó segítségével végig *iterál* a range elemein. Természetesen más *iterable* típussal is működik, nézzük meg pl egy listán!"
   ]
  },
  {
   "cell_type": "code",
   "execution_count": 4,
   "id": "2b305093-3f00-4c71-8084-76a432a0fef4",
   "metadata": {},
   "outputs": [
    {
     "name": "stdout",
     "output_type": "stream",
     "text": [
      "a\n",
      "b\n",
      "c\n",
      "d\n",
      "e\n",
      "é\n"
     ]
    }
   ],
   "source": [
    "lista = ['a', 'b', 'c', 'd', 'e', 'é']\n",
    "\n",
    "for i in lista:\n",
    "    print(i)"
   ]
  },
  {
   "cell_type": "markdown",
   "id": "0c6ccc18-5160-4a0d-9c4d-b09a0fb8c349",
   "metadata": {},
   "source": [
    "### enumerate(), kulcs-érték párok, indexelés\n",
    "Számtalan olyan esetbe futhatunk bele, amikor nem csak az elemre van szükségünk, hanem annak indexére is. Ezt a listán való számoltatáshoz szükséges `enumerate()` függvény segítségével tudjuk megtenni. Az `enumerate()` függvény egy értéket fogad, ami a listánk maga. Nézzük meg, hogy működik, majd írassuk ki a listánkban páratlan indexű elemeket csupa nagybetűvel!"
   ]
  },
  {
   "cell_type": "code",
   "execution_count": 7,
   "id": "17f583e0-f3b9-4752-bfc4-1f523ccd1e57",
   "metadata": {},
   "outputs": [
    {
     "name": "stdout",
     "output_type": "stream",
     "text": [
      "0: a\n",
      "1: b\n",
      "2: c\n",
      "3: d\n",
      "4: e\n",
      "5: é\n",
      "a\n",
      "B\n",
      "c\n",
      "D\n",
      "e\n",
      "É\n"
     ]
    }
   ],
   "source": [
    "lista = ['a', 'b', 'c', 'd', 'e', 'é']\n",
    "\n",
    "for k, v in enumerate(lista):\n",
    "    print(str(k) + \": \" + v)\n",
    "    \n",
    "for k, v in enumerate(lista):\n",
    "    if k % 2 == 1:\n",
    "        print(v.upper())\n",
    "    else:\n",
    "        print(v)"
   ]
  },
  {
   "cell_type": "markdown",
   "id": "faeccc41-06f5-47c9-8e7d-5baa96222b09",
   "metadata": {},
   "source": [
    "## 2. Dictionary-k\n",
    "A fenti példában látható változónevek - k, v - a kulcs-érték (key-value) párokra utalnak. Ilyen értéktárolás nagyon gyakori az informatikában és számos néven szokás rá hivatkozni, például asszociatív tömb vagy könyvtár. Pythonban a könyvtár, azaz dictionary nevű típus honosodott meg. Lényege, hogy kulcs-érték párokat tárolunk benne. Nagyobb mennyiségű adatoknál nagyon gyakori és kiemelten fontos típus nem csak Pythonban, hanem a hálózati kommunikációban. A listákhoz hasonlóan a dictionaryk is számos elemből állnak, azonban **a sorrend nem fontos**, illetve **a duplikációk sem megengedettek**. A kulcsok tekinthetőek a dictionary indexeinek, és az értékek az általuk visszaadott értékek. **A kulcsokat adjuk meg először, a hozzájuk tartozó értékeket kettősponttal adjuk meg. A dictionary-k körül kapcsos zárójelek vannak, az elemeket vesszővel választjuk el.***\n",
    "\n",
    "***A kulcsok és értékek tekintetében semmilyen típusmegkötés nincs, épp ezért érdemes nagyon odafigyelni, hogy hogyan kezeljük őket.***"
   ]
  },
  {
   "cell_type": "code",
   "execution_count": 10,
   "id": "fc411662-9784-4882-ac62-484ef41552a4",
   "metadata": {},
   "outputs": [
    {
     "name": "stdout",
     "output_type": "stream",
     "text": [
      "kutya\n"
     ]
    },
    {
     "ename": "KeyError",
     "evalue": "2",
     "output_type": "error",
     "traceback": [
      "\u001b[1;31m---------------------------------------------------------------------------\u001b[0m",
      "\u001b[1;31mKeyError\u001b[0m                                  Traceback (most recent call last)",
      "\u001b[1;32m<ipython-input-10-9b7d23d59590>\u001b[0m in \u001b[0;36m<module>\u001b[1;34m\u001b[0m\n\u001b[0;32m      4\u001b[0m }\n\u001b[0;32m      5\u001b[0m \u001b[0mprint\u001b[0m\u001b[1;33m(\u001b[0m\u001b[0mdict\u001b[0m\u001b[1;33m[\u001b[0m\u001b[1;36m1\u001b[0m\u001b[1;33m]\u001b[0m\u001b[1;33m)\u001b[0m\u001b[1;33m\u001b[0m\u001b[1;33m\u001b[0m\u001b[0m\n\u001b[1;32m----> 6\u001b[1;33m \u001b[0mprint\u001b[0m\u001b[1;33m(\u001b[0m\u001b[0mdict\u001b[0m\u001b[1;33m[\u001b[0m\u001b[1;36m2\u001b[0m\u001b[1;33m]\u001b[0m\u001b[1;33m)\u001b[0m\u001b[1;33m\u001b[0m\u001b[1;33m\u001b[0m\u001b[0m\n\u001b[0m",
      "\u001b[1;31mKeyError\u001b[0m: 2"
     ]
    }
   ],
   "source": [
    "dict = {\n",
    "    1: \"kutya\",\n",
    "    \"becenév\": \"Rozi\"\n",
    "}\n",
    "print(dict[1])\n",
    "print(dict[2])"
   ]
  },
  {
   "cell_type": "code",
   "execution_count": 12,
   "id": "d2335991-12cb-42c4-9a22-02b6c94f1763",
   "metadata": {},
   "outputs": [
    {
     "name": "stdout",
     "output_type": "stream",
     "text": [
      "kutya\n",
      "Rozi\n"
     ]
    }
   ],
   "source": [
    "# helyesen:\n",
    "dict = {\n",
    "    1: \"kutya\",\n",
    "    \"becenév\": \"Rozi\"\n",
    "}\n",
    "print(dict[1])\n",
    "print(dict[\"becenév\"])"
   ]
  },
  {
   "cell_type": "markdown",
   "id": "6c71d4c0-f4b3-44e3-b01f-7cce786341fe",
   "metadata": {},
   "source": [
    "#### Iteráció dictionary-ken\n",
    "A korábban hivatkozott key-value utalás a változónevekben nem véletlen, de nézzük meg, mi történik, ha megpróbálunk egy `for` ciklussal végigiterálni a dictionaryn! Figyeljük meg, hogy alap esetben csak a kulcsokat kapjuk vissza, és be kell hivatkoznunk az elemeket, hogy az értékeket visszakapjuk!\n",
    "\n",
    "#### items() metódus, tuple típus\n",
    "Az `items()` metódus a korábbi metódusokhoz hasonlóan használható módon adja vissza a for ciklusnak key-value párokként a kulcsokat és értékeket. Ha megnézzük, hogy önmagában mit csinál ez a függvény, egy új típussal fogunk találkozni, ez a **tuple**, vagy más néven **rendezett pár**, zárójelbe kerülnek, vesszővel elválasztva. Az items() függvény listaként, rendezett párokba rendezi a dictionary-t.\n",
    "\n",
    "A `keys()` metódus a kulcsokat adja vissza listában, a `values()` az értékeket."
   ]
  },
  {
   "cell_type": "code",
   "execution_count": 38,
   "id": "17c3139e-3f66-4865-98e0-dced13458e4d",
   "metadata": {},
   "outputs": [
    {
     "name": "stdout",
     "output_type": "stream",
     "text": [
      "nev\n",
      "fajta\n",
      "szuletes\n",
      "nem\n",
      "nev : Bodri\n",
      "fajta : puli\n",
      "szuletes : 2015.05.04.\n",
      "nem : kan\n",
      "dict_items([('nev', 'Bodri'), ('fajta', 'puli'), ('szuletes', '2015.05.04.'), ('nem', 'kan')])\n",
      "nev : Bodri\n",
      "fajta : puli\n",
      "szuletes : 2015.05.04.\n",
      "nem : kan\n",
      "dict_keys(['nev', 'fajta', 'szuletes', 'nem'])\n",
      "dict_values(['Bodri', 'puli', '2015.05.04.', 'kan'])\n"
     ]
    }
   ],
   "source": [
    "kutya_adatai = {\n",
    "    \"nev\": \"Bodri\",\n",
    "    \"fajta\": \"puli\",\n",
    "    \"szuletes\": \"2015.05.04.\",\n",
    "    \"nem\": \"kan\"\n",
    "}\n",
    "\n",
    "# alap esetben csak a kulcsokat kapjuk vissza\n",
    "for k in kutya_adatai:\n",
    "    print(k)\n",
    "\n",
    "# a kulcsokkal azonban tudunk hivatkozni\n",
    "for k in kutya_adatai:\n",
    "    print(k,':', kutya_adatai[k])\n",
    "    \n",
    "    \n",
    "print(kutya_adatai.items())    \n",
    "\n",
    "# ha a key-value paireket szeretnénk\n",
    "for k, v in kutya_adatai.items():\n",
    "    print(k,':', v)\n",
    "    \n",
    "print(kutya_adatai.keys())\n",
    "print(kutya_adatai.values())"
   ]
  },
  {
   "cell_type": "markdown",
   "id": "9d67ebf3-333f-4605-b98d-7d1197b6c22b",
   "metadata": {},
   "source": [
    "### A dictionary elemei\n",
    "#### Új elem\n",
    "- Amennyiben új elemmel szeretnénk bővíteni egy dictionary-t, egész egyszerűen \"indexként\" hivatkozunk rá.\n",
    "\n",
    "#### Elemek törlése\n",
    "- Amennyiben törölni szeretnénk egy elemet, arra több módszerünk van. Amennyiben tudjuk, hogy az elem létezik, úgy a listáknál megismert `del` kulcsszó segítségével tudunk törölni. \n",
    "- Amennyiben nem vagyunk meggyőződve róla, hogy a törlendő elem létezik, úgy a `pop()` metódus két inputtal rendelkező változatával tudjuk megtenni, ez esetben második paraméterként meg kell adnunk a hibaág visszatérési értékét. Tetszőleges értéket is visszaadhatunk, amit változóban el tudunk tárolni, vagy ha nem akarunk visszaadni semmit, használhatjuk a `None` típust. A `None` típusú változó értéke szó szerint és szigorúan **semmi**, a későbbiekben lesz még szó róla.\n",
    "\n",
    "**Mivel a dictionaryben a sorrend nem számít, így beszúrással, sorrendiséggel nem kell foglalkoznunk!**\n",
    "\n",
    "#### Dictionary ürítése\n",
    "Pontosan úgy lehet üríteni dictionary-t, mint listát, a `clear()` függvény segítségével."
   ]
  },
  {
   "cell_type": "code",
   "execution_count": 27,
   "id": "5ba56b83-d671-425a-9d46-e508956b0014",
   "metadata": {},
   "outputs": [
    {
     "name": "stdout",
     "output_type": "stream",
     "text": [
      "{'nev': 'Bodri', 'fajta': 'puli', 'szuletes': '2015.05.04.', 'nem': 'kan', 'szin': 'fekete'}\n",
      "{'nev': 'Bodri', 'szuletes': '2015.05.04.', 'nem': 'kan', 'szin': 'fekete'}\n"
     ]
    }
   ],
   "source": [
    "kutya_adatai[\"szin\"] = \"fekete\"\n",
    "print(kutya_adatai)\n",
    "kutya_adatai.pop('fajta', None)\n",
    "print(kutya_adatai)"
   ]
  },
  {
   "cell_type": "markdown",
   "id": "ce71126f-fcdd-4e4a-a0be-0a014be0c368",
   "metadata": {},
   "source": [
    "> #### Órai Feladat\n",
    "Kérjük be a felhasználótól, hogy milyen adatokat (kulcsokat) szeretne rögzíteni, vesszővel elválasztva!\n",
    "Ezután kérjük be a megadott kulcsokhoz az értékeket egy dictionary-be!"
   ]
  },
  {
   "cell_type": "markdown",
   "id": "806a6866-1470-47e4-a71b-f95f549b3b3d",
   "metadata": {},
   "source": [
    "## 3. Ciklusba ágyazott ciklus\n",
    "\n",
    "#### Példa\n",
    "Adatrögzítést végzünk manuálisan.\n",
    "Kérjük be a felhasználótól egyesével, hogy milyen rekordokat szeretne rögzíteni az adatbázisba! Az utolsó rekordunk legyen mindenképpen egy '!' nevű rekord, ennek értékét a program automatikusan húzza ki!\n",
    "Ezután kérjük be a felhasználótól, hogy hány rekordot szeretnénk bekérni, majd ahány adat rögzítésére szükség van, annyiszor kérjük be az összes rekordot a felhasználótól (a !-t értelemszerűen húzzuk ki automatikusan). Az adatbázis listaként tárolja minden felvitt sorát, amelyek pedig egy-egy dictionary legyenek!"
   ]
  },
  {
   "cell_type": "code",
   "execution_count": 37,
   "id": "49add484-561c-42fd-9612-e9c9e9e534bb",
   "metadata": {},
   "outputs": [
    {
     "name": "stdin",
     "output_type": "stream",
     "text": [
      "Add meg a kovetkezo rogzitendo mezot, vagy '!' a megszakitashoz! vezeteknev\n",
      "Add meg a kovetkezo rogzitendo mezot, vagy '!' a megszakitashoz! keresztnev\n",
      "Add meg a kovetkezo rogzitendo mezot, vagy '!' a megszakitashoz! nem\n",
      "Add meg a kovetkezo rogzitendo mezot, vagy '!' a megszakitashoz! szul_ido\n",
      "Add meg a kovetkezo rogzitendo mezot, vagy '!' a megszakitashoz! !\n"
     ]
    },
    {
     "name": "stdout",
     "output_type": "stream",
     "text": [
      "['vezeteknev', 'keresztnev', 'nem', 'szul_ido', '!']\n"
     ]
    },
    {
     "name": "stdin",
     "output_type": "stream",
     "text": [
      "Add meg, hogy hany rogzitendo adatod van:  2\n"
     ]
    },
    {
     "name": "stdout",
     "output_type": "stream",
     "text": [
      "1. elem rogzitese\n"
     ]
    },
    {
     "name": "stdin",
     "output_type": "stream",
     "text": [
      "Add meg a(z) vezeteknev-t:  Boros\n",
      "Add meg a(z) keresztnev-t:  Tamas\n",
      "Add meg a(z) nem-t:  ferfi\n",
      "Add meg a(z) szul_ido-t:  1988.03.20.\n"
     ]
    },
    {
     "name": "stdout",
     "output_type": "stream",
     "text": [
      "2. elem rogzitese\n"
     ]
    },
    {
     "name": "stdin",
     "output_type": "stream",
     "text": [
      "Add meg a(z) vezeteknev-t:  Kis\n",
      "Add meg a(z) keresztnev-t:  Geza\n",
      "Add meg a(z) nem-t:  ferfi\n",
      "Add meg a(z) szul_ido-t:  1978.05.03.\n"
     ]
    },
    {
     "name": "stdout",
     "output_type": "stream",
     "text": [
      "[{'vezeteknev': 'Kis', 'keresztnev': 'Geza', 'nem': 'ferfi', 'szul_ido': '1978.05.03.', '!': '-'}, {'vezeteknev': 'Kis', 'keresztnev': 'Geza', 'nem': 'ferfi', 'szul_ido': '1978.05.03.', '!': '-'}]\n"
     ]
    }
   ],
   "source": [
    "# A paramétereket letárolom egy listában\n",
    "params = []\n",
    "# az első paraméterem mindenképp egy üres string, máskülönben nem tudom min elvégezni a műveletet!\n",
    "param = \"\"\n",
    "\n",
    "while param != \"!\":\n",
    "    param = input(\"Add meg a kovetkezo rogzitendo mezot, vagy '!' a megszakitashoz!\")\n",
    "    params.append(param)\n",
    "\n",
    "print(params)\n",
    "\n",
    "# üresen deklarálom, mert máskülönben nem fogja tudni a fordító, hogy dictionary típusú változóm van.\n",
    "adat = {}\n",
    "# listába fogom gyűjteni az adatokat\n",
    "adatbazis = []\n",
    "# bekérem, hogy hányszor kell végigmenni\n",
    "elemszam = int(input(\"Add meg, hogy hany rogzitendo adatod van: \"))\n",
    "\n",
    "for i in range(0, elemszam):\n",
    "    adat.clear()\n",
    "    print(f'{i+1}. elem rogzitese')\n",
    "    for p in params:\n",
    "        if p == \"!\":\n",
    "            adat[p] = \"-\"\n",
    "        else:\n",
    "            adat[p] = input(f\"Add meg a(z) {p}-t: \")\n",
    "    adatbazis.append(adat)\n",
    "    \n",
    "print(adatbazis)"
   ]
  },
  {
   "cell_type": "markdown",
   "id": "bd44d7d3-b14c-4dad-9bf7-06a9ad4af604",
   "metadata": {},
   "source": [
    "A fenti példában jól látható a ciklusba ágyazott ciklus esete, hasonlóan a feltételekhez, itt is **indentation** dönti el, hogy melyik kód mikor ismétlődik. Nagyon gyakran használt eset, hogy ciklus ciklusba ágyazódik, a nevezetes algoritmusoknál lesz még szó róluk.\n",
    "\n",
    "> ### Házi feladat\n",
    "> #### 1. Írj egy programot, amely a következőt csinálja:\n",
    "> 1. lépés: 1 * 1 = 1 *< ez a kezdő értékünk!*\n",
    "> 2. lépés: 1 / 2 = 0.5\n",
    "> 3. lépés: 0.5 * 3 = 1.5\n",
    "> 4. lépés: 1.5 / 4 = ...\n",
    ">\n",
    "> Páratlan lépésszám esetén szorozzuk a lépésszámmal az eredményt, páros esetén osztjuk, az eredményt pedig lépésről lépésre visszük tovább! A felhasználó meg tudja adni a kezdő lépést, a záró lépést, és hogy mi az alap értékünk (a fenti példában 1).\n",
    "> #### 2. Írj egy olyan programot, \n",
    "> amely a lenti barátkeselyűs szövegből megmondja, hogy melyik betű a teljes magyar abc-ből hány százalékos előfordulással fordul elő az adott szövegen belül! Összekapcsolt mássalhangzókat is nézzen (cs, dzs stb.)!\n",
    ">>\"Külföldi jeladós barátkeselyűt lőhettek le Szabolcs-Szatmár-Bereg megyében, írja a Magyar Madártani és Természetvédelmi Egyesület (MME) közleménye és a parlagisas.hu.\"\n",
    "\n",
    "> A megoldáshoz használj ciklusokat!"
   ]
  }
 ],
 "metadata": {
  "kernelspec": {
   "display_name": "Python 3",
   "language": "python",
   "name": "python3"
  },
  "language_info": {
   "codemirror_mode": {
    "name": "ipython",
    "version": 3
   },
   "file_extension": ".py",
   "mimetype": "text/x-python",
   "name": "python",
   "nbconvert_exporter": "python",
   "pygments_lexer": "ipython3",
   "version": "3.9.2"
  }
 },
 "nbformat": 4,
 "nbformat_minor": 5
}
