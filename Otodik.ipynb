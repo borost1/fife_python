{
 "cells": [
  {
   "cell_type": "markdown",
   "id": "17f41bcd-3621-42ee-b431-b84dd68a2814",
   "metadata": {},
   "source": [
    "# Ötödik lecke\n",
    "## Ciklusok\n",
    "Programozás során gyakran előfordul, hogy ugyanazt a műveletet kell nagyon sokszor elvégeznünk. Ilyen, amikor például megszámoljuk, milyen gyakran fordulnak elő a betűk egy szövegben, vagy amikor több száz elemet tartalmazó teljes nevek listájából kell előállítanunk az illetők monogramját, stb. Sok adat feldolgozása során is mindig ugyanazt a műveletet végezzük el egyszerre nagyon sok elemen.\n",
    "\n",
    "Ahhoz, hogy ezeket egyszerűen el tudjuk végezni, a ciklusok vannak segítségünkre a programozás során, ami az egyik legelterjedtebb építőköve minden létező algoritmusnak. A ciklus szó szinonímája az iterációnak (megjegyzés: de nem azonos az iterator-ral!).\n",
    "\n",
    "### A ciklusok típusai\n",
    "Pythonban alapvetően két típusú ciklust különböztetünk meg:\n",
    "    \n",
    "#### Feltételes ciklusok\n",
    "A feltételes ciklusok magjában lévő kód addig fut folyamatosan, amíg a megadott feltétel igaz. Ez a feltétel a logikai elágazásokból ismert statement kiértékelése.\n",
    "- **elöltesztelő ciklus (while)**\n",
    "    A ciklus addig fut, amíg az a feltétel, amelyet megszabunk, igaz. Ha a feltétel sosem igaz, akkor a ciklus sosem fut le.\n",
    "    \n",
    "Példa: írassuk ki külön sorba az első tíz egész számot while ciklus segítségével!"
   ]
  },
  {
   "cell_type": "code",
   "execution_count": 2,
   "id": "d12fe732-3615-44d1-a0c8-51c0841d9207",
   "metadata": {},
   "outputs": [
    {
     "name": "stdout",
     "output_type": "stream",
     "text": [
      "1\n",
      "2\n",
      "3\n",
      "4\n",
      "5\n",
      "6\n",
      "7\n",
      "8\n",
      "9\n",
      "10\n"
     ]
    }
   ],
   "source": [
    "i = 1\n",
    "\n",
    "while i < 11:\n",
    "    print(i)\n",
    "    i = i + 1"
   ]
  },
  {
   "cell_type": "markdown",
   "id": "fe32804d-4cda-4ea1-8595-9156156eafa7",
   "metadata": {},
   "source": [
    "### Ciklus megszakítása\n",
    "Pythonban nincs hátultesztelő ciklus, azonban elő tudjuk idézni a működését a ciklus futását termináló **break** kulcsszó segítségével. Ez a ciklus bármelyik állapotában megszakítja annak futását!\n",
    "Példa: kérjünk be a felhasználótól addig inputot, amíg azt nem írja be inputnak, hogy 'Sanyi'!"
   ]
  },
  {
   "cell_type": "code",
   "execution_count": 3,
   "id": "5333058e-8133-4250-be70-a9d300414515",
   "metadata": {},
   "outputs": [
    {
     "name": "stdin",
     "output_type": "stream",
     "text": [
      "Add meg a neved, Sanyi! :  Laci\n",
      "Add meg a neved, Sanyi! :  Juci\n",
      "Add meg a neved, Sanyi! :  Susi\n",
      "Add meg a neved, Sanyi! :  Sanyi\n"
     ]
    }
   ],
   "source": [
    "while True: # ez alapvetően egy ún. végtelen ciklus, ami soha nem ér véget.\n",
    "    s = input(\"Add meg a neved, Sanyi! : \")\n",
    "    if s == \"Sanyi\":\n",
    "        break"
   ]
  },
  {
   "cell_type": "markdown",
   "id": "25e93406-4df5-4154-be52-d9d393e8f719",
   "metadata": {},
   "source": [
    "### Léptetés, lépés kihagyása\n",
    "Amennyiben az adott lépésen nem szeretnénk semmilyen lépést elvégezni, a **continue** kulcsszó használatával tudjuk ezt elérni.\n",
    "\n",
    "#### Értékek növelésére, csökkentésére használható rövidítések:\n",
    "Elég gyakran történik az, hogy valaminek az értékét növelni vagy csökkenteni kell, esetleg önmagával megszorozni, vagy elosztani, ezekre használhatóak a következő rövidítések.\n",
    "\n",
    "A következő példában csak a páros számokat írassuk ki, 20-ig!"
   ]
  },
  {
   "cell_type": "code",
   "execution_count": 6,
   "id": "ab91b292-c34e-4268-b3f1-5d824735844f",
   "metadata": {},
   "outputs": [
    {
     "name": "stdout",
     "output_type": "stream",
     "text": [
      "2\n",
      "4\n",
      "6\n",
      "8\n",
      "10\n",
      "12\n",
      "14\n",
      "16\n",
      "18\n",
      "20\n"
     ]
    }
   ],
   "source": [
    "i = 0\n",
    "while i < 21:\n",
    "    i += 1\n",
    "    if i % 2 == 1:\n",
    "        continue\n",
    "    else:\n",
    "        print(i)"
   ]
  },
  {
   "cell_type": "markdown",
   "id": "fd91daae-86fd-45e6-a5bf-f690915129dc",
   "metadata": {},
   "source": [
    "#### Számláló ciklusok\n",
    "- **iteráló ciklus (for)**\n",
    "    Adott elemszám esetén végrehajtuk műveleteinket minden elemen. Ez Pythonban mindig iterable objektumokon történik (pl. range, list, dictionary stb.), más programozási nyelvekben külön van számláló és iteráló ciklus, Pythonban azonban kivétel nélkül iterálunk ilyen ciklusok esetén is."
   ]
  }
 ],
 "metadata": {
  "kernelspec": {
   "display_name": "Python 3",
   "language": "python",
   "name": "python3"
  },
  "language_info": {
   "codemirror_mode": {
    "name": "ipython",
    "version": 3
   },
   "file_extension": ".py",
   "mimetype": "text/x-python",
   "name": "python",
   "nbconvert_exporter": "python",
   "pygments_lexer": "ipython3",
   "version": "3.7.4"
  }
 },
 "nbformat": 4,
 "nbformat_minor": 5
}
