{
 "cells": [
  {
   "cell_type": "markdown",
   "id": "a2212ac1-e266-4015-afaf-3ccec4839c3a",
   "metadata": {},
   "source": [
    "# Hetedik lecke - Függvények 2.\n",
    "1. A Caesar-kód\n",
    "2. A körkörös lista problémája\n",
    "3. A kód visszafejtése\n",
    "4. A kód feltörése\n",
    "5. `**kwargs`\n",
    "6. `*args`"
   ]
  },
  {
   "cell_type": "markdown",
   "id": "ac94cd95-4347-4468-8217-916bae4b2940",
   "metadata": {},
   "source": [
    "## Függvények 2.\n",
    "A függvényekkel korábban már szóba került egy nagyon fontos tulajdonságuk, amely a programozás egyik legfontosabb elemére, **a hatókörre, vagy scope-ra.** Lényegében arról van szó, hogy a függvények saját változókkal bírnak, amelyek csak a függényen belül érvényesek. Ez nem jelenti azt, hogy a futáson kívül deklarált változókat ne használhatnánk a függvényen belül, ez azonban különféle problémákhoz vezethet a későbbiekben.\n",
    "\n",
    "### A Caesar-kód\n",
    "A következőekben az egyik legősibb titkosítási eljáráson keresztül fogjuk bemutatni a scope hatását. Ehhez először meg kell értenünk a Caesar-sifrét: egy olyan szövegtitkosításról van szó, ahol az ábécé betűit eltolással megváltoztatjuk, így például, ha egyszeres eltolást használunk angol ábécén, akkor 'a'-ból 'b' lesz, 'b'-ből 'c', 'baba'-ból 'cbcb' és így tovább. A példa során az egyszerűség kedvéért az angol ábécével fogunk foglalkozni, az írásjeleket pedig nem titkosítjuk. A példánál léteznek hatékonyabb implementációk is, a lényeg a szemléltetés lesz, és fogunk dictionaryket is használni a gyakorlás kedvéért.\n",
    "Első körben próbáljuk meg azt, hogy visszanyerjük egy új szövegben a bevitt betűk sorszámát!"
   ]
  },
  {
   "cell_type": "code",
   "execution_count": 3,
   "id": "0553a15f-9aa0-4533-a820-1a4905c89a7f",
   "metadata": {},
   "outputs": [
    {
     "name": "stdin",
     "output_type": "stream",
     "text": [
      "Add meg a szoveget titkositani: az\n"
     ]
    },
    {
     "name": "stdout",
     "output_type": "stream",
     "text": [
      "024\n"
     ]
    }
   ],
   "source": [
    "abc = {\n",
    "    'a' : 0,\n",
    "    'b' : 1,\n",
    "    'c' : 2,\n",
    "    'd' : 3,\n",
    "    'e' : 4,\n",
    "    'f' : 5,\n",
    "    'g' : 6,\n",
    "    'h' : 7,\n",
    "    'i' : 8,\n",
    "    'j' : 9,\n",
    "    'k' : 10,\n",
    "    'l' : 11,\n",
    "    'm' : 12,\n",
    "    'n' : 13,\n",
    "    'o' : 14,\n",
    "    'p' : 15,\n",
    "    'q' : 16,\n",
    "    'r' : 17,\n",
    "    's' : 18,\n",
    "    't' : 19,\n",
    "    'u' : 20,\n",
    "    'v' : 21,\n",
    "    'x' : 22,\n",
    "    'y' : 23,\n",
    "    'z' : 24\n",
    "}\n",
    "\n",
    "szoveg = input(\"Add meg a szoveget titkositani:\")\n",
    "titkos = ''\n",
    "\n",
    "for betu in szoveg:\n",
    "    if betu in abc:\n",
    "        titkos += str(abc[betu])\n",
    "    else:\n",
    "        titkos += betu\n",
    "    \n",
    "print(titkos)"
   ]
  },
  {
   "cell_type": "markdown",
   "id": "aaf6db82-9a9d-40bc-8dff-42483de1a70b",
   "metadata": {},
   "source": [
    "Jól látható, hogy rögtön beleütköztünk az első problémába: a 424 jelentheti azt is, hogy 'ez', meg azt is, hogy 'ebe', így a fogadó félnek meglehetősen nehéz lesz megfejtenie, hogy mit is írtunk neki! Több módon is megoldhatjuk a problémát (pl. elválasztó karaktert használunk), de a legegyszerűbb talán az, ha először ezt a 'köztes állapotot' inkább csak listává forgatjuk és nem egyből szöveggé, sőt így elkerülhetjük a felesleges átmeneti konverziót is! Ezen kívül vegyük úgy, hogy a léptetésünk 1!"
   ]
  },
  {
   "cell_type": "code",
   "execution_count": 8,
   "id": "e2d9443f-4759-4229-bd12-050ca4ddde6c",
   "metadata": {},
   "outputs": [
    {
     "name": "stdin",
     "output_type": "stream",
     "text": [
      "Add meg a szoveget titkositani: ez az en titkos szovegem\n"
     ]
    },
    {
     "name": "stdout",
     "output_type": "stream",
     "text": [
      "[5, 25, ' ', 1, 25, ' ', 5, 14, ' ', 20, 9, 20, 11, 15, 19, ' ', 19, 25, 15, 22, 5, 7, 5, 13]\n"
     ]
    }
   ],
   "source": [
    "szoveg = input(\"Add meg a szoveget titkositani:\")\n",
    "titkos = []\n",
    "\n",
    "for betu in szoveg:\n",
    "    if betu in abc:\n",
    "        titkos.append(abc[betu] + 1)\n",
    "    else:\n",
    "        titkos += betu\n",
    "    \n",
    "print(titkos)"
   ]
  },
  {
   "cell_type": "markdown",
   "id": "b344ea55-0556-46cf-af14-7f033df939c5",
   "metadata": {},
   "source": [
    "A visszafejtéshez szükségünk lenne valami módszerre, hogy egyszerűen vissza tudjuk fejteni a számokat... Például egy olyan dictionary-re, amiben a sorszámok vannak előbb, és utána a hozzájuk tartozó betűk! Ne feledjük, hogy a dictionary-k alapvetően nem rendelkeznek sorrendiséggel. Szerencsére viszonylag könnyen, egy for ciklus segítségével ezt el tudjuk végezni!"
   ]
  },
  {
   "cell_type": "code",
   "execution_count": 11,
   "id": "a58104bf-7810-42ba-a1ad-94ce892ab568",
   "metadata": {},
   "outputs": [
    {
     "name": "stdout",
     "output_type": "stream",
     "text": [
      "{0: 'a', 1: 'b', 2: 'c', 3: 'd', 4: 'e', 5: 'f', 6: 'g', 7: 'h', 8: 'i', 9: 'j', 10: 'k', 11: 'l', 12: 'm', 13: 'n', 14: 'o', 15: 'p', 16: 'q', 17: 'r', 18: 's', 19: 't', 20: 'u', 21: 'v', 22: 'x', 23: 'y', 24: 'z'}\n"
     ]
    },
    {
     "ename": "KeyError",
     "evalue": "25",
     "output_type": "error",
     "traceback": [
      "\u001b[1;31m---------------------------------------------------------------------------\u001b[0m",
      "\u001b[1;31mKeyError\u001b[0m                                  Traceback (most recent call last)",
      "\u001b[1;32m<ipython-input-11-698f34311a4c>\u001b[0m in \u001b[0;36m<module>\u001b[1;34m\u001b[0m\n\u001b[0;32m      9\u001b[0m \u001b[1;33m\u001b[0m\u001b[0m\n\u001b[0;32m     10\u001b[0m \u001b[1;32mfor\u001b[0m \u001b[0msorszam\u001b[0m \u001b[1;32min\u001b[0m \u001b[0mtitkos\u001b[0m\u001b[1;33m:\u001b[0m\u001b[1;33m\u001b[0m\u001b[1;33m\u001b[0m\u001b[0m\n\u001b[1;32m---> 11\u001b[1;33m     \u001b[0mtitkos_szoveg\u001b[0m \u001b[1;33m+=\u001b[0m \u001b[0mfordito\u001b[0m\u001b[1;33m[\u001b[0m\u001b[0msorszam\u001b[0m\u001b[1;33m]\u001b[0m\u001b[1;33m\u001b[0m\u001b[1;33m\u001b[0m\u001b[0m\n\u001b[0m",
      "\u001b[1;31mKeyError\u001b[0m: 25"
     ]
    }
   ],
   "source": [
    "fordito = {}\n",
    "\n",
    "for k, v in abc.items():\n",
    "    fordito[v] = k\n",
    "    \n",
    "print(fordito)\n",
    "\n",
    "titkos_szoveg = ''\n",
    "\n",
    "for sorszam in titkos:\n",
    "    titkos_szoveg += fordito[sorszam]"
   ]
  },
  {
   "cell_type": "markdown",
   "id": "82db3917-3d4b-4866-9bbf-8e229227b7dc",
   "metadata": {},
   "source": [
    "**Ha visszamegyünk az eredeti listába, láthatjuk, hogy vannak 25-ös sorszámú elemek is, amelyeket viszont az eredeti ábécé nem tartalmaz. Ez azért van így, mert a listánk nem körkörös, tehát az megoldás lehet, hogy 1-es eltolás esetén az index visszaugrik a 0-ra, tehát 0 : 'z'!**\n",
    "\n",
    "### A körkörös lista problémája\n",
    "Az olyan listákat, amelyek egy végtelen körbe vannak kötve, körkörös listáknak hívjuk. A legkönnyebben egy órával érthetjük meg a problémát: a nap véges, 24 órából áll. Ha este 22:00-kor arra gondolunk, hogy mi lesz három óra múlva, tudjuk, hogy nem 25 óra lesz, hanem hajnali egy, hiszen a mutató körbeér.\n",
    "De hogyan tudjuk hatékonyan kiszámolni, hogy mi lesz a következő index? A problémát elkezdhetjük feltételek vizsgálatával és ciklusokkal (egészen pontosan rekurzióval, amit később fogunk tanulni), azonban van egy sokkal triviálisabb megoldás is: maradékképzéssel. Ha tudjuk, hogy a listánk 24-nél nagyobb indexszel nem rendelkezhet, akkor vizsgáljuk meg, hogy 25 osztva 24-gyel az egy, a maradék pedig 1!"
   ]
  },
  {
   "cell_type": "code",
   "execution_count": 5,
   "id": "87b8505b-c8dc-4f3a-8c2d-dd33e554a49c",
   "metadata": {},
   "outputs": [
    {
     "name": "stdout",
     "output_type": "stream",
     "text": [
      "1\n",
      "4\n",
      "5\n"
     ]
    }
   ],
   "source": [
    "print(25 % 24)\n",
    "print(28 % 24)\n",
    "print(77 % 24)"
   ]
  },
  {
   "cell_type": "markdown",
   "id": "7efa9db9-6161-4e3c-ba8c-b8caa3751060",
   "metadata": {},
   "source": [
    "Ezt implementálva az eddigi kódunkban:"
   ]
  },
  {
   "cell_type": "code",
   "execution_count": 48,
   "id": "1467112a-f2c7-4bd6-8bf2-d6c3225d59d3",
   "metadata": {},
   "outputs": [
    {
     "name": "stdin",
     "output_type": "stream",
     "text": [
      "Add meg a szoveget titkositani: ez az en titkos szovegem\n"
     ]
    },
    {
     "name": "stdout",
     "output_type": "stream",
     "text": [
      "fa ba fo ujulpt tapxfhfn\n"
     ]
    }
   ],
   "source": [
    "szoveg = input(\"Add meg a szoveget titkositani:\")\n",
    "titkos = ''\n",
    "\n",
    "for betu in szoveg:\n",
    "    if betu in abc:\n",
    "        i = (abc[betu] + 1) % len(abc)\n",
    "        titkos += fordito[i]\n",
    "    else:\n",
    "        titkos += betu\n",
    "    \n",
    "print(titkos)"
   ]
  },
  {
   "cell_type": "markdown",
   "id": "cbf88d6a-dd7d-49e6-9147-a7f219a169c6",
   "metadata": {},
   "source": [
    "Sikerült is titkosítanunk először! Viszont mivel függvényekről volt szó, függvényesíteni kellene ezt a kódot.\n",
    "Vágjunk bele, de tegyünk azért néhány pontosítást!\n",
    "- a bevitt szöveget át kell alakítanunk kisbetűsre!\n",
    "- közöljük a felhasználóval, hogy csak az angol abc betűi lesznek titkosítva!\n",
    "- szakszavak (említés)"
   ]
  },
  {
   "cell_type": "code",
   "execution_count": 9,
   "id": "44130a1c-167d-444d-9c8d-20b0c07815a2",
   "metadata": {},
   "outputs": [
    {
     "name": "stdin",
     "output_type": "stream",
     "text": [
      "add meg a titkositando szoveget!  sziasztok, draga pythonosok!\n",
      "add meg a Caesar-kod lepteteset!  3\n"
     ]
    },
    {
     "name": "stdout",
     "output_type": "stream",
     "text": [
      "vcldvcxrn, gudjd sbxkrqrvrn!\n"
     ]
    }
   ],
   "source": [
    "def caesar_encode(text, step):\n",
    "    abc = {\n",
    "        'a' : 0, 'b' : 1, 'c' : 2, 'd' : 3,\n",
    "        'e' : 4, 'f' : 5, 'g' : 6, 'h' : 7, \n",
    "        'i' : 8, 'j' : 9, 'k' : 10, 'l' : 11,\n",
    "        'm' : 12, 'n' : 13, 'o' : 14, 'p' : 15,\n",
    "        'q' : 16, 'r' : 17, 's' : 18, 't' : 19,\n",
    "        'u' : 20, 'v' : 21, 'x' : 22, 'y' : 23,\n",
    "        'z' : 24\n",
    "    }\n",
    "    text = text.lower()\n",
    "    rev_abc = {}\n",
    "    \n",
    "    # abc key-value parok megforditasa\n",
    "    for k, v in abc.items():\n",
    "        rev_abc[v] = k\n",
    "    \n",
    "    encoded_text = ''\n",
    "    for character in text:\n",
    "        if character in abc:\n",
    "            i = (abc[character] + step) % len(abc)\n",
    "            encoded_text += rev_abc[i]\n",
    "        else:\n",
    "            encoded_text += character\n",
    "    return encoded_text\n",
    "    \n",
    "szoveg = input(\"add meg a titkositando szoveget! \")\n",
    "leptetes = int(input(\"add meg a Caesar-kod lepteteset! \"))\n",
    "cyphertext = caesar_encode(szoveg, leptetes)\n",
    "\n",
    "print(cyphertext)"
   ]
  },
  {
   "cell_type": "markdown",
   "id": "e1bf8c3e-cd3d-4319-9560-f829182ec0ba",
   "metadata": {},
   "source": [
    "### A kód visszafejtése\n",
    "A Caesar-kód úgynevezett szimmetrikus kulcsú rejtjelezést jelent, ahol a kulcs nem más, mint a léptetés. A kulcs ismeretében a rejtjel igen könnyen visszafejthető, hiszen csak vissza kell léptetnünk a kódolt szöveget, és megkapjuk az eredeti szöveget. Függvényként ez így néz ki: "
   ]
  },
  {
   "cell_type": "code",
   "execution_count": 58,
   "id": "0dae6109-7d6d-45d1-968f-9c6e605083e4",
   "metadata": {},
   "outputs": [
    {
     "name": "stdout",
     "output_type": "stream",
     "text": [
      "sziasztok draga pythonosok!\n"
     ]
    }
   ],
   "source": [
    "def caesar_decode(text, step):\n",
    "    abc = {\n",
    "        'a' : 0, 'b' : 1, 'c' : 2, 'd' : 3,\n",
    "        'e' : 4, 'f' : 5, 'g' : 6, 'h' : 7, \n",
    "        'i' : 8, 'j' : 9, 'k' : 10, 'l' : 11,\n",
    "        'm' : 12, 'n' : 13, 'o' : 14, 'p' : 15,\n",
    "        'q' : 16, 'r' : 17, 's' : 18, 't' : 19,\n",
    "        'u' : 20, 'v' : 21, 'x' : 22, 'y' : 23,\n",
    "        'z' : 24\n",
    "    }\n",
    "    text = text.lower()\n",
    "    rev_abc = {}\n",
    "    \n",
    "    for k, v in abc.items():\n",
    "        rev_abc[v] = k\n",
    "    \n",
    "    decoded_text = ''\n",
    "    for character in text:\n",
    "        if character in abc:\n",
    "            i = (abc[character] - step) % len(abc)\n",
    "            decoded_text += rev_abc[i]\n",
    "        else:\n",
    "            decoded_text += character\n",
    "    return decoded_text\n",
    "\n",
    "uzenet = caesar_decode(cyphertext, leptetes)\n",
    "print(uzenet)"
   ]
  },
  {
   "cell_type": "markdown",
   "id": "d30d81ba-ae5c-47dd-b1a7-919879a6c552",
   "metadata": {},
   "source": [
    "Nem nehéz észrevenni, hogy a két függvény majdhogynem ugyanaz. A kódolás és a dekódolás algoritmusa lényegében ugyanaz. Biztos, hogy kell nekünk ez a két függvény? Egy harmadik paraméter bevezetésével gyakorlatilag kiváltható!"
   ]
  },
  {
   "cell_type": "code",
   "execution_count": 11,
   "id": "77138e35-687c-4971-821d-4f4aad6dfa0f",
   "metadata": {},
   "outputs": [
    {
     "name": "stdin",
     "output_type": "stream",
     "text": [
      "add meg a szoveget! sziasztok draga pythonosok!\n",
      "add meg a kulcsszamot! 3\n"
     ]
    },
    {
     "name": "stdout",
     "output_type": "stream",
     "text": [
      "a kodolt szoveg:\n",
      "vcldvcxrn gudjd sbxkrqrvrn!\n",
      "a visszafejtese:\n",
      "sziasztok draga pythonosok!\n"
     ]
    }
   ],
   "source": [
    "def caesar_cypher(text, step, backward=False):  # caesar_cypher(\"ez a szoveg\", 3) | caesar_cypher(\"ez a szoveg\", 3, True)\n",
    "  \n",
    "    abc = {\n",
    "        'a' : 0, 'b' : 1, 'c' : 2, 'd' : 3,\n",
    "        'e' : 4, 'f' : 5, 'g' : 6, 'h' : 7, \n",
    "        'i' : 8, 'j' : 9, 'k' : 10, 'l' : 11,\n",
    "        'm' : 12, 'n' : 13, 'o' : 14, 'p' : 15,\n",
    "        'q' : 16, 'r' : 17, 's' : 18, 't' : 19,\n",
    "        'u' : 20, 'v' : 21, 'x' : 22, 'y' : 23,\n",
    "        'z' : 24\n",
    "    }\n",
    "    text = text.lower()\n",
    "    rev_abc = {}\n",
    "    \n",
    "    for k, v in abc.items():\n",
    "        rev_abc[v] = k\n",
    "    \n",
    "    cyphertext = ''\n",
    "    for character in text:\n",
    "        if character in abc:\n",
    "            if backward:\n",
    "                i = (abc[character] - step) % len(abc)\n",
    "            else:\n",
    "                i = (abc[character] + step) % len(abc)\n",
    "            cyphertext += rev_abc[i]\n",
    "        else:\n",
    "            cyphertext += character\n",
    "    return cyphertext\n",
    "\n",
    "in_text = input(\"add meg a szoveget!\")\n",
    "key = int(input(\"add meg a kulcsszamot!\"))\n",
    "coded_text = caesar_cypher(in_text, key)\n",
    "print(\"a kodolt szoveg:\")\n",
    "print(coded_text)\n",
    "print(\"a visszafejtese:\")\n",
    "print(caesar_cypher(coded_text, key, True))"
   ]
  },
  {
   "cell_type": "markdown",
   "id": "0b964817-6d50-4a24-bf90-a8b634eb6af8",
   "metadata": {},
   "source": [
    "### A kód feltörése\n",
    "A Caesar-kód egy úgynevezett szimmetrikus kulcsú rejtjelezési technika, tehát a feltöréséhez elegendő a kulcs és a rejtjelező algoritmus ismerete. Ez azonban önmagában még nem jelenti azt, hogy ne lenne biztonságos, mivel a kriptográfiában a legfontosabb, hogy egy kód mennyi idő alatt törhető fel - az idő pedig a mai számítási kapacitás mellett - nem sok, ha belegondolunk abba, hogy ezzel az eljárással hányféle kombináció állítható elő. Mivel az abc csak annyi változatban tolható el, ahány betűből áll, így belátható, hogy azért ezzel titkosítani nem életbiztosítás, enyhe kifejezés, ugyanis a kipróbálható lehetőségek száma meglehetősen korlátozott.\n",
    "\n",
    "#### Brute force\n",
    "Amikor egy titkosított szöveget megpróbálunk feltörni, gyakran célravezető szimmetrikus kódolású rejtjeleknél a brute force nevű eljárás, ami szó szerint erővel feltörést jelent, vagyis azt, hogy kipróbáljuk az összes lehetőséget - amely mindig a meghatározott abc hossza lesz."
   ]
  },
  {
   "cell_type": "code",
   "execution_count": 76,
   "id": "6e6904e6-b6ab-4a11-8f0d-c2450aa12c05",
   "metadata": {},
   "outputs": [
    {
     "name": "stdout",
     "output_type": "stream",
     "text": [
      "0.: cirjcidyt mbjpj zhdqyxycyt!\n",
      "1.: bhqibhcxs laioi ygcpxvxbxs!\n",
      "2.: agphagbvr kzhnh xfbovuvavr!\n",
      "3.: zfogzfauq jygmg veanutuzuq!\n",
      "4.: yenfyeztp ixflf udzmtstytp!\n",
      "5.: xdmexdyso hveke tcylsrsxso!\n",
      "6.: vcldvcxrn gudjd sbxkrqrvrn!\n",
      "7.: ubkcubvqm ftcic ravjqpquqm!\n",
      "8.: tajbtaupl esbhb qzuipoptpl!\n",
      "9.: sziasztok draga pythonosok!\n",
      "10.: ryhzrysnj cqzfz oxsgnmnrnj!\n",
      "11.: qxgyqxrmi bpyey nvrfmlmqmi!\n",
      "12.: pvfxpvqlh aoxdx muqelklplh!\n",
      "13.: ouevoupkg znvcv ltpdkjkokg!\n",
      "14.: ntduntojf ymubu ksocjijnjf!\n",
      "15.: msctmsnie xltat jrnbihimie!\n",
      "16.: lrbslrmhd vkszs iqmahghlhd!\n",
      "17.: kqarkqlgc ujryr hplzgfgkgc!\n",
      "18.: jpzqjpkfb tiqxq gokyfefjfb!\n",
      "19.: ioypiojea shpvp fnjxedeiea!\n",
      "20.: hnxohnidz rgouo emivdcdhdz!\n",
      "21.: gmvngmhcy qfntn dlhucbcgcy!\n",
      "22.: flumflgbx pemsm ckgtbabfbx!\n",
      "23.: ektlekfav odlrl bjfsazaeav!\n",
      "24.: djskdjezu nckqk aierzyzdzu!\n"
     ]
    }
   ],
   "source": [
    "for i in range(len(abc)):\n",
    "    print(f\"{i}.: {caesar_cypher(coded_text, i, True)}\")"
   ]
  },
  {
   "cell_type": "markdown",
   "id": "6151e87a-ec6b-4b4d-80b3-8b91a8373e2a",
   "metadata": {},
   "source": [
    "### Scope, és új ábécé\n",
    "Hogy jön ide a korábban említett scope?\n",
    "Tegyük fel, hogy szeretnénk több ábécét is használni, például a magyart!"
   ]
  },
  {
   "cell_type": "code",
   "execution_count": 13,
   "id": "fcc03412-2735-4389-95d4-e572d7c0dc42",
   "metadata": {},
   "outputs": [
    {
     "name": "stdout",
     "output_type": "stream",
     "text": [
      "ó, vcldvcxrn, guájd sbxkrqrvrn!\n"
     ]
    }
   ],
   "source": [
    "magyar_abc = {\n",
    "    'a':0, 'á': 1, 'b': 2, 'c': 3, 'd': 4,\n",
    "    'e': 5, 'é': 6, 'f': 7, 'g': 8, 'h': 9,\n",
    "    'i': 10, 'í': 11, 'j': 12, 'k': 13, 'l': 14,\n",
    "    'm': 15, 'n': 16, 'o': 17, 'ó': 18, 'ö': 19,\n",
    "    'ő': 20, 'p': 21, 'q': 22, 'r': 23, 's': 24,\n",
    "    't': 25, 'u': 26, 'ú': 27, 'ü': 28, 'ű': 29,\n",
    "    'v': 30, 'w': 31, 'x': 32, 'y': 33, 'z': 34\n",
    "}\n",
    "\n",
    "print(caesar_cypher('Ó, sziasztok, drága pythonosok!', 3))"
   ]
  },
  {
   "cell_type": "markdown",
   "id": "ad118de7-bb9b-406e-b759-137bce3f992c",
   "metadata": {},
   "source": [
    "Látható, hogy az ékezetes karakterek nem váltanak át, **ennek az oka pedig pontosan a scoping.** A külsőleg definiált magyar ábécé nem írja felül a függvényben lokálisan használt abc-t. \n",
    "\n",
    "Hogy mit lehet ilyen esetben tenni?\n",
    "- Áírhatjuk a függvényünket, hogy mostantól a magyar ábécét használja, így nem kell azt kívülről definiálnunk. Ennek a hátránya, hogy a függvényünk csak egyféle ábécét tud kezelni, és akármikor váltunk, át kell írni.\n",
    "- Átadhatjuk paraméterként a felhasznált karakterkészletet is, így nyerünk némi rugalmasságot. Itt is érdemes elgondolkodni azon, hogy lehet egy alapértelmezett angol ábécénk definiálva."
   ]
  },
  {
   "cell_type": "code",
   "execution_count": 15,
   "id": "9bdb15f9-7259-4824-ae7d-4b93184b0243",
   "metadata": {},
   "outputs": [
    {
     "name": "stdout",
     "output_type": "stream",
     "text": [
      "p, úbkcúbüőn, fudíc sáüjőöőúőn!\n",
      "r, vcldvcxrn, gudjd sbxkrqrvrn!\n"
     ]
    }
   ],
   "source": [
    "def caesar_cypher(text, step, \n",
    "                  backward=False,\n",
    "                  abc = {\n",
    "                    'a' : 0, 'b' : 1, 'c' : 2, 'd' : 3,\n",
    "                    'e' : 4, 'f' : 5, 'g' : 6, 'h' : 7, \n",
    "                    'i' : 8, 'j' : 9, 'k' : 10, 'l' : 11,\n",
    "                    'm' : 12, 'n' : 13, 'o' : 14, 'p' : 15,\n",
    "                    'q' : 16, 'r' : 17, 's' : 18, 't' : 19,\n",
    "                    'u' : 20, 'v' : 21, 'x' : 22, 'y' : 23,\n",
    "                    'z' : 24\n",
    "                    }\n",
    "                 ):  \n",
    "  \n",
    "    text = text.lower()\n",
    "    rev_abc = {}\n",
    "    \n",
    "    for k, v in abc.items():\n",
    "        rev_abc[v] = k\n",
    "    \n",
    "    cyphertext = ''\n",
    "    for character in text:\n",
    "        if character in abc:\n",
    "            if backward:\n",
    "                i = (abc[character] - step) % len(abc)\n",
    "            else:\n",
    "                i = (abc[character] + step) % len(abc)\n",
    "            cyphertext += rev_abc[i]\n",
    "        else:\n",
    "            cyphertext += character\n",
    "    return cyphertext\n",
    "\n",
    "print(caesar_cypher('Ó, sziasztok, drága pythonosok!', 3, False, magyar_abc))\n",
    "print(caesar_cypher('O, sziasztok, draga pythonosok!', 3))"
   ]
  },
  {
   "cell_type": "markdown",
   "id": "df0afb7a-3be2-46a1-879d-935f0d532470",
   "metadata": {},
   "source": [
    "## `**kwargs`, key-word arguments\n",
    "A fenti függvény már egész sokat tud, viszont a paraméterlistája egyre hosszabbra nyúlik, ráadásul nem szép és nehezen is olvasható az abc default értékének deklarálása. A sokparaméteres, komplex függvények írásának segítésére létezik a Pythonban a **keyword arguments, vagy kwargs** deklaráció, amely egy dictionaryben tárol el bármilyen opcionális argumentumot!\n",
    "\n",
    "A kwargokat mindig úgy deklaráljuk, hogy elé két csillag operátort teszünk! A `**kwargs` elnevezés opcionális, bárminek nevezhetjük, azonban egy elég általános konvenció a `**kwargs` megnevezés. **A `**kwargs` mindig a paraméterlistát követi, előtte használva hibát kapunk!**"
   ]
  },
  {
   "cell_type": "code",
   "execution_count": 18,
   "id": "11fca9ab-1a40-40d8-bd3c-b3213395853b",
   "metadata": {},
   "outputs": [
    {
     "name": "stdout",
     "output_type": "stream",
     "text": [
      "random\n",
      "arg1 : hello\n",
      "arg2 : draga\n",
      "arg3 : urak\n",
      "kiskutya : 101\n",
      "random2\n"
     ]
    },
    {
     "ename": "TypeError",
     "evalue": "test_not_kwargs() got an unexpected keyword argument 'arg1'",
     "output_type": "error",
     "traceback": [
      "\u001b[1;31m---------------------------------------------------------------------------\u001b[0m",
      "\u001b[1;31mTypeError\u001b[0m                                 Traceback (most recent call last)",
      "\u001b[1;32m<ipython-input-18-176eb50c692a>\u001b[0m in \u001b[0;36m<module>\u001b[1;34m\u001b[0m\n\u001b[0;32m     10\u001b[0m     \u001b[0mprint\u001b[0m\u001b[1;33m(\u001b[0m\u001b[0mtext\u001b[0m\u001b[1;33m)\u001b[0m\u001b[1;33m\u001b[0m\u001b[1;33m\u001b[0m\u001b[0m\n\u001b[0;32m     11\u001b[0m \u001b[1;33m\u001b[0m\u001b[0m\n\u001b[1;32m---> 12\u001b[1;33m \u001b[0mtest_not_kwargs\u001b[0m\u001b[1;33m(\u001b[0m\u001b[1;34m\"sziasztok\"\u001b[0m\u001b[1;33m,\u001b[0m \u001b[0marg1\u001b[0m\u001b[1;33m=\u001b[0m\u001b[1;34m\"nemtom\"\u001b[0m\u001b[1;33m,\u001b[0m \u001b[0marg2\u001b[0m\u001b[1;33m=\u001b[0m\u001b[1;34m\"valami\"\u001b[0m\u001b[1;33m,\u001b[0m \u001b[0mkiskutya\u001b[0m\u001b[1;33m=\u001b[0m\u001b[1;36m1032\u001b[0m\u001b[1;33m)\u001b[0m\u001b[1;33m\u001b[0m\u001b[1;33m\u001b[0m\u001b[0m\n\u001b[0m",
      "\u001b[1;31mTypeError\u001b[0m: test_not_kwargs() got an unexpected keyword argument 'arg1'"
     ]
    }
   ],
   "source": [
    "def test_kwargs(text, **kwargs):\n",
    "    print(text)\n",
    "    for k,v in kwargs.items():\n",
    "        print(k, ':', v)\n",
    "        \n",
    "test_kwargs(\"random\", arg1=\"hello\", arg2=\"draga\", arg3=\"urak\", kiskutya=101)\n",
    "test_kwargs(\"random2\")\n",
    "\n",
    "def test_not_kwargs(text):\n",
    "    print(text)\n",
    "    \n",
    "test_not_kwargs(\"sziasztok\", arg1=\"nemtom\", arg2=\"valami\", kiskutya=1032)"
   ]
  },
  {
   "cell_type": "markdown",
   "id": "b6e51e7f-847b-4628-874b-162a94abd9ed",
   "metadata": {},
   "source": [
    "Ennek alapján egészen könnyen kezelhetőre átírhatjuk a Caesar-sifrénket előállító függvényt! Tegyük key word argumentté viszont az irányt is!"
   ]
  },
  {
   "cell_type": "code",
   "execution_count": 104,
   "id": "c315aa3b-c851-40b9-bee1-7bc98aa6a4ed",
   "metadata": {},
   "outputs": [
    {
     "name": "stdout",
     "output_type": "stream",
     "text": [
      "p, úbkcúbüőn, fudíc sáüjőöőúőn!\n",
      "m, pwfxpwqli, áőyex óvqélklpli!\n",
      "r, vcldvcxrn, gudjd sbxkrqrvrn!\n",
      "l, pvfxpvqlh, aoxdx muqelklplh!\n"
     ]
    }
   ],
   "source": [
    "def caesar_cypher(text, step, **kwargs):\n",
    "\n",
    "    if 'backwards' in kwargs and kwargs['backwards'] == True:\n",
    "        step *= -1\n",
    "    if 'abc' in kwargs:\n",
    "        abc = kwargs['abc']\n",
    "    else:\n",
    "        abc = {\n",
    "                    'a' : 0, 'b' : 1, 'c' : 2, 'd' : 3,\n",
    "                    'e' : 4, 'f' : 5, 'g' : 6, 'h' : 7, \n",
    "                    'i' : 8, 'j' : 9, 'k' : 10, 'l' : 11,\n",
    "                    'm' : 12, 'n' : 13, 'o' : 14, 'p' : 15,\n",
    "                    'q' : 16, 'r' : 17, 's' : 18, 't' : 19,\n",
    "                    'u' : 20, 'v' : 21, 'x' : 22, 'y' : 23,\n",
    "                    'z' : 24\n",
    "                }\n",
    "    text = text.lower()\n",
    "    rev_abc = {}\n",
    "    \n",
    "    for k, v in abc.items():\n",
    "        rev_abc[v] = k\n",
    "    \n",
    "    cyphertext = ''\n",
    "    for character in text:\n",
    "        if character in abc:\n",
    "            i = (abc[character] + step) % len(abc)\n",
    "            cyphertext += rev_abc[i]\n",
    "        else:\n",
    "            cyphertext += character\n",
    "    return cyphertext\n",
    "\n",
    "print(caesar_cypher('Ó, sziasztok, drága pythonosok!', 3, abc=magyar_abc))\n",
    "print(caesar_cypher('Ó, sziasztok, drága pythonosok!', 3, abc=magyar_abc, backwards=True))\n",
    "print(caesar_cypher('O, sziasztok, draga pythonosok!', 3))\n",
    "print(caesar_cypher('O, sziasztok, draga pythonosok!', 3, backwards=True))"
   ]
  },
  {
   "cell_type": "markdown",
   "id": "69cc4572-0ffe-42c2-82f0-9acce39aba63",
   "metadata": {},
   "source": [
    "### `*args` - tetszőleges mennyiségű standard argumentum\n",
    "\n",
    "Olyan függvények, mint a `print()` azonos típusból végtelen argumentummal rendelkezhetnek, egymás után mind kiírásra kerül. Ugyanis a * operátorral a változó név elején deklarálhatunk lista típusú változókat, majd a lista elemeit egyszerű felsorolással odaadhatjuk a függvénynek. Az `*args` minden esetben a `**kwargs` előtt helyezkedik el!"
   ]
  },
  {
   "cell_type": "code",
   "execution_count": 21,
   "id": "57d8db74-030f-4dd2-a26f-56fff1895a1d",
   "metadata": {},
   "outputs": [
    {
     "name": "stdout",
     "output_type": "stream",
     "text": [
      "10\n",
      "55\n",
      "95162\n"
     ]
    }
   ],
   "source": [
    "def osszead(*args):\n",
    "    osszeg = 0\n",
    "    for a in args:\n",
    "        osszeg += a\n",
    "    return osszeg\n",
    "\n",
    "print(osszead(2,3,5))\n",
    "print(osszead(1,2,3,4,5,6,7,8,9,10))\n",
    "print(osszead(3,7,6,3,4,67435,3232,674,23675,123))"
   ]
  },
  {
   "cell_type": "markdown",
   "id": "287536e8-2d9e-4585-9b51-bef6a6ff31fa",
   "metadata": {},
   "source": [
    "### A kódolás lehet bonyolultabb is\n",
    "Klasszikus trükkje a rejtjelezőnek, hogy valamilyen egyéb kulccsal vagy szabállyal bonyolít egy egyszerű Caesar-kódot, ezzel növelve a lehetőségek számát. Természetesen ettől a rejtjel sokkal erősebb nem lesz, hiszen legfeljebb több részletben válik a szöveg olvashatóvá, de végső soron ez a nehezítés minimális. Azokban az időkben viszont, amikor még nem ismerték a számítógépeket, igenis előnyt jelentett az az idő is, míg akár szavanként vagy kisebb részletekben visszaforgatták a szöveget, így azért érdemes nekünk is kipróbálni, új ismereteink segítségével. További újdonság, hogy függvénnyel fogunk függvényt hívni, ami nagyban hozzásegít a valóban moduláris, könnyen olvasható és javítható kódhoz!\n",
    "\n",
    "A lenti függvény bármennyi stringet fogad, minden rész-stringet pedig a saját hosszával tol el a titkosításhoz.\n",
    "Lentebb látható, hogy brute force módszerrel a valódi kulcs ismerete nélkül is könnyen törhető a sifre, a sorok közt valahol mindenütt megtalálható az eredeti szó, amelyből aztán össze lehet rakni az eredeti szöveget."
   ]
  },
  {
   "cell_type": "code",
   "execution_count": 111,
   "id": "1a5dc09a-7eb8-4122-a78e-50623f139b8d",
   "metadata": {},
   "outputs": [
    {
     "name": "stdout",
     "output_type": "stream",
     "text": [
      "djskdjezu odlrl gdlty rg ucztlrva!\n",
      "djskdjezu odlrl gdlty rg ucztlrva!\n",
      "cirjcidyt nckqk fcksx qf tbyskquz!\n",
      "bhqibhcxs mbjpj ebjrv pe saxrjpty!\n",
      "agphagbvr laioi daiqu od rzvqiosx!\n",
      "zfogzfauq kzhnh czhpt nc qyuphnrv!\n",
      "yenfyeztp jygmg bygos mb pxtogmqu!\n",
      "xdmexdyso ixflf axfnr la ovsnflpt!\n",
      "vcldvcxrn hveke zvemq kz nurmekos!\n",
      "ubkcubvqm gudjd yudlp jy mtqldjnr!\n",
      "tajbtaupl ftcic xtcko ix lspkcimq!\n",
      "sziasztok esbhb vsbjn hv krojbhlp!\n",
      "ryhzrysnj draga uraim gu jqniagko!\n",
      "qxgyqxrmi cqzfz tqzhl ft ipmhzfjn!\n",
      "pvfxpvqlh bpyey spygk es holgyeim!\n",
      "ouevoupkg aoxdx roxfj dr gnkfxdhl!\n",
      "ntduntojf znvcv qnvei cq fmjevcgk!\n",
      "msctmsnie ymubu pmudh bp elidubfj!\n",
      "lrbslrmhd xltat oltcg ao dkhctaei!\n",
      "kqarkqlgc vkszs nksbf zn cjgbszdh!\n",
      "jpzqjpkfb ujryr mjrae ym bifarycg!\n",
      "ioypiojea tiqxq liqzd xl ahezqxbf!\n",
      "hnxohnidz shpvp khpyc vk zgdypvae!\n",
      "gmvngmhcy rgouo jgoxb uj yfcxouzd!\n",
      "flumflgbx qfntn ifnva ti xebvntyc!\n",
      "ektlekfav pemsm hemuz sh vdaumsxb!\n"
     ]
    }
   ],
   "source": [
    "def encrypt_per_text_length(*text):\n",
    "    cyphertext = ''\n",
    "    for t in text:\n",
    "        cyphertext += caesar_cypher(t,len(t))\n",
    "    return cyphertext\n",
    "\n",
    "mult_enc = encrypt_per_text_length('sziasztok ', 'draga uraim', ' es holgyeim!')\n",
    "print(mult_enc)\n",
    "\n",
    "for i in range(25):\n",
    "    temp_cypher = caesar_cypher(mult_enc, i, backwards=True)\n",
    "    print(temp_cypher)"
   ]
  },
  {
   "cell_type": "markdown",
   "id": "02355ecd-6699-4d6a-8de3-947e97f63425",
   "metadata": {},
   "source": [
    "## Házi feladat\n",
    "1. wéőfői nk, kpjb pnődíq tülzhmyyms óhűű fá á vetáíl ápásüaqáéí!\n",
    "2. lomygőzyk mj á ómődmc_ókásőc() nboodmtfz wjb, kpjb őjéjpöj á úíöhknáesná kú!"
   ]
  }
 ],
 "metadata": {
  "kernelspec": {
   "display_name": "Python 3",
   "language": "python",
   "name": "python3"
  },
  "language_info": {
   "codemirror_mode": {
    "name": "ipython",
    "version": 3
   },
   "file_extension": ".py",
   "mimetype": "text/x-python",
   "name": "python",
   "nbconvert_exporter": "python",
   "pygments_lexer": "ipython3",
   "version": "3.9.2"
  }
 },
 "nbformat": 4,
 "nbformat_minor": 5
}
