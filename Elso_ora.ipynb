{
 "cells": [
  {
   "cell_type": "markdown",
   "id": "9e47b855-ea55-4c42-83c5-5cae9588403f",
   "metadata": {},
   "source": [
    "# Első lecke\n",
    "\n",
    "## Tematika\n",
    "\n",
    "1. Alapvető aritmetikai műveletek (integer és float)\n",
    "2. Terminal, Interactive shell\n",
    "3. Változók, alapvető típusok (char, string, integer és float)\n",
    "4. Két egyszerű, beépített függvény, a print() és az input(), típuskonvertáló függvények."
   ]
  },
  {
   "cell_type": "markdown",
   "id": "aab1b0f4-e27c-476c-aa9e-21cd526a281c",
   "metadata": {},
   "source": [
    "## Alapvető aritmetikai műveletek\n",
    "A Pythonban alapértelmezetten a következő aritmetikai műveletek vannak értelmezve:\n",
    "- összeadás `+`, kivonás `-`, \n",
    "- szorzás `*`, hatványozás `**`\n",
    "- osztás `/`, egész osztás `//`\n",
    "- modulus `%` (maradékképzés)\n",
    "\n",
    "### Számtípusok jelölése\n",
    "A Python az egész típusú számok és a törtek között tesz alapvetően különbséget (léteznek komplex számok is típusként).\n",
    "A legfontosabb különbség köztük, hogy a memóriában másképp tárolódnak, ezért egy egész értékű, de tört típusú szám is tizedesjeggyel lesz kiírva.\n",
    "Az egész típusú számokat *integer*-nek, a törteket *float*-nak (lebegőpontosnak, bővebben [wikipedián](https://hu.wikipedia.org/wiki/Lebeg%C5%91pontos_sz%C3%A1m%C3%A1br%C3%A1zol%C3%A1s)) hívjuk."
   ]
  },
  {
   "cell_type": "code",
   "execution_count": 6,
   "id": "03389438-77d1-4f8b-a7a5-7695b13b3cb8",
   "metadata": {},
   "outputs": [
    {
     "data": {
      "text/plain": [
       "10"
      ]
     },
     "execution_count": 6,
     "metadata": {},
     "output_type": "execute_result"
    }
   ],
   "source": [
    "# kommentek a kódban <- ezt biztos \"nem nézi a fordító\" (kivétel: típus kommentek, erről bővebben sokkal később)\n",
    "'''\n",
    "Több soros komment / comment block\n",
    "Itt több sorban lehet írni kommentet\n",
    "'''\n",
    "\n",
    "# egyszerű aritmetikai műveletek\n",
    "#összeadás\n",
    "5+5"
   ]
  },
  {
   "cell_type": "code",
   "execution_count": 8,
   "id": "96f34757-e70d-45fb-9af3-bdece1a6ef88",
   "metadata": {},
   "outputs": [
    {
     "data": {
      "text/plain": [
       "18.0"
      ]
     },
     "execution_count": 8,
     "metadata": {},
     "output_type": "execute_result"
    }
   ],
   "source": [
    "# műveleti sorrend, szorzás, osztás, zárójelek -> 6/2=3, 3+3=6, 6*3=18\n",
    "3*(3+6/2)\n",
    "# a visszakapott 18.0 egy tizedesjeggyel, az osztás eredménye automatikusan mindig float típusú lesz."
   ]
  },
  {
   "cell_type": "code",
   "execution_count": 9,
   "id": "5fa8b52e-5eaa-49c6-8ef8-2b091f1f60fc",
   "metadata": {},
   "outputs": [
    {
     "data": {
      "text/plain": [
       "14.0"
      ]
     },
     "execution_count": 9,
     "metadata": {},
     "output_type": "execute_result"
    }
   ],
   "source": [
    "# a típus a müveleti láncban 'öröklődik', ha egyszer integerről floatra váltott, akkor már azzal számol tovább a rendszer\n",
    "3*(3+6/2)-2**2"
   ]
  },
  {
   "cell_type": "code",
   "execution_count": 10,
   "id": "c8ad96e6-b6e8-4858-b63b-16541ad2f7e3",
   "metadata": {},
   "outputs": [
    {
     "data": {
      "text/plain": [
       "6"
      ]
     },
     "execution_count": 10,
     "metadata": {},
     "output_type": "execute_result"
    }
   ],
   "source": [
    "# az egész osztás mindig az osztás eredményének egész részét veszi:\n",
    "13//2"
   ]
  },
  {
   "cell_type": "code",
   "execution_count": 3,
   "id": "ee245ef9-0b87-443e-9534-56df8fe523c0",
   "metadata": {},
   "outputs": [
    {
     "data": {
      "text/plain": [
       "1"
      ]
     },
     "execution_count": 3,
     "metadata": {},
     "output_type": "execute_result"
    }
   ],
   "source": [
    "# a maradékképzés a következőképp történik:\n",
    "13%2\n",
    "# 13 osztva kettővel = 6, maradék: 1"
   ]
  },
  {
   "cell_type": "markdown",
   "id": "3f5b1c10-4710-4a57-bd5e-90e2c16440d7",
   "metadata": {},
   "source": [
    "## Interactive shell\n",
    "A PyCharm felületén a bal alsó sarokban található egy **Terminal** feliratú gomb. Ezt megnyitva megnyílik egy parancssor, amely alapvetően ugyanazzal a funkcionalitással bír, mint a standard Windows command line vagy Bash shell. Próbáljunk ki egy egyszerű Python parancsot!\n",
    "\n",
    "Ellenőrizzük a futó Python verziót: \n",
    "```\n",
    "C:\\Users\\user\\PycharmProjects\\jupyter-test>python -V\n",
    "```\n",
    "A shell válaszában visszatér a virtuális környezetünkben futó Python verzió.\n",
    "```\n",
    "Python 3.9.2\n",
    "```\n",
    "\n",
    "Néhány szó a Python interactive shellről: hasonlóan a Jupyter Notebookhoz, a Python interactive shellben egyszerűbb, rövidebb programozási feladatokat tudunk kipróbálni anélkül, hogy valódi programot írnánk (amiket fájlokba fogunk majd írni). Az interactive shell lehetőséget ad elég sok mindenre, azonban komplexebb problémák megoldása nehézkesebb, mint ha fájlokba dolgozva írnánk programjainkat. Ennek ellenére hasznos eszköz tud lenni arra, hogy kipróbáljunk rövid kódrészleteket, illetve a jövőben gyakran hasznos lehet teszteléshez, külső libraryk funkcionalitásának kipróbálására stb.\n",
    "\n",
    "A shell megnyitásához egyszerűen írjuk be a terminálba:\n",
    "```\n",
    "C:\\Users\\user\\PycharmProjects\\jupyter-test>python\n",
    "```\n",
    "\n",
    "Ennek hatására megnyílik az interactive shell. Ehhez hasonló állapothoz kell jutnunk:\n",
    "```\n",
    "Python 3.9.2 (tags/v3.9.2:1a79785, Feb 19 2021, 13:44:55) [MSC v.1928 64 bit (AMD64)] on win32\n",
    "Type \"help\", \"copyright\", \"credits\" or \"license\" for more information.\n",
    ">>>\n",
    "```\n",
    "A három relációs jel után pedig egy blokk-kurzor fog villogni, ahova már tudjuk is gépelni a Python kódot!\n",
    "\n",
    "---\n",
    "### Feladatok\n",
    "1. Próbáld ki a shell által javasolt `help`, `copyright`, `credits` és `license` parancsokat!\n",
    "2. A notebook fentebbi kódrészleteit (kommentek nélkül) próbáld ki az interactive shellben!\n",
    "---\n",
    "\n",
    "### Kilépés a shellből\n",
    "Ahhoz, hogy visszalépjünk a parancssorba, ki kell lépni a shellből.\n",
    "1. `ctrl+z` billentyűkombináció, majd az `Enter` / `return` gomb lenyomása\n",
    "2. a `quit()` függvény használata. Hogy miért kellenek a zárójelek, illetve mitől függvény ez, meg egyáltalán mik a függvények, hamarosan szó lesz. **Mini-feladat:** próbáld ki, mi történik, ha zárójel nélkül használod a `quit` parancsot!\n"
   ]
  },
  {
   "cell_type": "markdown",
   "id": "a35d31b3-68be-4700-991c-028e38ae7f15",
   "metadata": {},
   "source": [
    "## Változók, alaptípusok\n",
    "A változók minden programozási nyelv alapjai. Lényegében arról van szó, hogy egy változó adatot tud tárolni, ez az adat lehet egy szám, egy szöveg, vagy egy művelet eredménye - ez utóbbi lesz a későbbiekben a legfontosabb tulajdonságuk, ugyanis olyan adatokat tudunk bennük tárolni, amely adatok értékeit nem tudjuk, hanem a processzor fogja nekünk kiszámolni.\n",
    "\n",
    "De hogy mennyire egyszerű is ez, lássunk egy példát:"
   ]
  },
  {
   "cell_type": "code",
   "execution_count": 5,
   "id": "2de85298-4534-45e8-bba3-a45ea7ae9360",
   "metadata": {},
   "outputs": [
    {
     "data": {
      "text/plain": [
       "37.877"
      ]
     },
     "execution_count": 5,
     "metadata": {},
     "output_type": "execute_result"
    }
   ],
   "source": [
    "# változó neve lényegében lehet bármi, bár vannak konvenciók az elnevezéssel kapcsolatban. Erről később.\n",
    "# a változó neve a, és rögtön értéket is adunk neki, ötöt egész számként\n",
    "a = 5\n",
    "# hozzunk létre egy b-t! legyen tört, mondjuk 32.877\n",
    "b = 32.877\n",
    "# nézzük meg, mennyi a + b!\n",
    "a + b"
   ]
  },
  {
   "cell_type": "code",
   "execution_count": 6,
   "id": "5f603035-1808-4903-a333-0eba8bb0e3ca",
   "metadata": {},
   "outputs": [
    {
     "data": {
      "text/plain": [
       "0.5189873417721519"
      ]
     },
     "execution_count": 6,
     "metadata": {},
     "output_type": "execute_result"
    }
   ],
   "source": [
    "# hasonló helyzet, kicsit más értékekkel:\n",
    "a = 12.3\n",
    "b = 23.7\n",
    "# viszont mi lenne, ha egy harmadik változóban tárolnánk el a két szám hányadát?\n",
    "c = a / b\n",
    "# ha eddig futtatjuk, a változók megkapják az értéküket, de a shell nem fog értéket visszaadni, így:\n",
    "c"
   ]
  },
  {
   "cell_type": "code",
   "execution_count": 8,
   "id": "ec0713e2-11fa-4a21-86f0-3151e3de8c48",
   "metadata": {},
   "outputs": [
    {
     "data": {
      "text/plain": [
       "-11.885840321113452"
      ]
     },
     "execution_count": 8,
     "metadata": {},
     "output_type": "execute_result"
    }
   ],
   "source": [
    "# természetesen a helyzet korlátlanul bonyolítható:\n",
    "a = 30\n",
    "b = 43\n",
    "c = (a + b)/a\n",
    "c - a + b**c % a"
   ]
  },
  {
   "cell_type": "markdown",
   "id": "bcc5ed0d-d704-4815-9609-408873eceedd",
   "metadata": {},
   "source": [
    "## Alap változó típusok\n",
    "Ahogy korábban szó volt arról, a számok lehetnek integerek és floatok. Természetesen ennél sokkal több adattípus létezik, amelyek közül a legáltalánosabb a **string**, vagyis a szöveges változó. Próbáljuk ki!"
   ]
  },
  {
   "cell_type": "code",
   "execution_count": 9,
   "id": "4c93e2e4-ecfe-4dc4-9b6f-2235c33f8321",
   "metadata": {},
   "outputs": [
    {
     "ename": "NameError",
     "evalue": "name 'Lacika' is not defined",
     "output_type": "error",
     "traceback": [
      "\u001b[1;31m---------------------------------------------------------------------------\u001b[0m",
      "\u001b[1;31mNameError\u001b[0m                                 Traceback (most recent call last)",
      "\u001b[1;32m<ipython-input-9-974e9cdc5c05>\u001b[0m in \u001b[0;36m<module>\u001b[1;34m\u001b[0m\n\u001b[1;32m----> 1\u001b[1;33m \u001b[0mnev\u001b[0m \u001b[1;33m=\u001b[0m \u001b[0mLacika\u001b[0m\u001b[1;33m\u001b[0m\u001b[1;33m\u001b[0m\u001b[0m\n\u001b[0m",
      "\u001b[1;31mNameError\u001b[0m: name 'Lacika' is not defined"
     ]
    }
   ],
   "source": [
    "nev = Lacika"
   ]
  },
  {
   "cell_type": "markdown",
   "id": "46d94058-9102-416b-8097-2b5e0c09ae74",
   "metadata": {},
   "source": [
    "**A fordító magától nem fogja tudni, ha simán beírunk egy szöveget, hogy nem egy változónévről van szó, ezért kiabál is nekünk egy NameError típusú hibaüzenettel!** *(a hibaüzenetkről is lesz még szó a nem is olyan távoli jövőben)*\n",
    "\n",
    "Ahhoz, hogy a fordító tudja, hogy szöveget, stringet adunk meg, azt aposztrófok vagy idézőjelek között kell megadnunk. **Alap esetben mindegy, hogy 'aposztrófot' vagy \"idézőjelet\" használunk, amíg párban használjuk őket!** Lesznek majd speciális esetek, ahol számítani fog, hogy mit használunk, de egyelőre inkább próbáljuk ki!"
   ]
  },
  {
   "cell_type": "code",
   "execution_count": 10,
   "id": "3365f70e-275a-4496-bb9d-935b2bbd588e",
   "metadata": {},
   "outputs": [
    {
     "data": {
      "text/plain": [
       "'Lacika'"
      ]
     },
     "execution_count": 10,
     "metadata": {},
     "output_type": "execute_result"
    }
   ],
   "source": [
    "nev = \"Lacika\"\n",
    "nev"
   ]
  },
  {
   "cell_type": "code",
   "execution_count": 11,
   "id": "73b1094d-6216-4069-8a8b-62e01906dd6b",
   "metadata": {},
   "outputs": [
    {
     "data": {
      "text/plain": [
       "'Lacika'"
      ]
     },
     "execution_count": 11,
     "metadata": {},
     "output_type": "execute_result"
    }
   ],
   "source": [
    "# próbáljuk ki, hogy működik-e mindenféle verzióban!\n",
    "vezeteknev = 'Tóth'\n",
    "keresztnev = \"Lacika\"\n",
    "\n",
    "vezeteknev\n",
    "keresztnev"
   ]
  },
  {
   "cell_type": "markdown",
   "id": "fe13a8ce-e747-4f77-97b0-41e6a094d0d8",
   "metadata": {},
   "source": [
    "### Az interactive shell egyik limitációja\n",
    "Hoppá, csak Lacikát kaptuk vissza! Ez azért van, mert az Jupyter Notebook és az interactive shell is csak az értket tudja visszaadni (erről is lesz szó, a függvényeknél, türelem) fut, majd abbahagyja a futását. Ez a visszatérési érték jelen esetben a `keresztnev` volt. De vannak különféle megoldások arra, hogy mégis vissza tudjuk adni mindkét értéket!"
   ]
  },
  {
   "cell_type": "code",
   "execution_count": 12,
   "id": "73bd0a0b-4872-4429-b324-560dbb225f4c",
   "metadata": {},
   "outputs": [
    {
     "data": {
      "text/plain": [
       "'TóthLacika'"
      ]
     },
     "execution_count": 12,
     "metadata": {},
     "output_type": "execute_result"
    }
   ],
   "source": [
    "# először nézzük meg, mi történik, ha esetleg megpróbáljuk a két stringet összeadni!\n",
    "vezeteknev = \"Tóth\"\n",
    "keresztnev = \"Lacika\"\n",
    "vezeteknev + keresztnev"
   ]
  },
  {
   "cell_type": "code",
   "execution_count": 13,
   "id": "3788673e-1ff1-4e19-b2ac-578939dc5d76",
   "metadata": {},
   "outputs": [
    {
     "data": {
      "text/plain": [
       "'Tóth Lacika'"
      ]
     },
     "execution_count": 13,
     "metadata": {},
     "output_type": "execute_result"
    }
   ],
   "source": [
    "# Na ez már jobb. Stringeket össze tudunk fűzni az összeadás művelet segítségével. Viszont hiányzik a szóköz...\n",
    "vezeteknev = \"Tóth\"\n",
    "keresztnev = \"Lacika\"\n",
    "vezeteknev + \" \" + keresztnev"
   ]
  },
  {
   "cell_type": "code",
   "execution_count": 14,
   "id": "a1b0de06-ec74-4359-a234-477d7f4013df",
   "metadata": {},
   "outputs": [
    {
     "data": {
      "text/plain": [
       "'Szabó Pityuka'"
      ]
     },
     "execution_count": 14,
     "metadata": {},
     "output_type": "execute_result"
    }
   ],
   "source": [
    "# persze a szóközzel való összefűzést el lehet játszani másképp is\n",
    "vezeteknev = \"Szabó\"\n",
    "keresztnev = \"Pityuka\"\n",
    "nev = vezeteknev + \" \" + keresztnev\n",
    "nev"
   ]
  },
  {
   "cell_type": "markdown",
   "id": "a0ab4974-fe60-4038-965c-c6a171c952de",
   "metadata": {},
   "source": [
    "### Még több adattípus\n",
    "A stringeknek fogunk még szánni egy külön fejezetet, ugyanis nyilván ennél sokkal, de sokkal többre képesek.\n",
    "Említés szintjén még néhány alap adattípust, amelyekkel később fogunk foglalkozni:\n",
    "- boolean avagy logikai változó. Az ő értékük `True` vagy `False`, és először a logikai elágazásoknál fogjuk őket részletesebben tárgyalni\n",
    "- list vagy lista (esetleg tömb), olyan adattípus, amiben több érték, listaként szerepel. A Python egyik leggyakrabban használt típusa. Elemei vegyes típusúak lehetnek, így ő egy *összetett típus*, viszont sok szempontból közeli rokonságot mutat a stringekkel, így együtt fogjuk őket átvenni\n",
    "- dictionary - könyvtár vagy asszociatív tömb, kulcs-érték párokat tartalmaz, szintén nagyon gyakran használt összetett típus. Vele is később fogunk foglalkozni, különösen a ciklusoknál\n",
    "- léteznek ennél még komplexebb adattípusok, osztályok illetve collectionök, róluk az objektumorientált programozásnál, illetve a külső dependenciáknál lesz szó."
   ]
  },
  {
   "cell_type": "markdown",
   "id": "e4c0b052-6f05-47e5-b31e-49e997b77b46",
   "metadata": {},
   "source": [
    "## Két beépített függvény\n",
    "A függvényekről a későbbiekben részletesen is lesz szó, így elöljáróban legyen annyi, hogy a függvények a programozásban pont olyanok, mint a matematikában: odaadsz nekik valamilyen értékeket, azt pedig feldolgozzák, és az esetek döntő többségében vissza is adnak utána valamilyen értéket. \n",
    "\n",
    "Onnan ismerhetőek fel, hogy mindig a nevük után megjelenik egy zárójelpár. Ezen zárójelen belül különböző dolgokat csinálhatunk, pl. adhatunk nekik oda változókat.\n",
    "\n",
    "A Python tele van beépített függvényekkel, ezek közül a két legegyszerűbb jön, amivel némi interaktivitást fogunk tudni adni még Jupyteren belül is.\n",
    "\n",
    "### print()\n",
    "A `print()` függvény segítségével stringeket tudunk kiíratni a konzolra. Az egyik leghasznosabb függvény annak ellenére, hogy ilyen alapvető dolgot csinál, szinte nélkülüzhetetlen egyszerűbb debugoláshoz, vagy hogy egyáltalán visszajelzést kapjunk a programunktól.\n",
    "Amennyiben a zárójelek közé nem kap semmit, egy üres sort ad vissza. Ha azonban egy stringet kap, akkor azonnal ki is írja azt a stringet."
   ]
  },
  {
   "cell_type": "code",
   "execution_count": 15,
   "id": "c6e134a9-d01d-4737-a1d8-85e01cd5d60d",
   "metadata": {},
   "outputs": [
    {
     "name": "stdout",
     "output_type": "stream",
     "text": [
      "Hello world!\n"
     ]
    }
   ],
   "source": [
    "# egyetlen tutorialból sem hiányozhat a hello world!-program, így íme:\n",
    "print(\"Hello world!\")"
   ]
  },
  {
   "cell_type": "code",
   "execution_count": 17,
   "id": "ba265bf0-bc03-44e0-856b-bab5ddfd28fa",
   "metadata": {},
   "outputs": [
    {
     "name": "stdout",
     "output_type": "stream",
     "text": [
      "Szia Sanyi!\n"
     ]
    }
   ],
   "source": [
    "# természetesen tudja ezt változókkal is, és mindenféle kombinációban:\n",
    "nev = \"Sanyi\"\n",
    "print(\"Szia \" + nev + \"!\") # nem elhanyagolandó a Szia utáni szándékolt szóköz!"
   ]
  },
  {
   "cell_type": "code",
   "execution_count": 19,
   "id": "b6697bbb-5c2b-48f2-8bd6-80c611e96500",
   "metadata": {},
   "outputs": [
    {
     "name": "stdout",
     "output_type": "stream",
     "text": [
      "Nagy Józsi\n",
      "Nagy_Józsi_Józsi_Nagy\n"
     ]
    }
   ],
   "source": [
    "# és jöjjön egy trükk, hogy milyen sokat tudnak a stringek (arról, hogy mi történik, később lesz szó)\n",
    "vezeteknev = \"Nagy\"\n",
    "keresztnev = \"Józsi\"\n",
    "print(vezeteknev, keresztnev, sep=\" \")\n",
    "print(vezeteknev, keresztnev, keresztnev, vezeteknev, sep=\"_\")"
   ]
  },
  {
   "cell_type": "markdown",
   "id": "3d1f5eba-098a-4d26-9d70-af26ac715481",
   "metadata": {},
   "source": [
    "### input()\n",
    "Az `input` függvény arra jó, hogy bekérjünk a felhasználótól a billentyűzet segítségével valamilyen adatot. Az adat bevitelét az `enter` lenyomásával tudatosítjuk számára. Ő is tud fogadni stringet, vagy string típusú változót. Ebben az esetben kiír egy *prompt* névre hallgató szöveget, amely arra használatos, hogy elmagyarázza, mit is vár a program a felhasználótól."
   ]
  },
  {
   "cell_type": "code",
   "execution_count": 20,
   "id": "f57139e0-fde6-46bd-8599-3e107fc4182f",
   "metadata": {},
   "outputs": [
    {
     "name": "stdout",
     "output_type": "stream",
     "text": [
      "Nyomd már meg az entert, na.\n"
     ]
    },
    {
     "name": "stdin",
     "output_type": "stream",
     "text": [
      " \n"
     ]
    },
    {
     "data": {
      "text/plain": [
       "''"
      ]
     },
     "execution_count": 20,
     "metadata": {},
     "output_type": "execute_result"
    }
   ],
   "source": [
    "# Egyelőre csak kérjük meg a felhasználót, hogy nyomja meg az entert. Ezt lehet így:\n",
    "print(\"Nyomd már meg az entert, na.\")\n",
    "input()"
   ]
  },
  {
   "cell_type": "code",
   "execution_count": 21,
   "id": "77cbab73-81b3-47a9-9413-d643b9e443ba",
   "metadata": {},
   "outputs": [
    {
     "name": "stdin",
     "output_type": "stream",
     "text": [
      "Na, inkább így nyomd meg az entert, így egyszerűbbb mindenki élete \n"
     ]
    },
    {
     "data": {
      "text/plain": [
       "''"
      ]
     },
     "execution_count": 21,
     "metadata": {},
     "output_type": "execute_result"
    }
   ],
   "source": [
    "# de némiképp egyszerűbb használni a promptot:\n",
    "input(\"Na, inkább így nyomd meg az entert, így egyszerűbbb mindenki élete\")"
   ]
  },
  {
   "cell_type": "code",
   "execution_count": 24,
   "id": "c2c747e5-671e-4179-b94c-c96017d030fd",
   "metadata": {},
   "outputs": [
    {
     "name": "stdin",
     "output_type": "stream",
     "text": [
      "Írj már be valami szöveget ide: valami\n"
     ]
    },
    {
     "name": "stdout",
     "output_type": "stream",
     "text": [
      "valami\n",
      "Azt a szöveget írtad be, hogy: valami\n"
     ]
    }
   ],
   "source": [
    "# amire különösen hasznos, hogy tudunk a segítségével változónak értéket adni:\n",
    "beirt_szoveg = input(\"Írj már be valami szöveget ide:\")\n",
    "# amit aztán ki tudunk iratni:\n",
    "print(beirt_szoveg)\n",
    "# vagy még szebben:\n",
    "print(\"Azt a szöveget írtad be, hogy: \" + beirt_szoveg)"
   ]
  },
  {
   "cell_type": "code",
   "execution_count": 26,
   "id": "0a2420a0-22cf-430a-bcf7-3e222b4bad3e",
   "metadata": {},
   "outputs": [
    {
     "name": "stdout",
     "output_type": "stream",
     "text": [
      "Adj már meg két számot, hogy összeadjam neked!\n"
     ]
    },
    {
     "name": "stdin",
     "output_type": "stream",
     "text": [
      "add meg az elsőt, ide:  1\n",
      "na, jöhet a második:  3\n"
     ]
    },
    {
     "name": "stdout",
     "output_type": "stream",
     "text": [
      "Az összeged: 13\n"
     ]
    }
   ],
   "source": [
    "# próbáljunk meg vele számot is bekérni\n",
    "print(\"Adj már meg két számot, hogy összeadjam neked!\")\n",
    "n = input(\"add meg az elsőt, ide: \")\n",
    "m = input(\"na, jöhet a második: \")\n",
    "s = n + m\n",
    "print(\"Az összeged: \" + s)"
   ]
  },
  {
   "cell_type": "markdown",
   "id": "39fc1f40-9e3d-44cb-8673-efb11f06a810",
   "metadata": {},
   "source": [
    "### Hát... nem erre számítottunk. \n",
    "Az a baj, hogy a bekért adatot szövegként kezelte, és összefűzte, nem pedig számként.\n",
    "\n",
    "Hogy hogyan lesznek belőle számok, ahhoz típuskonverziót kell végrehajtanunk. Vagyis a stringből intet, vagy floatot kell csinálnunk. Erre is létezik megoldás, ami közelít a függvény fogalmához, és úgy is fogjuk őket kezelni.\n",
    "- stringből integert az int() függvénnyel tudunk csinálni, floatot a float() függvénnyel.\n",
    "- visszafele bármelyikből az str() függvénnyel fogunk tudni csinálni\n",
    "- típust ellenőrizni a type függvénnyel tudunk. A type ellenőrzés type-ként adja vissza a változó típusát, amely konvertálható stringgé.\n",
    "**Minden esetben a függvénynek a konvertálandó értéket kell odaadni (a zárójelek közé).**"
   ]
  },
  {
   "cell_type": "code",
   "execution_count": 1,
   "id": "1d0aa9d5-29b4-4227-9715-fcad9a7da5d2",
   "metadata": {},
   "outputs": [
    {
     "name": "stdout",
     "output_type": "stream",
     "text": [
      "Adj már meg két számot, hogy összeadjam neked!\n"
     ]
    },
    {
     "name": "stdin",
     "output_type": "stream",
     "text": [
      "add meg az elsőt, ide:  1\n",
      "na, jöhet a második:  2\n"
     ]
    },
    {
     "name": "stdout",
     "output_type": "stream",
     "text": [
      "3\n"
     ]
    }
   ],
   "source": [
    "# először ugyanaz legyen, mint eddig:\n",
    "print(\"Adj már meg két számot, hogy összeadjam neked!\")\n",
    "n = input(\"add meg az elsőt, ide: \")\n",
    "m = input(\"na, jöhet a második: \")\n",
    "# alakítsunk n-t is és m-et is stringből integerré:\n",
    "n = int(n)\n",
    "m = int(m)\n",
    "# most adjuk őket össze:\n",
    "s = n + m\n",
    "# írassuk az összeget:\n",
    "print(s)"
   ]
  },
  {
   "cell_type": "markdown",
   "id": "f5678a55-ad80-49d3-8870-9a77e6feab36",
   "metadata": {},
   "source": [
    "---\n",
    "\n",
    "> ### Újabb verziójú Python fordítók, automatikus típusfelismerés\n",
    "> A Python shell és maga a kód, amit a jövőben írni fogunk, bizonyos esetekben úgynevezett dynamic typing systemet használ. Hogy ez mit jelent, arról megint csak később, ami fontos: a programjaink általában fel fogják ismerni, ha számot adunk meg az \n",
    "\n",
    "---\n",
    "## Házi feladat\n",
    "1. Írjuk meg az összeadós programot úgy, hogy a végén az eredményt ne sima számként írja ki, hanem a következőképpen:\n",
    "```\n",
    "Az {n} és az {m} szám összege: {s}.\n",
    "```\n",
    "Értelemszerűen {n} helyén a felhasználó által megadott első szám legyen, az {m} helyén a felhasználó által megadott második szám, {s} helyén pedig az összeg.\n",
    "\n",
    "Példa:\n",
    "```\n",
    "Adj már meg két számot, hogy összeadjam neked!\n",
    "add meg az elsőt, ide: 12\n",
    "na, jöhet a második: 6\n",
    "A 12 és a 6 szám összege: 18.\n",
    "```\n",
    "2. Írjunk egy olyan programot, amely a fenti példa alapján bekér két számot, és kiírja az első és a második szám hányadát, illetve fordítva. A program bemenetkor fogadjon el tört számot is!\n",
    "\n",
    "Példa:\n",
    "```\n",
    "Adj már meg két számot, hogy elosszam őket neked!\n",
    "add meg az elsőt, ide: 12\n",
    "na, jöhet a második: 6\n",
    "12 osztva 6: 2.\n",
    "6 osztva 12: 0.5.\n",
    "```"
   ]
  },
  {
   "cell_type": "code",
   "execution_count": null,
   "id": "ea2f434c-810a-4c50-b5ce-960b8b96b628",
   "metadata": {},
   "outputs": [],
   "source": []
  }
 ],
 "metadata": {
  "kernelspec": {
   "display_name": "Python 3",
   "language": "python",
   "name": "python3"
  },
  "language_info": {
   "codemirror_mode": {
    "name": "ipython",
    "version": 3
   },
   "file_extension": ".py",
   "mimetype": "text/x-python",
   "name": "python",
   "nbconvert_exporter": "python",
   "pygments_lexer": "ipython3",
   "version": "3.9.2"
  }
 },
 "nbformat": 4,
 "nbformat_minor": 5
}
