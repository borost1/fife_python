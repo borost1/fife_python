{
 "cells": [
  {
   "cell_type": "markdown",
   "id": "b934a631-d50a-4a03-94a0-d32b069ee8a4",
   "metadata": {},
   "source": [
    "# Ramanujan és a Strand-rejtvény\n",
    "\n",
    "![alt-text](https://openthemagazine.com/wp-content/uploads/2020/04/Ramanujan.jpg \"Ramanujan\")\n",
    "\n",
    "## Történet\n",
    "1914-ben a matekamtikus Prasantha Mahalanobis meglátogatta Cambridge-ben az akkor már nagy hírnévnek örvendő kollégáját\n",
    "és honfitársát, Ramanujant.\n",
    "\n",
    "Mahalanobis magával vitt egyet az akkoriban rendkívül népszerű The Strand című folyóiratból. Ebben jelentek meg többek\n",
    "közt az első Sherlock Holmes történetek, de volt benne egy rejtvényrovat is, amelyet a kor egyik legnagyobb rejtvény-\n",
    "alkotója, Henry Dudeney szerkesztett.\n",
    "\n",
    "Mahalanobis, tesztelendő Ramanujan legendás képességeit, rá is mutatott az éppen aktuális számban található egyik\n",
    "rejtvényre, mely a következőképpen szólt:\n",
    "\n",
    "## A rejtvény\n",
    "Van egy fickó, aki egy hosszú utcában lakik. A házak számozása 1-gyel kezdődik, és folyamatos, tehát 1, 2,\n",
    "3 ... stb. A fickó azt állítja, hogy ő abban a házban lakik, amelyre az igaz, hogy a tőle visszább elhelyezkedő házak\n",
    "házszámainak összege, és tőle az utca felé haladva lévő házak házszámának összege megegyezik.\n",
    "Ramanujan természetesen rávágta a helyes választ (sőt: az összes helyes választ).\n",
    "\n",
    "## A probléma felbontása, algoritmizálás\n",
    "Ahhoz, hogy egy ilyen problémát megoldjunk, először algoritmizálni kell, vagyis kisebb problémákra bontani a nagy feladatot, méghozzá lehetőleg olyan részekre, amiket az eddigiek során használtunk, tehát\n",
    "- adatbevitelre, input műveletre\n",
    "- egyszerű aritmetikai műveletekre (összeadás, kivonás, stb.)\n",
    "- elágazásokra (if..elif..else)\n",
    "- az ismétlések elvégzésére ciklusokra, iterációkra\n",
    "- amennyiben szükséges, vagy a megoldásunkat általánosan akarjuk használni összetettebb környezetben, úgy függvényekre\n",
    "**Lényegében a fentieket hívjuk imperatív programozásnak, a folyamatot pedig algoritmizálásnak.**\n",
    "\n",
    "Sok dologgal lehet az algoritmizálást gyakorolni, ábrákat rajzolni, vagy pszeudokódot írni, a legegyszerűbb azonban az, ha először elkezdjük magunktól végiggondolni, hogy mi is történik.\n",
    "\n",
    "Nézzük meg először öt házzal, és próbálgassuk végig!\n"
   ]
  },
  {
   "cell_type": "markdown",
   "id": "0315e0b1-658a-4e75-8b1e-a9882565816e",
   "metadata": {},
   "source": [
    "### 1. eset, az utca 5 házból áll\n",
    "Minden esetben a vizsgált házat **félkövérrel** szedjük, és elvégezzük kézzel az összeadásokat.\n",
    "\n",
    "|hsz|hsz|hsz|hsz|hsz|\n",
    "|-|-|-|-|-|\n",
    "| **1** | 2 | 3 | 4 | 5 |\n",
    "\n",
    "Az 1. házszám előtt 0 db ház áll, tehát az előttük lévő házszámok összege 0. Utána 2 + 3 + 4 + 5 = 14 a házszámok összege, tehát nem egyenlő a két összeg, egyértelműen nem igaz, hogy az első házban lakik a fickó.\n",
    "Nézzük a második esetet!\n",
    "\n",
    "|hsz|hsz|hsz|hsz|hsz|\n",
    "|-|-|-|-|-|\n",
    "| 1 | **2** | 3 | 4 | 5 |\n",
    "\n",
    "Ugyanaz a helyzet, mint az előbb, és már látszik, hogy egy pár esetben fogunk összeadni, és két összegünk lesz. Logikus, hogy elnevezzük őket, és változóként tároljuk őket, így már az is rövidebb lesz, ahogy a problémát felvázoljuk. Legyenek `osszeg_1` és `osszeg_2`! Futtassuk le a kiértékelést is, hogy a két összeg egyenlő-e?"
   ]
  },
  {
   "cell_type": "code",
   "execution_count": 1,
   "id": "4f0a932c-a4f0-43ec-b758-66f13abe554b",
   "metadata": {},
   "outputs": [
    {
     "data": {
      "text/plain": [
       "False"
      ]
     },
     "execution_count": 1,
     "metadata": {},
     "output_type": "execute_result"
    }
   ],
   "source": [
    "osszeg_1 = 1\n",
    "osszeg_2 = 3 + 4 + 5\n",
    "osszeg_1 == osszeg_2"
   ]
  },
  {
   "cell_type": "markdown",
   "id": "6a57624c-454d-4e2a-ab2e-9d0594972bce",
   "metadata": {},
   "source": [
    "Nézzük hárommal!\n",
    "\n",
    "|hsz|hsz|hsz|hsz|hsz|\n",
    "|-|-|-|-|-|\n",
    "| 1 | 2 | **3** | 4 | 5 |"
   ]
  },
  {
   "cell_type": "code",
   "execution_count": 2,
   "id": "f211fc11-c97a-4133-96eb-c147749bc084",
   "metadata": {},
   "outputs": [
    {
     "data": {
      "text/plain": [
       "False"
      ]
     },
     "execution_count": 2,
     "metadata": {},
     "output_type": "execute_result"
    }
   ],
   "source": [
    "osszeg_1 = 1 + 2\n",
    "osszeg_2 = 4 + 5\n",
    "osszeg_1 == osszeg_2"
   ]
  },
  {
   "cell_type": "markdown",
   "id": "5b565384-8800-4dfe-a5bf-1c94427ff5f1",
   "metadata": {},
   "source": [
    "**Vegyük észre, hogy ez az 1-5 közötti számok egy range, és igazából ennek az elemein megyünk végig!** Ahelyett, hogy a negyedik és ötödik eseten végigmennénk, használhatnánk egy ciklust is, amivel végigmegyünk minden elemen! A biztonság kedvéért a ciklusban kiíratjuk a listát, illetve hogy hanyadik elemet vizsgáljuk, hogy meg tudjuk győződni az algoritmusunk helyességéről."
   ]
  },
  {
   "cell_type": "code",
   "execution_count": 9,
   "id": "3ce1a7a2-6b57-4003-9f08-3ec2646abdda",
   "metadata": {},
   "outputs": [
    {
     "name": "stdout",
     "output_type": "stream",
     "text": [
      "[1, 2, 3, 4, 5]\n",
      "1: osszeg_1: 0, osszeg_2: 14\n",
      "False\n",
      "[1, 2, 3, 4, 5]\n",
      "2: osszeg_1: 1, osszeg_2: 12\n",
      "False\n",
      "[1, 2, 3, 4, 5]\n",
      "3: osszeg_1: 3, osszeg_2: 9\n",
      "False\n",
      "[1, 2, 3, 4, 5]\n",
      "4: osszeg_1: 6, osszeg_2: 5\n",
      "False\n",
      "[1, 2, 3, 4, 5]\n",
      "5: osszeg_1: 10, osszeg_2: 0\n",
      "False\n"
     ]
    }
   ],
   "source": [
    "hazszamok = range(1,6)\n",
    "\n",
    "osszeg_1 = 0\n",
    "osszeg_2 = 0\n",
    "\n",
    "for h in hazszamok:\n",
    "    osszeg_1 = sum(range(1, h))\n",
    "    osszeg_2 = sum(range(h+1, len(hazszamok)+1))\n",
    "    print(list(hazszamok))\n",
    "    print(f'{h}: osszeg_1: {osszeg_1}, osszeg_2: {osszeg_2}')\n",
    "    print(str(osszeg_1 == osszeg_2))"
   ]
  },
  {
   "cell_type": "markdown",
   "id": "e1fb0c7c-7563-46c6-8b96-e17f3e6a7797",
   "metadata": {},
   "source": [
    "Láthatjuk, hogy az utca biztos, hogy nem 5 házból áll, hiszem nincs ilyen eset egyszer sem.\n",
    "Szerencsére az utcát leképező range-et felhasználói inputtal is tudjuk alakítani, így egy egyszerű kiegészítéssel bármilyen esetre le tudjuk futtatni a fenti kódot!\n",
    "\n",
    "Ha megvagyunk, futtasuk egy párszor, és nézzük, lesz-e jó megoldás?"
   ]
  },
  {
   "cell_type": "code",
   "execution_count": 13,
   "id": "6fe22cbb-38f9-4bd6-8120-02aa86c8ab6b",
   "metadata": {},
   "outputs": [
    {
     "name": "stdin",
     "output_type": "stream",
     "text": [
      "add meg a vizsgálandó utca hosszát:  8\n"
     ]
    },
    {
     "name": "stdout",
     "output_type": "stream",
     "text": [
      "[1, 2, 3, 4, 5, 6, 7, 8]\n",
      "1: osszeg_1: 0, osszeg_2: 35\n",
      "False\n",
      "[1, 2, 3, 4, 5, 6, 7, 8]\n",
      "2: osszeg_1: 1, osszeg_2: 33\n",
      "False\n",
      "[1, 2, 3, 4, 5, 6, 7, 8]\n",
      "3: osszeg_1: 3, osszeg_2: 30\n",
      "False\n",
      "[1, 2, 3, 4, 5, 6, 7, 8]\n",
      "4: osszeg_1: 6, osszeg_2: 26\n",
      "False\n",
      "[1, 2, 3, 4, 5, 6, 7, 8]\n",
      "5: osszeg_1: 10, osszeg_2: 21\n",
      "False\n",
      "[1, 2, 3, 4, 5, 6, 7, 8]\n",
      "6: osszeg_1: 15, osszeg_2: 15\n",
      "True\n",
      "[1, 2, 3, 4, 5, 6, 7, 8]\n",
      "7: osszeg_1: 21, osszeg_2: 8\n",
      "False\n",
      "[1, 2, 3, 4, 5, 6, 7, 8]\n",
      "8: osszeg_1: 28, osszeg_2: 0\n",
      "False\n"
     ]
    }
   ],
   "source": [
    "hossz = input(\"add meg a vizsgálandó utca hosszát: \")\n",
    "hazszamok = range(1,int(hossz) + 1)\n",
    "\n",
    "osszeg_1 = 0\n",
    "osszeg_2 = 0\n",
    "\n",
    "for h in hazszamok:\n",
    "    osszeg_1 = sum(range(1, h))\n",
    "    osszeg_2 = sum(range(h+1, len(hazszamok)+1))\n",
    "    print(list(hazszamok))\n",
    "    print(f'{h}: osszeg_1: {osszeg_1}, osszeg_2: {osszeg_2}')\n",
    "    print(str(osszeg_1 == osszeg_2))"
   ]
  },
  {
   "cell_type": "markdown",
   "id": "9dc1b07d-ece2-408b-9b78-a5b7af24ffda",
   "metadata": {},
   "source": [
    "**Tehát, ha nyolc házból álló utcáról van szó, már van pozitív találat! Kérdés, hogy ez hosszú utcának számít-e? Vannak-e még ilyen esetek?**\n",
    "\n",
    "Felfedezhetünk egy újabb problémát. Egyesével kellene végigpróbálgatni az összes esetet, mi lenne, ha mindezt egy ciklussal intéznénk el, ami folyamatosan növekszik? A felhasználó pedig megadhatná, hogy hanyadik elemig fusson a ciklus.\n",
    "\n",
    "Ezen kívül ideje lesz elgondolkodnunk azon is, hogy minden eredményt ki akarunk-e íratni? Egyszerűbb lenne csak azokat, amelyek találatok?"
   ]
  },
  {
   "cell_type": "code",
   "execution_count": 16,
   "id": "add161a0-c151-4a0b-bebb-ec765eaa1201",
   "metadata": {},
   "outputs": [
    {
     "name": "stdin",
     "output_type": "stream",
     "text": [
      "add meg az utolsó vizsgálandó utca hosszát:  80\n"
     ]
    },
    {
     "name": "stdout",
     "output_type": "stream",
     "text": [
      "[1]\n",
      "1: osszeg_1: 0, osszeg_2: 0\n",
      "True\n",
      "[1, 2, 3, 4, 5, 6, 7, 8]\n",
      "6: osszeg_1: 15, osszeg_2: 15\n",
      "True\n",
      "[1, 2, 3, 4, 5, 6, 7, 8, 9, 10, 11, 12, 13, 14, 15, 16, 17, 18, 19, 20, 21, 22, 23, 24, 25, 26, 27, 28, 29, 30, 31, 32, 33, 34, 35, 36, 37, 38, 39, 40, 41, 42, 43, 44, 45, 46, 47, 48, 49]\n",
      "35: osszeg_1: 595, osszeg_2: 595\n",
      "True\n"
     ]
    }
   ],
   "source": [
    "meddig = input(\"add meg az utolsó vizsgálandó utca hosszát: \")\n",
    "\n",
    "for m in range(1, int(meddig)+1):\n",
    "    hazszamok = range(1,int(m) + 1)\n",
    "    osszeg_1 = 0\n",
    "    osszeg_2 = 0\n",
    "\n",
    "    for h in hazszamok:\n",
    "        osszeg_1 = sum(range(1, h))\n",
    "        osszeg_2 = sum(range(h+1, len(hazszamok)+1))\n",
    "        if osszeg_1 == osszeg_2:\n",
    "            print(list(hazszamok))\n",
    "            print(f'{h}: osszeg_1: {osszeg_1}, osszeg_2: {osszeg_2}')\n",
    "            print(str(osszeg_1 == osszeg_2))"
   ]
  },
  {
   "cell_type": "markdown",
   "id": "07228337-5a2b-4a61-8256-c952a4848f59",
   "metadata": {},
   "source": [
    "Na, így már láthatóan szépen tudunk végigmenni és összegyűjteni az eseteket. Azonban valóban kell-e ez az output a felhasználó felé? Tudunk-e még rövidíteni a dolgon?\n",
    "\n",
    "Mi lenne, ha csak rendezett párként adnánk vissza az utca hosszát és a házszámot?"
   ]
  },
  {
   "cell_type": "code",
   "execution_count": 24,
   "id": "70ca0c00-74e6-49b4-8779-c5ed1a5f03e1",
   "metadata": {},
   "outputs": [
    {
     "name": "stdin",
     "output_type": "stream",
     "text": [
      "add meg az utolsó vizsgálandó utca hosszát:  100\n"
     ]
    },
    {
     "name": "stdout",
     "output_type": "stream",
     "text": [
      "(1, 1)\n",
      "(8, 6)\n",
      "(49, 35)\n"
     ]
    }
   ],
   "source": [
    "meddig = input(\"add meg az utolsó vizsgálandó utca hosszát: \")\n",
    "\n",
    "for m in range(1, int(meddig)+1):\n",
    "    hazszamok = range(1,int(m) + 1)\n",
    "    for h in hazszamok:\n",
    "        if sum(range(1, h)) == sum(range(h+1, len(hazszamok)+1)):\n",
    "            print((len(hazszamok), h))"
   ]
  }
 ],
 "metadata": {
  "kernelspec": {
   "display_name": "Python 3",
   "language": "python",
   "name": "python3"
  },
  "language_info": {
   "codemirror_mode": {
    "name": "ipython",
    "version": 3
   },
   "file_extension": ".py",
   "mimetype": "text/x-python",
   "name": "python",
   "nbconvert_exporter": "python",
   "pygments_lexer": "ipython3",
   "version": "3.9.2"
  }
 },
 "nbformat": 4,
 "nbformat_minor": 5
}
