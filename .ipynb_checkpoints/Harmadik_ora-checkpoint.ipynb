{
 "cells": [
  {
   "cell_type": "markdown",
   "id": "a6ada732-6844-44b2-9843-200aea35e4c8",
   "metadata": {},
   "source": [
    "# Harmadik lecke - listák, ciklusok\n",
    "\n",
    "## Tematika\n",
    "1. List típus"
   ]
  },
  {
   "cell_type": "markdown",
   "id": "a6b36343-1c80-46fc-a3e9-78f470eb9a81",
   "metadata": {},
   "source": [
    "### 1. List típus\n",
    "A Python egyik leggyakoribb típusa a lista, avagy list. Ez változó típusú, de összefüggő elemekből álló lista, ahol *fontos a sorrend*, tehát **rendezett**, *ugyanaz az elem többször is szerepelhet*, **duplikáció előfordulhat**. A lista tetszőlegesen mutálható, azaz elemeket vehetünk ki belőle, elemeket adhatunk hozzá vagy szúrhatunk be, ehhez számos hasznos metódus áll rendelkezésünkre. A list az úgynevezett *iterable* típusok közé tartozik, ami egy olyan tulajdonságot jelent, hogy minden elemét meg tudjuk vizsgálni.\n",
    "\n",
    "A lista elemeit **szögletes zárójel** közé vesszük föl, **az elemeket vesszővel választjuk el**."
   ]
  },
  {
   "cell_type": "code",
   "execution_count": 2,
   "id": "525bbf7a-335d-4cbf-a9d7-9f66d48df2ae",
   "metadata": {},
   "outputs": [
    {
     "name": "stdout",
     "output_type": "stream",
     "text": [
      "['a', 'b', 1, 2]\n"
     ]
    }
   ],
   "source": [
    "lista = [\"a\",\"b\", 1, 2]\n",
    "print(lista)"
   ]
  },
  {
   "cell_type": "code",
   "execution_count": 4,
   "id": "98e87dc9-24f8-4d18-8512-33c178bc9e23",
   "metadata": {},
   "outputs": [
    {
     "name": "stdout",
     "output_type": "stream",
     "text": [
      "['szia', 10.2, 33, 'a', 'b', 1, 2]\n"
     ]
    }
   ],
   "source": [
    "# lista elemének adhatunk meg változót is, ez lehet bármilyen típus\n",
    "a = \"szia\"\n",
    "b = 10.2\n",
    "c = 33\n",
    "lista = [a, b, c, \"a\", \"b\", 1, 2]\n",
    "print(lista)"
   ]
  },
  {
   "cell_type": "markdown",
   "id": "59bf2e0e-84b5-4ea5-94e0-99978869dcd9",
   "metadata": {},
   "source": [
    "#### Indexelés, lista hossza\n",
    "A listák és a stringek számos dologban hasonlítanak, így az indexelésük is hasonlóan 0-tól kezdődik. \n",
    "A negatív indexelés és a splice-olás is a stringeknél megszokott módon működik.\n",
    "\n",
    "Ugyanúgy a `len()` függvény segítségével tudjuk meghatározni, hány elemből állnak."
   ]
  },
  {
   "cell_type": "code",
   "execution_count": 25,
   "id": "db86b1b7-6ef8-4043-99f4-8a96fe4fa171",
   "metadata": {},
   "outputs": [
    {
     "name": "stdout",
     "output_type": "stream",
     "text": [
      "['hello', 'jó napot', 'szia', 10.2, 33, 'a', 'b', 1, 2, 20, 'husz']\n",
      "A lista nulladik és első eleme: hello, jó napot\n",
      "11\n",
      "A lista első három eleme: ['hello', 'jó napot', 'szia'], a lista utolsó eleme: husz\n"
     ]
    }
   ],
   "source": [
    "# ne feledjük, hogy a Jupyter megköveteli a típuskonverziókat! extra trükk: a korábban definiált változóra később is emlékszik a Jupyter is!\n",
    "print(lista)\n",
    "print(\"A lista nulladik és első eleme: \" + lista[0] + \", \" + str(lista[1]))\n",
    "print(len(lista))\n",
    "print(\"A lista első három eleme: \" + str(lista[:3]) + \", a lista utolsó eleme: \" + str(lista[-1]))"
   ]
  },
  {
   "cell_type": "markdown",
   "id": "06201f3d-6653-44c6-8745-787af5a5e632",
   "metadata": {},
   "source": [
    "#### Elemek hozzáfűzése, beszúrása\n",
    "A `len()`-hez hasonló metódusok állnak rendelkezésünkre ahhoz, hogy a listához elemeket adjunk hozzá, vagy szúrjunk be adott indexnél.\n",
    "- `append(a)` - `a` változó elemként való hozzáadása. Az `append()` függvény egy értéket (argumentumot) fogad, ez pedig a hozzáfűzendő elem.\n",
    "- `insert(i, a)` - `i` indexre beszúrja `a` változót a listába."
   ]
  },
  {
   "cell_type": "code",
   "execution_count": 21,
   "id": "ca79a33c-1865-4de6-9810-ca2514158773",
   "metadata": {},
   "outputs": [
    {
     "name": "stdout",
     "output_type": "stream",
     "text": [
      "['szia', 10.2, 33, 'a', 'b', 1, 2, 20, 'husz']\n",
      "['hello', 'szia', 10.2, 33, 'a', 'b', 1, 2, 20, 'husz']\n",
      "['hello', 'jó napot', 'szia', 10.2, 33, 'a', 'b', 1, 2, 20, 'husz']\n"
     ]
    }
   ],
   "source": [
    "lista = ['szia', 10.2, 33, 'a', 'b', 1, 2]\n",
    "lista.append(20)\n",
    "lista.append(\"husz\")\n",
    "print(lista)\n",
    "lista.insert(0,\"hello\")\n",
    "print(lista)\n",
    "lista.insert(1,\"jó napot\")\n",
    "print(lista)"
   ]
  },
  {
   "cell_type": "markdown",
   "id": "bd06d03b-93db-4d5f-bd8a-bd07062848b2",
   "metadata": {},
   "source": [
    "#### Elemek cseréje, törlése\n",
    "Elemeket tudunk úgy cserélni, hogy az indexükre hivatkozva felüldefiniáljuk őket.\n",
    "Elemeket többféle módon is törölhetünk:\n",
    "- `del list[elem]`: a `del` kulcsszó segítségével tudunk lista elemeket indexre hivatkozással törölni. Teljes funkcionalitása ennél egy picit komplexebb, egyelőre legyen annyi elég, hogy kifejezésként adott lista elemre indexelve (spliceolva is!) tudunk törölni elemeket.\n",
    "- `remove(e)` - a `remove()` függvény segítségével explicit módon meg tudjuk adni, melyik elemet szeretnénk törölni! **Ilyenkor csak az első ilyen elemet törli indexelés szerint haladva!**\n",
    "- `pop(i)` - ezzel a függvénnyel az `i` indexű elemet töröljük. Ha nem adunk meg indexet, akkor az utolsó (-1) elemet törli. A `pop()` függvény vissza is ad értéket, ez most csak ízelítő lesz abból, hogy mit jelent, később azonban nagy mélységeiben lesz erről szó :)"
   ]
  },
  {
   "cell_type": "code",
   "execution_count": 29,
   "id": "1aca96b2-a72d-4670-b285-fa152ac667bb",
   "metadata": {},
   "outputs": [
    {
     "name": "stdout",
     "output_type": "stream",
     "text": [
      "['hello', 'jó napot', 'szia', 10.2, 33, 'a', 'b', 1, 2, 20, 'husz']\n",
      "['hello', 'jó napot', 'cső', 10.2, 33, 'a', 'b', 1, 2, 20, 'husz']\n",
      "['hello', 'jó napot', 'cső', 10.2, 33, 'a', 'b', 1, 2, 20, 'husz', 10.2]\n",
      "['hello', 'jó napot', 'cső', 33, 'a', 'b', 1, 2, 20, 'husz', 10.2]\n",
      "[10.2, 'hello', 'jó napot', 'cső', 33, 'a', 'b', 1, 2, 20, 'husz', 10.2]\n",
      "['hello', 'jó napot', 'cső', 33, 'a', 'b', 1, 2, 20, 'husz', 10.2]\n",
      "['hello', 'jó napot', 'cső', 33, 'a', 'b', 1, 2, 20, 'husz']\n",
      "['hello', 'jó napot', 'cső', 'a', 'b', 1, 2, 20, 'husz']\n",
      "A törölt elem: 33\n"
     ]
    }
   ],
   "source": [
    "lista = ['hello', 'jó napot', 'szia', 10.2, 33, 'a', 'b', 1, 2, 20, 'husz']\n",
    "print(lista)\n",
    "# cseréljük ki a 'szia'-t 'cső'-re\n",
    "lista[2] = \"cső\"\n",
    "print(lista)\n",
    "# adjuk hozzá a lista végéhez mégegyszer 10.2\n",
    "lista.append(10.2)\n",
    "print(lista)\n",
    "# töröljük az első 10.2 értéket!\n",
    "del lista[3]\n",
    "print(lista)\n",
    "# adjunk még egy 10.2-t a listához, de a legelejére!\n",
    "lista.insert(0,10.2)\n",
    "print(lista)\n",
    "# töröljük az összes 10.2-es értéket! Először csak az elsőt fogja törölni\n",
    "lista.remove(10.2)\n",
    "print(lista)\n",
    "# ezt megismételve az utolsót is\n",
    "lista.remove(10.2)\n",
    "print(lista)\n",
    "# töröljük ki a lista negyedik elemét, de tároljuk is le egy 'b' változóban!\n",
    "b = lista.pop(3)\n",
    "print(lista)\n",
    "print(\"A törölt elem: \" + str(b))"
   ]
  },
  {
   "cell_type": "markdown",
   "id": "d7320667-62e2-4c3e-8d65-d182c76c1b25",
   "metadata": {},
   "source": [
    "#### További list metódusok\n",
    "- `sort()` - sorba rendezi a listánkat\n",
    "- `count(e)` - visszaadja `e` elem számosságát a listában, magyarul, hogy hány darab van belőle a listán belül\n",
    "- `reverse()` - megfordítja a lista sorrendjét\n",
    "- `copy()` - egy másolatot készít a listánkról, bővebben példa a kódban :)\n",
    "- `clear()` - üríti a listát\n",
    "- `index(i,s,e)` - visszaadja az i-edik elemet, de opcionálisan s kezdő index és e záró index között\n",
    "- `extend(e)` - e iterable-t hozzáfűzi a listához (ez lehet nem csak lista típusú, hanem tuple azaz rendezett pár, set, dictionary stb., ezekről a típusokról később lesz szó)\n",
    "\n",
    "#### Listák és aritmetika\n",
    "Alapvetően listákkal szorzást és összeadást értelmezünk. Az összeadás eredménye összefűzött lista, vagyis a két listából csinál egy harmadikat, amely mindkét lista minden elemét tartalmazza.\n",
    "Szorzás esetén minden elem n-szer lesz megismételve, az indexelés azonban nem változik (tehát n alkalommal lesz összefűzve ugyanaz a lista)."
   ]
  },
  {
   "cell_type": "code",
   "execution_count": 40,
   "id": "e1b7e809-9d29-44a6-8610-fe8a4d6d3a5e",
   "metadata": {},
   "outputs": [
    {
     "name": "stdout",
     "output_type": "stream",
     "text": [
      "['a', 'b', 'c', 'd', 'e', 'f', 'g']\n",
      "['a', 'b', 'c', 'd', 'e', 'f', 'g', 'a', 'b', 'c', 'd', 'e', 'f', 'g', 'a', 'b', 'c', 'd', 'e', 'f', 'g']\n",
      "['g', 'g', 'g', 'f', 'f', 'f', 'e', 'e', 'e', 'd', 'd', 'd', 'c', 'c', 'c', 'b', 'b', 'b', 'a', 'a', 'a']\n",
      "lista_3: ['g', 'g', 'g', 'f', 'f', 'f', 'e', 'e', 'e', 'd', 'd', 'd', 'c', 'c', 'c', 'b', 'b', 'b', 'a', 'a', 'a', 'a', 'b', 'c', 'd', 'e', 'f', 'g']\n",
      "lista_4: ['a', 'b', 'c', 'd', 'e', 'f', 'g', 'g', 'g', 'g', 'f', 'f', 'f', 'e', 'e', 'e', 'd', 'd', 'd', 'c', 'c', 'c', 'b', 'b', 'b', 'a', 'a', 'a']\n",
      "lista_3-ban 3 db. e betű van.\n",
      "lista_4-ben 4 db. e betű van.\n",
      "['a', 'b', 'c', 'd', 'e', 'f', 'g', 'g', 'g', 'g', 'f', 'f', 'f', 'e', 'e', 'e', 'd', 'd', 'd', 'c', 'c', 'c', 'b', 'b', 'b', 'a', 'a', 'a']\n",
      "['a', 'b', 'c', 'd', 'e', 'f', 'g', 'g', 'g', 'g', 'f', 'f', 'f', 'e', 'e', 'e', 'd', 'd', 'd', 'c', 'c', 'c', 'b', 'b', 'b', 'a', 'a', 'a']\n",
      "['b', 'c', 'd', 'e', 'f', 'g', 'g', 'g', 'g', 'f', 'f', 'f', 'e', 'e', 'e', 'd', 'd', 'd', 'c', 'c', 'c', 'b', 'b', 'b', 'a', 'a', 'a']\n",
      "['b', 'c', 'd', 'e', 'f', 'g', 'g', 'g', 'g', 'f', 'f', 'f', 'e', 'e', 'e', 'd', 'd', 'd', 'c', 'c', 'c', 'b', 'b', 'b', 'a', 'a', 'a']\n",
      "['a', 'b', 'c', 'd', 'e', 'f', 'g', 'g', 'g', 'g', 'f', 'f', 'f', 'e', 'e', 'e', 'd', 'd', 'd', 'c', 'c', 'c', 'b', 'b', 'b', 'a', 'a', 'a']\n",
      "['b', 'c', 'd', 'e', 'f', 'g', 'g', 'g', 'g', 'f', 'f', 'f', 'e', 'e', 'e', 'd', 'd', 'd', 'c', 'c', 'c', 'b', 'b', 'b', 'a', 'a', 'a']\n",
      "['a', 'b', 'c', 'd', 'e', 'f', 'g', 'g', 'g', 'g', 'f', 'f', 'f', 'e', 'e', 'e', 'd', 'd', 'd', 'c', 'c', 'c', 'b', 'b', 'b', 'a', 'a', 'a']\n"
     ]
    }
   ],
   "source": [
    "# sort(), vagyis rendezés\n",
    "lista_1 = [\"a\", \"c\", \"g\", \"d\", \"f\", \"b\", \"e\"]\n",
    "lista_1.sort()\n",
    "print(lista_1)\n",
    "# lista szorzása\n",
    "lista_2 = 3*lista_1\n",
    "print(lista_2)\n",
    "# lista_2 rendezése és megfordítása\n",
    "lista_2.sort()\n",
    "lista_2.reverse()\n",
    "print(lista_2)\n",
    "# lista_2-höz adjuk hozzá lista_1-et lista_3-ba, illetve lista_1-hez adjuk hozzá lista_2-t lista_4-be!\n",
    "lista_3 = lista_2 + lista_1\n",
    "lista_4 = lista_1 + lista_2\n",
    "print(\"lista_3: \" + str(lista_3))\n",
    "print(\"lista_4: \" + str(lista_4))\n",
    "# lista_3-ből töröljünk egy 'e' betűt!\n",
    "lista_3.remove('e')\n",
    "# számoljuk meg az 'e betűket mindkét listában!'\n",
    "print(\"lista_3-ban \" + str(lista_3.count('e')) + \" db. e betű van.\")\n",
    "print(\"lista_4-ben \" + str(lista_4.count('e')) + \" db. e betű van.\")\n",
    "# listát tudunk másolni úgy, hogy egyenlővé tesszük őket, de van egy apróbb csapda a történetben\n",
    "lista_5 = lista_4\n",
    "print(lista_4)\n",
    "print(lista_5)\n",
    "del lista_4[0]\n",
    "# mivel lista_4 ugyanaz a memóriában, mint lista_5, ezért lista_5-ből is eltűnt az első elem!\n",
    "print(lista_4)\n",
    "print(lista_5)\n",
    "# erre jó a copy funkció! először adjuk vissza lista_4 első elemét, az 'a' betút!\n",
    "lista_4.insert(0, 'a')\n",
    "print(lista_4)\n",
    "# copyzzuk le lista_6-ba! töröljük lista_4 első elemét megint!\n",
    "lista_6 = lista_4.copy()\n",
    "del lista_4[0]\n",
    "# lista_6-ban benne lesz az 'a!'\n",
    "print(lista_4)\n",
    "print(lista_6)"
   ]
  }
 ],
 "metadata": {
  "kernelspec": {
   "display_name": "Python 3",
   "language": "python",
   "name": "python3"
  },
  "language_info": {
   "codemirror_mode": {
    "name": "ipython",
    "version": 3
   },
   "file_extension": ".py",
   "mimetype": "text/x-python",
   "name": "python",
   "nbconvert_exporter": "python",
   "pygments_lexer": "ipython3",
   "version": "3.9.2"
  }
 },
 "nbformat": 4,
 "nbformat_minor": 5
}
