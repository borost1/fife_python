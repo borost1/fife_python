{
 "cells": [
  {
   "cell_type": "markdown",
   "id": "65efe7ea-1398-40f4-a91f-bc0f60ea0b73",
   "metadata": {},
   "source": [
    "# Második lecke\n",
    "## Tematika\n",
    "1. Python fájlok\n",
    "2. Fájlok futtatása bash-ből/cmd-ből, terminalból\n",
    "3. Típuskonverziók, típuslekérések, type függvény és type típus\n",
    "4. Print függvény és típusok keverése, részletesen\n",
    "5. List típus, listák, elemek hivatkozása\n",
    "6. Stringek, mint karakter-listák"
   ]
  },
  {
   "cell_type": "markdown",
   "id": "741ed915-24a8-47ed-be80-137a6ef6fa33",
   "metadata": {},
   "source": [
    "## Python fájlok\n",
    "A Python kód alapvetően szöveges fájlokba készül, amelyeket a programnyelvhez tartozó fordít le a számítógép számára érthető nyelvre. A Python egy szkriptnyelv, illetve interpretált nyelv, ami azt jelenti, hogy minden művelet futásidőben történik és futásidőben változtatható, illetve hogy a forráskódunk először egy köztes kódra fordul, majd onnan fordul gépi kódra.\n",
    "\n",
    "### Az IDE szerepe, szöveges fájlok\n",
    "A PyCharm egy fejlesztői környezet, ami lényegében egy szövegszerkesztő - csak funkcionálisan programozásra lett alakítva - de Python kódot írhatunk bármilyen fájlba. Az IDE azért hasznos, mert segítséget tud nyújtani abban, ha elírtunk valamit, nem formáztunk megfelelően a kódunkat, vagy valamilyen hibát ejtettünk. Beépített eszközei segítségével könnyebben tudjuk a kódunkat karban tartani és olvasni.\n",
    "\n",
    "### elso.py\n",
    "A projektünkben már létezik egy üres fájl (az újabb verziójú PyCharmok létrehoznak ilyen példafájlokat)."
   ]
  }
 ],
 "metadata": {
  "kernelspec": {
   "display_name": "Python 3",
   "language": "python",
   "name": "python3"
  },
  "language_info": {
   "codemirror_mode": {
    "name": "ipython",
    "version": 3
   },
   "file_extension": ".py",
   "mimetype": "text/x-python",
   "name": "python",
   "nbconvert_exporter": "python",
   "pygments_lexer": "ipython3",
   "version": "3.7.4"
  }
 },
 "nbformat": 4,
 "nbformat_minor": 5
}
