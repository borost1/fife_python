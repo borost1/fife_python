{
 "cells": [
  {
   "cell_type": "markdown",
   "id": "65efe7ea-1398-40f4-a91f-bc0f60ea0b73",
   "metadata": {},
   "source": [
    "# Második lecke\n",
    "## Tematika\n",
    "1. Python fájlok\n",
    "2. Fájlok futtatása bash-ből/cmd-ből, terminalból\n",
    "3. Típuskonverziók II.\n",
    "4. String műveletek"
   ]
  },
  {
   "cell_type": "markdown",
   "id": "741ed915-24a8-47ed-be80-137a6ef6fa33",
   "metadata": {},
   "source": [
    "## Python fájlok\n",
    "A Python kód alapvetően szöveges fájlokba készül, amelyeket a programnyelvhez tartozó fordít le a számítógép számára érthető nyelvre. A Python egy szkriptnyelv, illetve interpretált nyelv, ami azt jelenti, hogy minden művelet futásidőben történik és futásidőben változtatható, illetve hogy a forráskódunk először egy köztes kódra fordul, majd onnan fordul gépi kódra.\n",
    "\n",
    "### Az IDE szerepe, szöveges fájlok\n",
    "A PyCharm egy fejlesztői környezet, ami lényegében egy szövegszerkesztő - csak funkcionálisan programozásra lett alakítva - de Python kódot írhatunk bármilyen fájlba. Az IDE azért hasznos, mert segítséget tud nyújtani abban, ha elírtunk valamit, nem formáztunk megfelelően a kódunkat, vagy valamilyen hibát ejtettünk. Beépített eszközei segítségével könnyebben tudjuk a kódunkat karban tartani és olvasni.\n",
    "\n",
    "## Fájlok futtatása bash-ből\n",
    "A projektünkben már létezik egy üres fájl (az újabb verziójú PyCharmok létrehoznak ilyen példafájlokat) `app.py` néven. Azonban ne ezt szerkesszük, hanem hozzunk létre egy újat `elso.py` néven az IDE segítségével! *Fontos, hogy mindig arra a mappára kattintsunk, ahol szeretnénk létrehozni a fájlt, ami ezúttal a gyökér!*\n",
    "\n",
    "Amint ezzel megvagyunk, nyissuk meg a fájlt szerkesztésre, és írjunk egy egyszerű *Hello world!* programot!\n",
    "```\n",
    "print('Hello world!')\n",
    "```\n",
    "\n",
    "Ezután lépjünk a terminálunkba (ha fut a Jupyter notebook, bezárhatjuk, de akár létrehozhatunk új terminal ablakot is. A korábban már ismert `python` kulcsszó lesz az `elso.py` nevű első Python programunk lefuttatásához! Írjuk hát be a terminálba:\n",
    "```\n",
    "(venv) C:\\Users\\b0r15\\PycharmProjects\\jupyter-test>python elso.py\n",
    "```\n",
    "Az enter lenyomása után konstatálhatjuk, hogy a programunk köszönt egy Hello world!-del, tehát pontosan azt csinálja amire kértük a forráskódban!\n",
    "\n",
    "**A továbbiakban az `elso.py`-t  fogjuk szerkeszteni!**\n",
    "\n",
    "## Típuskonverziók II.\n",
    "Vegyük az összeadós programot az előző óráról, és másoljuk be az `elso.py`-ba!\n",
    "```\n",
    "print(\"Adj már meg két számot, hogy összeadjam neked!\")\n",
    "n = input(\"add meg az elsőt, ide: \")\n",
    "m = input(\"na, jöhet a második: \")\n",
    "n = int(n)\n",
    "m = int(m)\n",
    "s = n + m\n",
    "print(s)\n",
    "```\n",
    "Mi lenne, ha azt szeretnénk, ha a programunk szebben adna választ a felhasználónak? Mondjuk úgy, hogy a végén a következő sort íratjuk ki vele:\n",
    "```\n",
    "Az első szám: n, a második szám: m, a két szám összege s!\n",
    "```\n",
    "Természetesen behelyettesített értékekkel! Használjuk, amit eddig tanultunk!"
   ]
  },
  {
   "cell_type": "code",
   "execution_count": 1,
   "id": "33769950-70c7-47e0-a669-e9f3fd685af6",
   "metadata": {},
   "outputs": [
    {
     "name": "stdout",
     "output_type": "stream",
     "text": [
      "Adj már meg két számot, hogy összeadjam neked!\n"
     ]
    },
    {
     "name": "stdin",
     "output_type": "stream",
     "text": [
      "add meg az elsőt, ide:  12\n",
      "na, jöhet a második:  34\n"
     ]
    },
    {
     "ename": "TypeError",
     "evalue": "can only concatenate str (not \"int\") to str",
     "output_type": "error",
     "traceback": [
      "\u001b[1;31m---------------------------------------------------------------------------\u001b[0m",
      "\u001b[1;31mTypeError\u001b[0m                                 Traceback (most recent call last)",
      "\u001b[1;32m<ipython-input-1-52b9c3c70b43>\u001b[0m in \u001b[0;36m<module>\u001b[1;34m\u001b[0m\n\u001b[0;32m      5\u001b[0m \u001b[0mm\u001b[0m \u001b[1;33m=\u001b[0m \u001b[0mint\u001b[0m\u001b[1;33m(\u001b[0m\u001b[0mm\u001b[0m\u001b[1;33m)\u001b[0m\u001b[1;33m\u001b[0m\u001b[1;33m\u001b[0m\u001b[0m\n\u001b[0;32m      6\u001b[0m \u001b[0ms\u001b[0m \u001b[1;33m=\u001b[0m \u001b[0mn\u001b[0m \u001b[1;33m+\u001b[0m \u001b[0mm\u001b[0m\u001b[1;33m\u001b[0m\u001b[1;33m\u001b[0m\u001b[0m\n\u001b[1;32m----> 7\u001b[1;33m \u001b[0mprint\u001b[0m\u001b[1;33m(\u001b[0m\u001b[1;34m\"Az első szám \"\u001b[0m \u001b[1;33m+\u001b[0m \u001b[0mn\u001b[0m \u001b[1;33m+\u001b[0m \u001b[1;34m\", a második szám \"\u001b[0m \u001b[1;33m+\u001b[0m \u001b[0mm\u001b[0m \u001b[1;33m+\u001b[0m \u001b[1;34m\", a két szám összege \"\u001b[0m \u001b[1;33m+\u001b[0m \u001b[0ms\u001b[0m \u001b[1;33m+\u001b[0m \u001b[1;34m\"!\"\u001b[0m\u001b[1;33m)\u001b[0m\u001b[1;33m\u001b[0m\u001b[1;33m\u001b[0m\u001b[0m\n\u001b[0m",
      "\u001b[1;31mTypeError\u001b[0m: can only concatenate str (not \"int\") to str"
     ]
    }
   ],
   "source": [
    "print(\"Adj már meg két számot, hogy összeadjam neked!\")\n",
    "n = input(\"add meg az elsőt, ide: \")\n",
    "m = input(\"na, jöhet a második: \")\n",
    "n = int(n)\n",
    "m = int(m)\n",
    "s = n + m\n",
    "print(\"Az első szám \" + n + \", a második szám \" + m + \", a két szám összege \" + s + \"!\")"
   ]
  },
  {
   "cell_type": "markdown",
   "id": "55ad18b5-89b4-4774-b393-a47cc1e32f36",
   "metadata": {},
   "source": [
    "A fordító egy **TypeError**-ral, vagyis típushibával tér vissza, írja is angolul, hogy csak stringeket tud összefűzni, vagy inteket összeadni. Tehát a probléma az, mint előző órán, csak ezúttal az `str()` függvény segítségével kellene az egészeket szöveggé alakítani!"
   ]
  },
  {
   "cell_type": "code",
   "execution_count": 3,
   "id": "45bd73a1-57d9-4f6d-9a00-8983354f3562",
   "metadata": {},
   "outputs": [
    {
     "name": "stdout",
     "output_type": "stream",
     "text": [
      "Adj már meg két számot, hogy összeadjam neked!\n"
     ]
    },
    {
     "name": "stdin",
     "output_type": "stream",
     "text": [
      "add meg az elsőt, ide:  12\n",
      "na, jöhet a második:  13\n"
     ]
    },
    {
     "name": "stdout",
     "output_type": "stream",
     "text": [
      "Az első szám 12, a második szám 13, a két szám összege 25!\n"
     ]
    }
   ],
   "source": [
    "print(\"Adj már meg két számot, hogy összeadjam neked!\")\n",
    "n = input(\"add meg az elsőt, ide: \")\n",
    "m = input(\"na, jöhet a második: \")\n",
    "n = int(n)\n",
    "m = int(m)\n",
    "s = n + m\n",
    "# függvényeket tudunk inline, egy sorban is használni, tehát összefűzéskor, ami nagyban segít abban, hogy a kódunk rövid, mégis érthető legyen!\n",
    "print(\"Az első szám \" + str(n) + \", a második szám \" + str(m) + \", a két szám összege \" + str(s) + \"!\")"
   ]
  },
  {
   "cell_type": "markdown",
   "id": "4b08ead9-4a28-4453-8d4f-dc0696fbb1e5",
   "metadata": {},
   "source": [
    "### Kód optimalizálása\n",
    "Egy-egy függvény visszatérési értéke gyakran önmagában használt minden programozási nyelvben. Változóknak új értéket adni külön művelet, amit ha túl gyakran végzünk, könnyen nehezen felderíthető hibákhoz jutunk, rontja a kódunk olvashatóságát és sokszor a futás sebességét is befolyásolja. A fenti példában egyszer a stringként beolvasott számokat konvertáljuk stringből integerré, hogy el tudjuk végezni az összeadást, de aztán vissza is kell őket konvertálni stringgé, hogy ki tudjuk őket íratni. Lehetséges rövidítés:"
   ]
  },
  {
   "cell_type": "code",
   "execution_count": 4,
   "id": "c1df406c-b494-4d14-9333-434f0ea65599",
   "metadata": {},
   "outputs": [
    {
     "name": "stdout",
     "output_type": "stream",
     "text": [
      "Adj már meg két számot, hogy összeadjam neked!\n"
     ]
    },
    {
     "name": "stdin",
     "output_type": "stream",
     "text": [
      "add meg az elsőt, ide:  12\n",
      "na, jöhet a második:  23\n"
     ]
    },
    {
     "name": "stdout",
     "output_type": "stream",
     "text": [
      "Az első szám 12, a második szám 23, a két szám összege 35!\n"
     ]
    }
   ],
   "source": [
    "print(\"Adj már meg két számot, hogy összeadjam neked!\")\n",
    "n = input(\"add meg az elsőt, ide: \")\n",
    "m = input(\"na, jöhet a második: \")\n",
    "s = int(n) + int(m) # így n és m értéke még mindig az eredeti, azaz string maradt!!!\n",
    "print(\"Az első szám \" + n + \", a második szám \" + m + \", a két szám összege \" + str(s) + \"!\")"
   ]
  },
  {
   "cell_type": "code",
   "execution_count": 6,
   "id": "6ea9ee41-1d12-4ab8-838b-026073fb107c",
   "metadata": {},
   "outputs": [
    {
     "name": "stdout",
     "output_type": "stream",
     "text": [
      "Adj már meg két számot, hogy összeadjam neked!\n"
     ]
    },
    {
     "name": "stdin",
     "output_type": "stream",
     "text": [
      "add meg az elsőt, ide:  12\n",
      "na, jöhet a második:  45\n"
     ]
    },
    {
     "name": "stdout",
     "output_type": "stream",
     "text": [
      "Az első szám 12, a második szám 45, a két szám összege 57!\n"
     ]
    }
   ],
   "source": [
    "# még rövidebben:\n",
    "print(\"Adj már meg két számot, hogy összeadjam neked!\")\n",
    "n = input(\"add meg az elsőt, ide: \")\n",
    "m = input(\"na, jöhet a második: \")\n",
    "print(\"Az első szám \" + n + \", a második szám \" + m + \", a két szám összege \" + str(int(n) + int(m)) + \"!\")       "
   ]
  },
  {
   "cell_type": "markdown",
   "id": "09280273-ce0d-4e99-ac09-c3ba1193a6fd",
   "metadata": {},
   "source": [
    "> ## Házi feladat:\n",
    "> Írj egy olyan programot, amely megmondja két szám összegét, különbségét, szorzatát, hányadosát, egész osztásuk eredményét és osztásuk maradékát! Törekedj a tömör kódra!\n",
    "## String műveletek\n",
    "Az már a korábbi példákból látszik, hogy a stringek és az integerek összeadása nem megy konvertálás nélkül, de mindig így van-e?\n",
    "Van egy kivételes eset, amely a későbbiekben még több értelmet fog nyerni, ez pedig a \n",
    "### szorzás"
   ]
  },
  {
   "cell_type": "code",
   "execution_count": 7,
   "id": "3ecdd2ac-b38d-42b7-8a6d-f9f09f853ed7",
   "metadata": {},
   "outputs": [
    {
     "name": "stdout",
     "output_type": "stream",
     "text": [
      "EgyszerEgyszerEgyszerEgyszer\n"
     ]
    }
   ],
   "source": [
    "szoveg = \"Egyszer\"\n",
    "print(4*szoveg)"
   ]
  },
  {
   "cell_type": "markdown",
   "id": "4b53c1aa-9b84-4abb-bfe3-7c1e192cabcf",
   "metadata": {},
   "source": [
    "A többi egyszerű aritmetikai művelettel nem nagyon fogunk boldogulni, de ennél a stringek jóval többet tudnak.\n",
    "### A len() függvény\n",
    "A `len()` egy adott szöveg hosszát adja vissza."
   ]
  },
  {
   "cell_type": "code",
   "execution_count": 8,
   "id": "f0b20ed6-bab7-487e-836a-f7b64004a8d8",
   "metadata": {},
   "outputs": [
    {
     "name": "stdout",
     "output_type": "stream",
     "text": [
      "22\n"
     ]
    }
   ],
   "source": [
    "szoveg = \"ez a szöveg hány betű?\"\n",
    "print(len(szoveg))"
   ]
  },
  {
   "cell_type": "markdown",
   "id": "6d8004fb-6efc-46f4-8b41-1ccb171abc2d",
   "metadata": {},
   "source": [
    "### Indexelés szögletes zárójelek segítségével\n",
    "Ha kíváncsiak vagyunk arra, hogy egy adott szöveg hanyadik betűje micsoda, magát a stringet egy szögletes zárójellel, abban a betű sorszámát jelölve visszakapjuk azt.\n",
    "\n",
    "**Figyelem!!! Minden számolásban az első sorszám a NULLA! 0 !!!**"
   ]
  },
  {
   "cell_type": "code",
   "execution_count": 26,
   "id": "a707de7d-8673-4664-9756-684403416f18",
   "metadata": {},
   "outputs": [
    {
     "name": "stdin",
     "output_type": "stream",
     "text": [
      "Adj meg egy tetszoleges szoveget! Szia, ez egy példa szöveg.\n"
     ]
    },
    {
     "name": "stdout",
     "output_type": "stream",
     "text": [
      "A szoveg harmadik betuje:i\n"
     ]
    },
    {
     "name": "stdin",
     "output_type": "stream",
     "text": [
      "Hanyadik betujere vagy kivancsi? 4\n"
     ]
    },
    {
     "name": "stdout",
     "output_type": "stream",
     "text": [
      "A szoveg 4. betuje a(z) a!\n"
     ]
    }
   ],
   "source": [
    "szoveg = input(\"Adj meg egy tetszoleges szoveget!\")\n",
    "print(\"A szoveg harmadik betuje:\" + szoveg[2])\n",
    "hanyadik = input(\"Hanyadik betujere vagy kivancsi?\")\n",
    "print(\"A szoveg \" + hanyadik + \". betuje a(z) \" + szoveg[int(hanyadik)-1] + \"!\")"
   ]
  },
  {
   "cell_type": "markdown",
   "id": "5858a652-5f6f-4564-9011-baf86da0079e",
   "metadata": {},
   "source": [
    "**Szóközt adott vissza, hiszen a hetedik karakter egy szóköz volt!**\n",
    "\n",
    "Csináljuk meg úgy, hogy a szóközöket ignoráljuk! Ehhez egy újabb függvénnyel fogunk megismerkedni, ami nem más, mint a\n",
    "### replace()\n",
    "A replace függvény azonban egy kicsit másképp működik, mint az eddig  megismert függvények. Hogy miért, azzal most még nem érdemes mélységeiben foglalkozni, legyen elég annyi, hogy ez egy olyan függvény, ami a string típushoz tartozik, és nem közvetlenül a szöveghez, amit beírtunk. Így a használata a `string.replace(mit, mire, ismetles)` formátumú, ahol az ismétlés megadása opcionális, és most nem is fogunk vele foglalkozni."
   ]
  },
  {
   "cell_type": "code",
   "execution_count": 19,
   "id": "26606112-cd0e-4b03-84e7-b97b97b7b699",
   "metadata": {},
   "outputs": [
    {
     "name": "stdin",
     "output_type": "stream",
     "text": [
      "Add meg egy tetszoleges szoveget! tetszoleges szoveg vagyok!\n"
     ]
    },
    {
     "name": "stdout",
     "output_type": "stream",
     "text": [
      "tetszoleges_szoveg_vagyok!\n"
     ]
    }
   ],
   "source": [
    "szoveg = input(\"Add meg egy tetszoleges szoveget!\")\n",
    "# csereljuk ki a szokozoket '_' karakterekre, vagyis alulvonasokra!\n",
    "print(szoveg.replace(' ', '_'))"
   ]
  },
  {
   "cell_type": "code",
   "execution_count": 20,
   "id": "91d3a93f-4f56-4603-9d5b-b6f0edf756af",
   "metadata": {},
   "outputs": [
    {
     "name": "stdout",
     "output_type": "stream",
     "text": [
      "Egytetszőlegesszövegvagyok!Nálamnincstetszőlegesebbszöveg!\n"
     ]
    }
   ],
   "source": [
    "# próbáljuk meg a szóközöket egyszerűen kicserélni!\n",
    "masik_szoveg = \"Egy tetszőleges szöveg vagyok! Nálam nincs tetszőlegesebb szöveg!\"\n",
    "# üres string deklarálható sima két aposztróffal vagy idézőjellel, közte semmi ne legyen: ''\n",
    "print(masik_szoveg.replace(' ', ''))"
   ]
  },
  {
   "cell_type": "markdown",
   "id": "94aef0c2-4030-4d3b-a640-f92c08e4ca10",
   "metadata": {},
   "source": [
    "#### Ez alapján el tudjuk kerülni, hogy szóközt adjon vissza!\n",
    "Sőt, a replace egy chain-elhető függvény. El tudjuk kerülni, hogy visszaadjon vesszőt, pontot, stb. Van ennél jobb módszer is, de elsőre kifejezetten hasznos lehet!"
   ]
  },
  {
   "cell_type": "code",
   "execution_count": 23,
   "id": "c49c3557-39ec-446e-80d3-c55e1d6dd363",
   "metadata": {},
   "outputs": [
    {
     "name": "stdout",
     "output_type": "stream",
     "text": [
      "A szöveg írásjelek nélkül: EgytetszőlegesszövegvagyokNálamnincstetszőlegesebbszövegsohanemisvoltésnemisleszVégülegykijelentőmondat\n"
     ]
    },
    {
     "name": "stdin",
     "output_type": "stream",
     "text": [
      "Hanyadik betujere vagy kivancsi? 33\n"
     ]
    },
    {
     "name": "stdout",
     "output_type": "stream",
     "text": [
      "A szöveg 33. betűje a(z) n!\n"
     ]
    }
   ],
   "source": [
    "szoveg = \"Egy tetszőleges szöveg vagyok! Nálam nincs tetszőlegesebb szöveg, soha nem is volt és nem is lesz! Végül egy kijelentő mondat.\"\n",
    "# először írjuk ki a szöveget írásjelek nélkül, majd kérjük be, hogy hanyadik betűt szeretné a felhasználó\n",
    "nincs_irasjel  = szoveg.replace(' ', '').replace(',','').replace('.','').replace('!','')\n",
    "print(\"A szöveg írásjelek nélkül: \" + nincs_irasjel)\n",
    "hanyadik = input(\"Hanyadik betujere vagy kivancsi?\")\n",
    "print(\"A szöveg \" + hanyadik + \". betűje a(z) \" + nincs_irasjel[int(hanyadik)] + \"!\")"
   ]
  },
  {
   "cell_type": "markdown",
   "id": "9f86766f-b223-45df-b547-6a2118e74c1b",
   "metadata": {},
   "source": [
    "> ### Órai feladat\n",
    "> Írj egy olyan programot, ami bekér a felhasználótól egy szöveget, és megmondja annak az utolsó betűjét! **Negatív indexelés használata tilos!**\n",
    "### Slicing\n",
    "Stringekből darabokat tudunk kihasítani indexelés segítségével, ha a kezdő és záró index közé teszünk egy kettőspontot:"
   ]
  },
  {
   "cell_type": "code",
   "execution_count": 30,
   "id": "555e49be-f87a-4845-87e9-f01ac7f5d5dc",
   "metadata": {},
   "outputs": [
    {
     "name": "stdout",
     "output_type": "stream",
     "text": [
      "ajo\n",
      "mi\n"
     ]
    }
   ],
   "source": [
    "szoveg = \"Vajon mi történik most?\"\n",
    "# az utolsó elem, tehát ami a kettőspont után van, már nincs benne\n",
    "print(szoveg[1:4])\n",
    "# némi hint a 'mi' szó slice-olásához\n",
    "print(szoveg[6:8])"
   ]
  },
  {
   "cell_type": "code",
   "execution_count": 32,
   "id": "c394383d-4755-4596-80b3-c889f96ef404",
   "metadata": {},
   "outputs": [
    {
     "name": "stdout",
     "output_type": "stream",
     "text": [
      "Vajon\n"
     ]
    }
   ],
   "source": [
    "# végződéseknél az index elhagyható!\n",
    "print(szoveg[:5])"
   ]
  },
  {
   "cell_type": "code",
   "execution_count": 34,
   "id": "33b614d5-7f93-464e-870f-6ff8e71ec775",
   "metadata": {},
   "outputs": [
    {
     "name": "stdout",
     "output_type": "stream",
     "text": [
      "Vajonon mi tör\n"
     ]
    }
   ],
   "source": [
    "# természetesen ez lehet értékadás is\n",
    "uj = szoveg[:5] + szoveg[3:12]\n",
    "print(uj)"
   ]
  },
  {
   "cell_type": "markdown",
   "id": "6c603abb-687c-4740-b75b-463da3c50189",
   "metadata": {},
   "source": [
    "### Negatív indexelés\n",
    "Nézzük meg, hogy mi történik, ha negatív indexet adunk meg! A stringek a végüktől is indexelhetők, negatív számokkal!"
   ]
  },
  {
   "cell_type": "code",
   "execution_count": 41,
   "id": "393b3cb4-9a26-4f8a-9c15-98ba0bab7c82",
   "metadata": {},
   "outputs": [
    {
     "name": "stdout",
     "output_type": "stream",
     "text": [
      "?\n",
      "Vajon mi \n"
     ]
    }
   ],
   "source": [
    "# Kérdőjel eredményt várunk, mert a szöveg még mindig: \"Vajon mi történik most?\"\n",
    "print(szoveg[-1])\n",
    "# nézzük, hogy működik ez a módszer splice-olásra!\n",
    "print(szoveg[:-14])"
   ]
  },
  {
   "cell_type": "markdown",
   "id": "7802b86c-1766-4261-b459-40b12aba85c7",
   "metadata": {},
   "source": [
    "### Kisbetűk, nagybetűk\n",
    "A replace-hez hasonló string metódusok (az ilyen típusú függvényeket így hívjuk) alkalmasak arra, hogy csupa nagy vagy csupa kisbetűs szöveget hozzunk létre!\n",
    "\n",
    "Ők az\n",
    "- upper()\n",
    "- lower()\n",
    "függvények. \n",
    "\n",
    "**Közös bennük, hogy semmilyen paramétert nem fogadnak!**"
   ]
  },
  {
   "cell_type": "code",
   "execution_count": 44,
   "id": "28901164-8705-43b5-9950-980889d88149",
   "metadata": {},
   "outputs": [
    {
     "name": "stdout",
     "output_type": "stream",
     "text": [
      "Vajon mi történik most?\n",
      "VAJON MI TÖRTÉNIK MOST?\n",
      "Csupa kisbetűvel pedig: vajon mi történik most?\n"
     ]
    }
   ],
   "source": [
    "print(szoveg)\n",
    "csupa_nagy = szoveg.upper()\n",
    "print(csupa_nagy)\n",
    "print(\"Csupa kisbetűvel pedig: \" + csupa_nagy.lower())"
   ]
  },
  {
   "cell_type": "code",
   "execution_count": 45,
   "id": "46e1af6e-d2e7-43a9-9275-f3fa1f612dbf",
   "metadata": {},
   "outputs": [
    {
     "name": "stdout",
     "output_type": "stream",
     "text": [
      "Vajon mi történik most? - VAJON MI TÖRTÉNIK MOST? - vajon mi történik most?\n"
     ]
    }
   ],
   "source": [
    "print(szoveg + \" - \" + csupa_nagy + \" - \" + csupa_nagy.lower())"
   ]
  },
  {
   "cell_type": "markdown",
   "id": "1ab147e1-af87-41d5-8d15-22478e78fe57",
   "metadata": {},
   "source": [
    "### Házi feladat\n",
    "Írj egy programot, amely segítségével bekéred a felhasználótól a következő adatokat\n",
    "- Keresztneve és vezetékneve\n",
    "- Melyik évben született\n",
    "- Hány centiméter magas\n",
    "- Milyen évet írunk a program futásakor?\n",
    "\n",
    "Válaszban a program mondja meg:\n",
    "- Hány éves a felhasználó\n",
    "- Milyen magas inchben (egy inch 2.54 cm)\n",
    "- Hány betűből áll a neve?\n",
    "- Mi a felhasználó monogramja (csupa nagybetűvel)?"
   ]
  },
  {
   "cell_type": "code",
   "execution_count": null,
   "id": "a0a937b7-69a6-427f-abb7-8b5fcb99ee65",
   "metadata": {},
   "outputs": [],
   "source": []
  }
 ],
 "metadata": {
  "kernelspec": {
   "display_name": "Python 3",
   "language": "python",
   "name": "python3"
  },
  "language_info": {
   "codemirror_mode": {
    "name": "ipython",
    "version": 3
   },
   "file_extension": ".py",
   "mimetype": "text/x-python",
   "name": "python",
   "nbconvert_exporter": "python",
   "pygments_lexer": "ipython3",
   "version": "3.9.2"
  }
 },
 "nbformat": 4,
 "nbformat_minor": 5
}
