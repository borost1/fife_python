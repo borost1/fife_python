{
 "cells": [
  {
   "cell_type": "markdown",
   "id": "d6497a64-5631-4e12-ac72-38d6fd1cd0f0",
   "metadata": {},
   "source": [
    "# Nyolcadik lecke\n",
    "## Objektumorientált programozás\n",
    "1. Programozási paradigmák\n",
    "2. Mik is azok az objektumok?\n",
    "3. Metódusok\n",
    "4. Öröklődés\n",
    "5. Magic functions, varázsfüggvények"
   ]
  },
  {
   "cell_type": "markdown",
   "id": "c8f82fc1-4703-4c07-9983-c7957d225b4c",
   "metadata": {},
   "source": [
    "## 1. Programozási paradigmák\n",
    "- Imperatív paradigma\n",
    "    Direkt utasításokat programozunk a számítógépnek, pontosan meghatározva azt, hogy adott műveletek hogyan végződnek el. Két alparadigmája létezik:\n",
    "    - **Procedurális programozás** \n",
    "        A kód részeit kisebb részekbe, úgynevezett procedúrákba szervezzük. Ilyenek például a függvények (amelyek nem azonosak a funkcionális programozás függvényeivel!).\n",
    "    - **Objektumorientált programozás** \n",
    "        A kód vezérlőelemei objektumok, amelyek tartalmazzák a saját állapotukat (tulajdonságaikat)\n",
    "    Fontos megjegyezni, hogy a fenti két al-paradigma egyáltalán nem zárja ki egymást. Vannak tisztán objektumorientált nyelvek (pl. Java vagy Ruby), vannak tisztán procedurális nyelvek (pl. C), illetve vannak mindkét paradigmát magukba olvasztó nyelvek (pl. C++).\n",
    "- Deklaratív paradigma\n",
    "    Direkt utasítások helyett a problémák deklarálásával érik el céljukat. Számos altípusa van ennek a programozásnak, csak néhány fontosabbat:\n",
    "    - **Funkcionális programozás**\n",
    "        A programozó ún. tiszta függvényekkel dolgozik, kizárólag ezekkel oldja meg a programozási feladatokat. Ilyen nyelv például a Lisp, amely a második létrejött és nagyhatású programnyelv a Fortran után. Ellentétben a Fortrannel, a mai napig nem avult el, legfrissebb dialektusa, a Clojure egyre népszerűbb.\n",
    "    - **Logikai programozás**\n",
    "        A kód tisztán logikai feltételekből áll. Legfontosabb képviselője a Prolog. Manapság ritkán használt.\n",
    "    - **stb.**\n",
    "   A deklaratív paradigmát követő nyelvek általában igen meredek tanulási görbével rendelkeznek, és hardverre való optimalizálásuk is sokszor nehezebb, lassabbak. Hogy miért használják őket mégis, az kiderül abból, hogy hol használják őket:\n",
    "    - Telekommunikációs háttérrendszerek: az ipari standard az Erlang, az előny pedig, hogy a forráskódot nem szükséges sem fordítani, sem interpretálni, így a kód cserélhető menetközben, szolgáltatáskiesés nélkül\n",
    "    - Aszinkron és párhuzamos rendszerek (pl.: streaming szolgáltatások), ahol népszerű pl. a ECMA/Javascript (róla később)\n",
    "    - Nagyon komplex számításokat ellenőrző és hibakorrigáló rendszerek - pl. a NASA navigációs rendszereit, vagy banki rendszereket ellenőrző Haskell, Whatsapp és több tucat chat kliens mögötti Erlang.\n",
    "    \n",
    "### A Python és a paradigmák\n",
    "Mindaz, amit eddig Pythonban tanultunk, az az imperatív programozás része. Ciklusok, elágazások, procedurális megközelítésű függvények, mind-mind az imperatív programozás részei. A Python azonban valamelyest támogatja a funkcionális programozás paradigmáit is (list comprehension, lambda-kalkulus), ezekről a későbbiekben lesz szó. Számos nyelv, például a korábban említett JavaScript is kevert paradigmát alkalmaz, így különféle tervezési logikákat és programozási stílusokat is rugalmasan támogat.\n",
    "\n",
    "Azonban az imperatív programozás egyik fontos kategóriáját, az objektumorientált programozást is támogatja, ebben az órában pedig erről lesz szó.\n",
    "\n",
    "## 2. Mik is azok az objektumok?\n",
    "Az objektumorientált programozás alapját értelemszerűen objektumok adják. Az objektumok magasabb szinten rendezik a kódunkat, összefüggő adatok és műveletek tárolójaként működnek. Pythonban az objektumokat leíró kódrészlet az osztály, és az osztály példányai az objektumok (a példány és az objektum szó valamelyest szinonímák). Az osztály írja le, hogy a hozzá tartozó objektumok milyen adatokat tárolhatnak és milyen műveleteket tudnak elvégezni (az esetek többségében főként a saját magukban tárolt adatokkal). Az osztályokkal kiváló párhuzamban állnak a valóságból ismert háziállatok, így az ő példájukon keresztül fogjuk bemutatni az osztályok legfontosabb tulajdonságait. Az osztályok nevét nagybetűvel illik kezdeni, de nézzük is meg egy konkrét kódon keresztül, hogyan néznek ki!"
   ]
  },
  {
   "cell_type": "code",
   "execution_count": 2,
   "id": "f47c9ad6-5ddc-45b1-a0cb-7bfe5c199cc1",
   "metadata": {},
   "outputs": [
    {
     "name": "stdout",
     "output_type": "stream",
     "text": [
      "Elso cica neve: Micike\n",
      "Elso kutya szine: fekete-feher foltos\n",
      "Elso kutya labak: 4\n"
     ]
    }
   ],
   "source": [
    "class Haziallat:\n",
    "    def __init__(self, nev, szuletesi_ido, milyen_szin):\n",
    "        self.nev = nev\n",
    "        self.szuletesi_ido = szuletesi_ido\n",
    "        self.szin = milyen_szin\n",
    "        \n",
    "    labak_szama = 4\n",
    "        \n",
    "elso_cica = Haziallat(\"Micike\", \"2016.04.04.\", \"cirmos\")\n",
    "elso_kutya = Haziallat(\"Morzsi\", \"2018.08.20.\", \"fekete-feher foltos\")\n",
    "\n",
    "print(f\"Elso cica neve: {elso_cica.nev}\")\n",
    "print(f\"Elso kutya szine: {elso_kutya.szin}\")\n",
    "print(f\"Elso kutya labak: {elso_kutya.labak_szama}\")"
   ]
  },
  {
   "cell_type": "markdown",
   "id": "46cc718e-20d7-4984-bab4-6290cf268c24",
   "metadata": {},
   "source": [
    "### Deklaráció és konstruktor\n",
    "A fenti példában van néhány újdonság, ebből a legegyszerűbb a `class` kulcsszó: ezzel deklaráljuk osztályainkat.\n",
    "\n",
    "Aztán rögtön egy fura nevű függvénnyel kezdődik a kódunk, ő az `__init__(self, ...)`, ő az osztályunk **konstruktora**. Pythonban a két alulvonás közé írt függvények általában speciális tulajdonságú függvények (úgy hívják őket, hogy *magic function*), a későbbiekben fogunk még néhánnyal találkozni, egyelőre csak fogadjuk el, hogy az `__init__()` neve az, ami.\n",
    "\n",
    "**A konstruktor az a függvény, amely meghatározza, hogy később hogyan fogjuk példányosítani az osztályunkat, azaz hogyan fogunk belőle objektumokat konstruálni.**\n",
    "\n",
    "A `self` kulcsszó pedig nem szól másról, mint hogy az osztály önmagára, illetve a belőle készülő példányra referál, tehát a saját tulajdonságait állítja. Minden osztálytulajdonságot ezzel a kulcssszóval kezdünk, és utána ponttal fűzzük a tulajdonság nevét. A `self` a konstruktor első paramétere is, innen tudja a függvény, hogy a műveletet a saját osztályának épp létrejövő példányán kell elvégezni. Számos másik esetben lesz még használva, egy idő után természetes lesz és teljesen logikus.\n",
    "\n",
    "A konstruktor paramétereiben megadhatók az inicializáló tulajdonságok, ez alapján létrejönnek az osztályunk első példányai, az `elso_cica` és az `elso_kutya`, a megfelelő paraméterekkel. Az objektumok elnevezése a változókhoz hasonlatos. A lentebbi sorokban láthatjuk, hogyan lehet kinyerni egy-egy objektumból a benne tárolt tulajdonságokat.\n",
    "\n",
    "Előfordulhat, hogy bizonyos értékeket nem szeretnénk `__init__()` során állítani. Probléma nélkül állíthatunk az objektumhoz tartozó változókat alapértelmezettként is. Amennyiben nem függvénnyel állítjuk egy objektum valamelyik *mezőjét*, akkor viszont nem kell a `self` kulcsszót használni."
   ]
  },
  {
   "cell_type": "code",
   "execution_count": 7,
   "id": "b949e1aa-d3c1-474b-8644-a934f1836466",
   "metadata": {},
   "outputs": [
    {
     "name": "stdout",
     "output_type": "stream",
     "text": [
      "Elso cica neve: Micike\n",
      "Elso kutya szine: fekete-feher foltos\n",
      "Elso kutya labak szama: 4\n"
     ]
    }
   ],
   "source": [
    "class Haziallat:\n",
    "    def __init__(self, nev, szuletesi_ido, szin):\n",
    "        self.nev = nev\n",
    "        self.szuletesi_ido = szuletesi_ido\n",
    "        self.szin = szin\n",
    "        \n",
    "    labak_szama = 4\n",
    "        \n",
    "elso_cica = Haziallat(\"Micike\", \"2016.04.04.\", \"cirmos\")\n",
    "elso_kutya = Haziallat(\"Morzsi\", \"2018.08.20.\", \"fekete-feher foltos\")\n",
    "\n",
    "print(f\"Elso cica neve: {elso_cica.nev}\")\n",
    "print(f\"Elso kutya szine: {elso_kutya.szin}\")\n",
    "print(f\"Elso kutya labak szama: {elso_kutya.labak_szama}\")"
   ]
  },
  {
   "cell_type": "markdown",
   "id": "8b0d8ef4-0932-47cd-a815-c85683f35c30",
   "metadata": {},
   "source": [
    "### Objektumváltozók, mezők felülírása\n",
    "A Python (ellentétben mondjuk a Java-val) nem helyez nagy hangsúlyt az OOP-ben elterjedt láthatósági modellekre, alapértelmezetten minden osztályváltozó és osztályfüggvény (metódus) publikus elérésű, vagyis bárhonnan meghívható, az objektum minden eleme kivülről írható-olvasható.\n",
    "\n",
    "Amennyiben mindenképpen szeretnénk külső scope számára elérhetetlenné (priváttá) tenni az osztály valamelyik változóját vagy metódusát, azt dupla alulvonással a változó neve előtt tehetjük meg. Pl: `__labak_szama`. Ez esetben azonban többé nem hivatkozhatunk kívülről a változóra, egyéb módokhoz kell folyamodnunk, ha kívülről meg akarjuk ismerni - például írni hozzá egy külön metódust - amelyben vissza tudjuk azt adni."
   ]
  },
  {
   "cell_type": "code",
   "execution_count": 4,
   "id": "359ca49b-6d2c-479e-b5f9-5a58d6fb1f09",
   "metadata": {},
   "outputs": [
    {
     "name": "stdout",
     "output_type": "stream",
     "text": [
      "3\n"
     ]
    }
   ],
   "source": [
    "elso_kutya.labak_szama = 3\n",
    "print(elso_kutya.labak_szama)"
   ]
  },
  {
   "cell_type": "code",
   "execution_count": 6,
   "id": "8a20dfac-29a2-4bfd-b8d3-5289a14edd90",
   "metadata": {},
   "outputs": [
    {
     "name": "stdout",
     "output_type": "stream",
     "text": [
      "Elso cica neve: Micike\n",
      "Elso kutya szine: fekete-feher foltos\n",
      "Elso kutya labak szama: 4\n",
      "Bodri\n"
     ]
    }
   ],
   "source": [
    "class Haziallat:\n",
    "    def __init__(self, nev, szuletesi_ido, szin):\n",
    "        self.nev = nev\n",
    "        self.szuletesi_ido = szuletesi_ido\n",
    "        self.szin = szin\n",
    "    def hanylabu(self):\n",
    "        return self.__labak_szama\n",
    "        \n",
    "    __labak_szama = 4\n",
    "        \n",
    "elso_cica = Haziallat(\"Micike\", \"2016.04.04.\", \"cirmos\")\n",
    "elso_kutya = Haziallat(\"Morzsi\", \"2018.08.20.\", \"fekete-feher foltos\")\n",
    "\n",
    "print(f\"Elso cica neve: {elso_cica.nev}\")\n",
    "print(f\"Elso kutya szine: {elso_kutya.szin}\")\n",
    "print(f\"Elso kutya labak szama: {elso_kutya.hanylabu()}\")\n",
    "\n",
    "elso_kutya.nev = \"Bodri\"\n",
    "print(elso_kutya.nev)"
   ]
  },
  {
   "cell_type": "markdown",
   "id": "e8d3c1f8-5ff8-4e77-b430-95807269329e",
   "metadata": {},
   "source": [
    "Mint látható, a változó csak a függvény segítségével kérhető le:"
   ]
  },
  {
   "cell_type": "code",
   "execution_count": 13,
   "id": "8a719912-6793-4b48-9a63-0c9d8bc5bfbe",
   "metadata": {},
   "outputs": [
    {
     "ename": "AttributeError",
     "evalue": "'Haziallat' object has no attribute '__labak_szama'",
     "output_type": "error",
     "traceback": [
      "\u001b[1;31m---------------------------------------------------------------------------\u001b[0m",
      "\u001b[1;31mAttributeError\u001b[0m                            Traceback (most recent call last)",
      "\u001b[1;32m<ipython-input-13-e307443ba8ba>\u001b[0m in \u001b[0;36m<module>\u001b[1;34m\u001b[0m\n\u001b[1;32m----> 1\u001b[1;33m \u001b[0mprint\u001b[0m\u001b[1;33m(\u001b[0m\u001b[0melso_kutya\u001b[0m\u001b[1;33m.\u001b[0m\u001b[0m__labak_szama\u001b[0m\u001b[1;33m)\u001b[0m\u001b[1;33m\u001b[0m\u001b[1;33m\u001b[0m\u001b[0m\n\u001b[0m",
      "\u001b[1;31mAttributeError\u001b[0m: 'Haziallat' object has no attribute '__labak_szama'"
     ]
    }
   ],
   "source": [
    "print(elso_kutya.__labak_szama)"
   ]
  },
  {
   "cell_type": "markdown",
   "id": "dc1cfba9-38b7-4875-9eb6-90260f1fdfcd",
   "metadata": {},
   "source": [
    "Hasonlóképp tehetjük az osztályunk függvényeit (metódusait) is privát elérésűre - tehát csak az osztályon belül érhető el.\n",
    "\n",
    "A probléma megkerülésére vannak tipikus példák, amelyeket olyan programnyelvekben, mint a Java, szinte általánosan vannak használva, őket hívjük *getter-eknek és setter-eknek*, a meghatározott változókat pedig *property*-knek. Későbbiekben, a **decorator**-öknél még fogunk velük találkozni.\n",
    "\n",
    "## 3. Metódusok\n",
    "Korábban már hallottuk, hogy mik azok a metódusok - ők az osztályok függvényei, ez a fenti példában is jól látszik. Hasonlóképp használjuk őket, mint a korábban megismert, ponttal íródó függvényeket, például a `.split()` metódust.\n",
    "\n",
    "A metódusok csak akkor érik el a saját osztályukban tárolt értékeket, ha a `self` paramétert megkapják, azonban nagyon fontos, hogy kaphatnak külső paramétereket is, erre láthatunk példát a következőekben!"
   ]
  },
  {
   "cell_type": "code",
   "execution_count": 7,
   "id": "3c7955e7-419d-4256-bebc-4f4320ead867",
   "metadata": {},
   "outputs": [
    {
     "name": "stdout",
     "output_type": "stream",
     "text": [
      "Mici mondja: miau!\n",
      "Bodri mondja: vau!\n"
     ]
    }
   ],
   "source": [
    "class Haziallat:\n",
    "    def __init__(self, nev, szuletesi_ido, szin):\n",
    "        self.nev = nev\n",
    "        self.szuletesi_ido = szuletesi_ido\n",
    "        self.szin = szin\n",
    "    def hanylabu(self):\n",
    "        return self.__labak_szama\n",
    "    \n",
    "    __labak_szama = 4\n",
    "    \n",
    "    def allathang(self, sound):\n",
    "        print(f\"{self.nev} mondja: {sound}!\")\n",
    "        \n",
    "mici = Haziallat(\"Mici\", \"2014.06.02.\", \"cirmos\")\n",
    "mici.allathang(\"miau\")\n",
    "\n",
    "bodri = Haziallat(\"Bodri\", \"2020. 02. 13.\", \"foltos\")\n",
    "bodri.allathang(\"vau\")"
   ]
  },
  {
   "cell_type": "markdown",
   "id": "a2ba9be0-9fbf-433e-84b8-65f7e02c18ee",
   "metadata": {},
   "source": [
    "## 4. Öröklődés\n",
    "Az osztályok egyik legfontosabb tulajdonsága Pythonban, hogy öröklődésre képesek. Így jönnek létre szülő- és gyermek-osztályok, ahol a **gyermek osztályok a szülők összes tulajdonságát öröklik, de azok felülírhatók, illetve a szülő osztályból tetszőlegesen tovább bővíthetőek!** Öröklődés során az új osztály neve után zárójelet teszünk, és abba írjuk bele a szülő osztály nevét. Kitűnő szemléltető példa, ha vesszük a háziállatokat, ahol a gyermek-osztályok lehetnek a különböző háziállat-fajok."
   ]
  },
  {
   "cell_type": "code",
   "execution_count": 51,
   "id": "30c66be6-e985-4000-9e47-84d3e0637ef7",
   "metadata": {},
   "outputs": [
    {
     "name": "stdout",
     "output_type": "stream",
     "text": [
      "Cica spawnolt\n",
      "4\n",
      "Mici mondja: miau!\n",
      "4\n",
      "Kukori\n"
     ]
    }
   ],
   "source": [
    "class Haziallat:\n",
    "    def __init__(self, nev, szuletesi_ido, szin):\n",
    "        self.nev = nev\n",
    "        self.szuletesi_ido = szuletesi_ido\n",
    "        self.szin = szin\n",
    "    def hanylabu(self):\n",
    "        return self.__labak_szama\n",
    "    \n",
    "    __labak_szama = 4\n",
    "    \n",
    "    def allathang(self, sound):\n",
    "        print(f\"{self.nev} mondja: {sound}!\")\n",
    "        \n",
    "\n",
    "class Cica(Haziallat):\n",
    "    def __init__(self, nev, szuletesi_ido, szin):\n",
    "        print(\"Cica spawnolt\")\n",
    "        super().__init__(nev, szuletesi_ido, szin)\n",
    "        \n",
    "mici = Cica(\"Mici\", \"2020.02.20\", \"cirmos\")\n",
    "print(mici.hanylabu())\n",
    "mici.allathang(\"miau\")\n",
    "\n",
    "\n",
    "class Tyuk(Haziallat):\n",
    "    def __init__(self, nev, szuletesi_ido, szin):\n",
    "        super().__init__(nev, szuletesi_ido, szin)\n",
    "    __labak_szama = 2\n",
    "\n",
    "kukori = Tyuk(\"Kukori\", \"2020.03.12\", \"barna\")\n",
    "print(str(kukori.hanylabu()))\n",
    "print(kukori.nev)"
   ]
  },
  {
   "cell_type": "markdown",
   "id": "367200c8-9724-48dc-9a76-6226c6a388cb",
   "metadata": {},
   "source": [
    "**Mivel a lábak száma privát, így a gyermek-osztály sem tudja elérni!** \n",
    "\n",
    "Tegyük egyszerű változóvá! Figyeljük meg, hogy a konstruktort és a többi függvényt is automatikusan örökli az új osztály!"
   ]
  },
  {
   "cell_type": "code",
   "execution_count": 54,
   "id": "f05e51ff-970e-4abf-b644-0a66e692c19d",
   "metadata": {},
   "outputs": [
    {
     "name": "stdout",
     "output_type": "stream",
     "text": [
      "Cica spawnolt\n",
      "4\n",
      "Mici mondja: miau!\n",
      "2\n",
      "Kukori\n",
      "Kukori mondja: kotkodács!\n"
     ]
    }
   ],
   "source": [
    "class Haziallat:\n",
    "    def __init__(self, nev, szuletesi_ido, szin):\n",
    "        self.nev = nev\n",
    "        self.szuletesi_ido = szuletesi_ido\n",
    "        self.szin = szin\n",
    "    def hanylabu(self):\n",
    "        return self.labak_szama\n",
    "    \n",
    "    labak_szama = 4\n",
    "    \n",
    "    def allathang(self, sound):\n",
    "        print(f\"{self.nev} mondja: {sound}!\")\n",
    "        \n",
    "\n",
    "class Cica(Haziallat):\n",
    "    def __init__(self, nev, szuletesi_ido, szin):\n",
    "        print(\"Cica spawnolt\")\n",
    "        super().__init__(nev, szuletesi_ido, szin)\n",
    "        \n",
    "mici = Cica(\"Mici\", \"2020.02.20\", \"cirmos\")\n",
    "print(mici.hanylabu())\n",
    "mici.allathang(\"miau\")\n",
    "\n",
    "\n",
    "class Tyuk(Haziallat):\n",
    "    labak_szama = 2\n",
    "\n",
    "kukori = Tyuk(\"Kukori\", \"2020.03.12\", \"barna\")\n",
    "print(str(kukori.hanylabu()))\n",
    "print(kukori.nev)\n",
    "kukori.allathang(\"kotkodács\")"
   ]
  },
  {
   "cell_type": "markdown",
   "id": "2ae23a5a-ce4f-4d6a-ade0-f11d47b06044",
   "metadata": {},
   "source": [
    "## 5. Magic functions, avagy varázsfüggvények\n",
    "Korábban láthattuk a konstruktort, ő egy varázsfüggvény: speciális függvény, amivel alapértelmezetten minden osztály rendelkezik. Létezik még néhány másik ilyen függvény is. Az egyikük a `__str__()`, ami meghatározza, hogy milyen stringgé konvertálódik az osztályunk. Hasonlóan definiálható a `len()` kiértékeléséhez használható `__len()__` függvény, nézzük meg őket egy példán keresztül, ahol definiáljuk a kutyusok osztályát is!"
   ]
  },
  {
   "cell_type": "code",
   "execution_count": 59,
   "id": "e8afa74d-67f6-4d31-ae7b-56fdc090c595",
   "metadata": {},
   "outputs": [
    {
     "name": "stdout",
     "output_type": "stream",
     "text": [
      "Bodri a nevem, foltos a szinem!\n",
      "6\n"
     ]
    }
   ],
   "source": [
    "class Kutya(Haziallat):\n",
    "    def __str__(self):\n",
    "        return f\"{self.nev} a nevem, {self.szin} a szinem!\"\n",
    "    \n",
    "    def __len__(self):\n",
    "        return len(self.szin)\n",
    "        \n",
    "bodri = Kutya(\"Bodri\", \"2020.02.20\", \"foltos\")\n",
    "print(bodri)\n",
    "print(str(len(bodri)))"
   ]
  },
  {
   "cell_type": "markdown",
   "id": "b7ae5081-dae2-4675-8b49-c8a5eca3fad1",
   "metadata": {},
   "source": [
    "Vannak további magic functionök is Pythonban, róluk majd később lesz említés."
   ]
  },
  {
   "cell_type": "markdown",
   "id": "d0da1087-cf5e-4645-8747-c92c1384e5c8",
   "metadata": {},
   "source": [
    "## Órai feladat\n",
    "A `Haziallat` osztályt írjuk át úgy, hogy a hangadás ne paraméterezett metódus legyen, hanem egy egyszerű stringben tároljuk az osztályban, hogy milyen hangot ad ki az állat. Származtassuk le belőle a `Kutya`, `Cica`, `Boci`, `Lovacska`, `Tyuk` és `Kacsa` osztályokat, ahol minden gyermekosztály tudja, hogy hány lába van és milyen hangot ad ki!\n",
    "\n",
    "Vegyük fel mind a hat állatfajnak az adatait a felhasználótól, és tároljuk le őket egy `allatok` nevű listában. Ha sikerült az adatrögzítés, szólaltassuk meg az összes állatot, és írassuk ki, hogy melyiküknek hány lába van!"
   ]
  },
  {
   "cell_type": "markdown",
   "id": "4b32a979-3762-49db-aa2f-4124f7062c26",
   "metadata": {},
   "source": [
    "## Házi feladat\n",
    "Találj magadnak egy pet projectet! Nem ez lesz az egyetlen a kurzus folyamán, és ne valami hatalmas dolgot válassz, hanem valami olyat, amibe hajlandó vagy néhány nap fejlesztést beletenni. A konzolt/terminált nagyon nem érdemes elhagyni, de ha valaki nagyon szeretné, akkor ez is megengedhető :)\n",
    "Néhány példa, amit a jelenlegi tudásunkkal meg tudunk csinálni (mindhez érdemes még néhány dolgot elsajátítani):\n",
    "1. **Akasztófa-játék** előre megadott szavakkal, konfigurálható játékosszámmal, pontszámmal és akkurátus akasztással ascii artból\n",
    "2. **Szöveges kalandjáték** előre meghatározott szobákkal és cselekvési lehetőségekkel.\n",
    "3. **Pokémon-név generátor** vagy bármilyen hasonló névgenerátor.\n",
    "4. **Személyes jegyzettömb** amivel le tudod menteni a jegyzeteidet és feladataidat, ki tudod őket írni fájlba és vissza tudod tölteni\n",
    "5. **Átváltó alkalmazás** amivel egy csomó formátumot át tudsz váltani, például centiből inchbe, vagy órából percbe, vagy alapvető elektronikai számításokat tudsz elvégezni.\n",
    "6. **Kit kell gyűlölni app** amivel le tudod kérdezni a legnépszerűbb magyar hírportálok nyitólapját és meg tudod számolni a leggyakrabban gyűlölni valókat - vagy amit a preferenciád szerint elképzelsz.\n",
    "\n",
    "A következőket tartsd szem előtt:\n",
    "- Kitalálhatsz nyugodtan olyan dolgot, ami egyelőre csak konzolban működik, ahogy haladunk előre, tudunk majd web interface-t vagy UI-t írni hozzá\n",
    "- Minden projekthez lesz személyes segítség az órán elhangzottakon felül\n",
    "- Egyelőre a raspberrys projekteket hagyjuk nyár végére - akkorra lesz hozzá elég tudás (pipet, gitet használni stb.)"
   ]
  }
 ],
 "metadata": {
  "kernelspec": {
   "display_name": "Python 3",
   "language": "python",
   "name": "python3"
  },
  "language_info": {
   "codemirror_mode": {
    "name": "ipython",
    "version": 3
   },
   "file_extension": ".py",
   "mimetype": "text/x-python",
   "name": "python",
   "nbconvert_exporter": "python",
   "pygments_lexer": "ipython3",
   "version": "3.9.2"
  }
 },
 "nbformat": 4,
 "nbformat_minor": 5
}
