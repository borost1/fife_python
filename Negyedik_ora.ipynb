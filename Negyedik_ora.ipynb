{
 "cells": [
  {
   "cell_type": "markdown",
   "id": "9bf2f248-76e8-4ac7-a6dc-10667b4f6800",
   "metadata": {},
   "source": [
    "# Negyedik lecke\n",
    "## Logikai elágazások\n",
    "1. Alapok\n",
    "2. Boole-algebra\n",
    "3. Egymásba ágyazott feltételek\n",
    "4. Listák és feltételek, `any` és `all`\n",
    "\n",
    "### 1. Alapok\n",
    "Vegyük példának az alábbi programot:\n",
    "- a felhasználótól bekérünk egy számot\n",
    "- a számról megállapítjuk, hogy kisebb vagy nagyobb, mint 10, esetleg egyenlő vele\n",
    "Ahhoz, hogy ezt implementáljuk, egy új építőkockát kell megtanulnunk, a logikai elágazást.\n",
    "\n",
    "#### Boolean típus\n",
    "Elengedhetetlen, hogy megértsük a boolean típust ahhoz, hogy jó elágazásokat tudjunk írni.\n",
    "A boolean egy olyan típus, aminek két értéke lehet: igaz vagy hamis. Nyelven belül ez `True` vagy `False` lehet.\n",
    "A típus gyakran logikai kiértékelések eredményeképp jön létre, ilyen logikai kiértékelés az, hogy valami kisebb\n",
    "vagy nagyobb, mint egy másik, esetleg egyenlő vele."
   ]
  },
  {
   "cell_type": "code",
   "execution_count": 4,
   "id": "4920a10f-cbee-4605-8064-2c9503d75e55",
   "metadata": {},
   "outputs": [
    {
     "name": "stdout",
     "output_type": "stream",
     "text": [
      "<class 'bool'>\n",
      "True\n"
     ]
    }
   ],
   "source": [
    "a = 56\n",
    "b = 100\n",
    "c = a < b\n",
    "print(type(c))\n",
    "print(c)"
   ]
  },
  {
   "cell_type": "markdown",
   "id": "2f3991f0-0c7a-40b3-8ec4-308871206787",
   "metadata": {},
   "source": [
    "### Összehasonlítások\n",
    "|szimbólum|jelentés|példa|\n",
    "|-|-|-|\n",
    "|`<`, `<=`|reláció, *kisebb, mint; nagyobb vagy egyenlő, mint*|`5 < 6` True|\n",
    "|`>`, `>=`|reláció, *nagyobb, mint; nagyobb vagy egyenlő, mint*|`5 >= 6` False|\n",
    "|`==`|**egyenlő -e?**|`5 == 6` False; `'alma' == 'alma'` True|\n",
    "|`!`|**tagadás**|`!True` False; `5 != 6` True|"
   ]
  },
  {
   "cell_type": "code",
   "execution_count": 7,
   "id": "02785476-b665-433f-a9cd-6187d2958a59",
   "metadata": {},
   "outputs": [
    {
     "name": "stdout",
     "output_type": "stream",
     "text": [
      "True\n",
      "True\n"
     ]
    }
   ],
   "source": [
    "feltetel_1 = True != False\n",
    "print(feltetel_1)\n",
    "hello = \"hello\"\n",
    "ugyanaz_e = hello == \"hello\"\n",
    "print(ugyanaz_e)"
   ]
  },
  {
   "cell_type": "markdown",
   "id": "e2133b97-a282-43a4-bdac-b545e175d6bd",
   "metadata": {},
   "source": [
    "#### Indentation\n",
    "Fejlesztés során bizonyos kódblokkok logikai összefüggésbe fognak kerülni és/vagy csak együtt értelmesek, és a fordítónak egyben kell értelmeznie azt a kódrészletet. A Python, számos nyelvvel ellentétben ezeket a blokkokat indentation-nel jelöli,\n",
    "vagyis ezeket a részeket egy tabbal (vagy kettő/négy szóközzel) bentebb írja. A bentebb írt kódrésznek saját scope-ja van, vagyis az ott létrehozott változók pl. csak azon a blokkon belül vannak értelmezve. Ahhoz azonban, hogy ezt pontosan\n",
    "értelmezni tudjuk, könnyebb, ha megnézünk egy példát és belevágunk a logikai elágazásokba.\n",
    "\n",
    "### Ha...\n",
    "A fenti példából látható, hogy valamikor az alapján kell működnie a kódunknak, hogy egy adott feltétel igaz-e, vagy sem.\n",
    "Ezeket a programozásban *logikai elágazásoknak* hívjuk, más néven if-else elágazásoknak. Ha a feltétel teljesül, a feltételhez tartozó blokk fog teljesülni (ezt kell indentationnel - bentebb - írni). Máskülönben írhatóak további feltételek, illetve ha egyik feltétel sem teljesül, írható egy `else` ág, amely nem teljesült feltételek esetén fut le. Az `else` ág nem kötelező.\n",
    "Nézzük a programot!"
   ]
  },
  {
   "cell_type": "code",
   "execution_count": 1,
   "id": "df45e1cf-fe92-40de-8e46-312961d5367b",
   "metadata": {},
   "outputs": [
    {
     "name": "stdin",
     "output_type": "stream",
     "text": [
      "Adj meg egy számot, megmondom, hogy kisebb, vagy nagyobb-e tíznél! 11\n"
     ]
    },
    {
     "name": "stdout",
     "output_type": "stream",
     "text": [
      "A szám nagyobb, mint tíz!\n"
     ]
    }
   ],
   "source": [
    "szam = int(input(\"Adj meg egy számot, megmondom, hogy kisebb, vagy nagyobb-e tíznél!\"))\n",
    "\n",
    "if szam < 10:\n",
    "    print(\"A szám kisebb, mint tíz!\")\n",
    "elif szam > 10:\n",
    "    print(\"A szám nagyobb, mint tíz!\")\n",
    "else: # kizárásos alapon\n",
    "    print(\"A szám egyenlő tízzel!\")"
   ]
  },
  {
   "cell_type": "markdown",
   "id": "62cb07c1-5fa0-4933-89fb-ba7c0247fa3b",
   "metadata": {},
   "source": [
    "### 2. Boole-algebra\n",
    "A Boole-algebra a logika egyik fontos tudományterülete, az informatikában pedig kiemelten fontos szerepet kap a logikai elágazásokban. Névadója, [George Boole](https://hu.wikipedia.org/wiki/George_Boole) azzal foglalkozott, hogy bizonyos logikai feltételek többszörösen összetett módon hogyan teljesülnek. Hogy ez mit is jelent, azt nézzük meg egy következő feladattal példaként:\n",
    "> #### Feladat\n",
    "> A felhasználó megad egy számot. Ha ez a szám tíznél kisebb és páros, akkor írjuk ki neki azt, hogy *cica*, ha tíznél nagyobb és páratlan, akkor írjuk ki neki, hogy `kutya`, minden egyéb esetben pedig írjuk ki, hogy `malac`!\n",
    "#### Logikai kapcsolatok\n",
    "Ahhoz, hogy ilyen feltételeket tudjunk írni, először meg kell ismerkednünk a kételemű Boole-algebrából átemelt logikai kapcsolatokat, mely a következők:\n",
    "- **tagadás** (not) - vele már találkoztunk is fentebb, őt szokás többek között felkiáltójellel is jelölni\n",
    "- **vagy-vagy** kapcsolat (or)\n",
    "- **és** kapcsolat (and)\n",
    "Minden többi logikai kapcsolat ezen fenti háromból előálltható, ilyen a kizáró vagy (xor), tagadó és (nand) stb. Ezeknek ma már legfőképp elektronikában van értelmük, ahol ezek az úgynevezett logikai kapuk annyira integráns részei egymásnak, hogy külön kezelendők. Szerencsénkre kódot könnyebb gyártani, mint alkatrészt forrasztani, így velük annyira nem is kell részletesen foglalkoznunk.\n",
    "\n",
    "A logikai kapcsolatok kiértékeléseit az úgynevezett **igazságtáblázatokban** szokás megadni.\n",
    "\n",
    "##### Tagadás (not)\n",
    "|a|nem a|\n",
    "|-|-|\n",
    "|igaz|hamis|\n",
    "|hamis|igaz|\n",
    "\n",
    "Vagy a programnyelv kifejezéseivel élve:\n",
    "\n",
    "|a|not a|\n",
    "|-|-|\n",
    "|True|False|\n",
    "|False|True|"
   ]
  },
  {
   "cell_type": "code",
   "execution_count": 7,
   "id": "e6e7ce66-5396-4b64-9a49-ee6a2a664936",
   "metadata": {},
   "outputs": [
    {
     "name": "stdout",
     "output_type": "stream",
     "text": [
      "False\n"
     ]
    }
   ],
   "source": [
    "a = True\n",
    "print(not a)"
   ]
  },
  {
   "cell_type": "markdown",
   "id": "7721eae8-e2a6-425f-b954-a3090baf2d14",
   "metadata": {},
   "source": [
    "A legtöbb programnyelvben a `not` kulcsszó kiváltható a `!` használatával, ez pythonban nincs így, csak bizonyos helyeken használható, például egyenlőség tagadására: `!=`\n",
    "\n",
    "#### Vagy (or)\n",
    "|a|b|a or b|\n",
    "|-|-|-|\n",
    "|True|True|True|\n",
    "|True|False|True|\n",
    "|False|True|True|\n",
    "|False|False|False|\n",
    "\n",
    "##### Triviális példával élve:\n",
    "\n",
    "|Sanyi dolgozik|Laci dolgozik|Sanyi vagy Laci dolgozik|\n",
    "|-|-|-|\n",
    "|igen, dolgozik|igen, dolgozik|igaz, Sanyi vagy Laci dolgozik (mivel mindketten dolgoznak)|\n",
    "|igen, dolgozik|nem, nem dolgozik|igaz, mivel Sanyi dolgozik|\n",
    "|nem, nem dolgozik|igen, dolgozik||igaz, mivel Laci dolgozik|\n",
    "|nem, nem dolgozik|nem, nem dolgozik|hamis, mivel egyikük sem dolgozik|\n",
    "\n",
    "Mindez kódban, egy apró trükkel (avagy hogyan tudunk több változónak egy sorban értéket adni):"
   ]
  },
  {
   "cell_type": "code",
   "execution_count": 12,
   "id": "131d9c6c-2f16-49c8-90a4-57ac22e6bd43",
   "metadata": {},
   "outputs": [
    {
     "name": "stdout",
     "output_type": "stream",
     "text": [
      "a - b - a or b\n",
      "True True True\n",
      "True False True\n",
      "False True True\n",
      "False False False\n"
     ]
    }
   ],
   "source": [
    "print(\"a - b - a or b\")\n",
    "a, b = True, True\n",
    "print(a, b, a or b)\n",
    "a, b = True, False\n",
    "print(a, b, a or b)\n",
    "a, b = False, True\n",
    "print(a, b, a or b)\n",
    "a, b = False, False\n",
    "print(a, b, a or b)"
   ]
  },
  {
   "cell_type": "markdown",
   "id": "5f388271-a3e9-404a-b791-3dda3efe37b5",
   "metadata": {},
   "source": [
    "#### És (and)\n",
    "Az igazságtáblázat:\n",
    "\n",
    "|a|b|a and b|\n",
    "|-|-|-|\n",
    "|True|True|True|\n",
    "|False|True|False|\n",
    "|True|False|False|\n",
    "|False|False|False|"
   ]
  },
  {
   "cell_type": "code",
   "execution_count": 13,
   "id": "de3d746b-0300-4e4f-8807-906e84e5bdc9",
   "metadata": {},
   "outputs": [
    {
     "name": "stdout",
     "output_type": "stream",
     "text": [
      "a - b - a and b\n",
      "True True True\n",
      "True False False\n",
      "False True False\n",
      "False False False\n"
     ]
    }
   ],
   "source": [
    "print(\"a - b - a and b\")\n",
    "a, b = True, True\n",
    "print(a, b, a and b)\n",
    "a, b = True, False\n",
    "print(a, b, a and b)\n",
    "a, b = False, True\n",
    "print(a, b, a and b)\n",
    "a, b = False, False\n",
    "print(a, b, a and b)"
   ]
  },
  {
   "cell_type": "markdown",
   "id": "03954fe8-5324-443f-8631-ecfb5fea587c",
   "metadata": {},
   "source": [
    "A fenti feladathoz mindkét esetben `and`-re lesz szükségünk, hiszen mindkét feltételnek egyszerre kell érvényesülnie, hogy az állításunk `True` legyen!"
   ]
  },
  {
   "cell_type": "code",
   "execution_count": 17,
   "id": "4feb74d6-a2eb-44f3-8957-2b8694c9c72e",
   "metadata": {},
   "outputs": [
    {
     "name": "stdin",
     "output_type": "stream",
     "text": [
      "Adj meg egy számot:  12\n"
     ]
    },
    {
     "name": "stdout",
     "output_type": "stream",
     "text": [
      "malac\n"
     ]
    }
   ],
   "source": [
    "szam = int(input(\"Adj meg egy számot: \"))\n",
    "if szam < 10 and szam % 2 == 0:\n",
    "    print(\"cica\")\n",
    "elif szam > 10 and szam % 2 == 1:\n",
    "    print(\"kutya\")\n",
    "else:\n",
    "    print(\"malac\")"
   ]
  },
  {
   "cell_type": "markdown",
   "id": "470a5286-0233-46e6-a97f-74ed3ce88e58",
   "metadata": {},
   "source": [
    "## 3. Egymásba ágyazott feltételek\n",
    "A legtöbb programnyelvben számos esetben egymásba kell ágyaznunk kódrészleteket, erre szemléletes példa a következő feladat elágazásoknál:\n",
    "\n",
    "> ### Feladat - egymásba ágyazott feltételek\n",
    "> Bonyolódjon a következő feltételekkel!\n",
    "> Ha a megadott szám húsznál kisebb, akkor ha:\n",
    "> - tíznél nagyobb vagy páratlan, akkor 'cica'\n",
    "> - tíznél kisebb vagy egyenlő és páros, akkor 'kutya'\n",
    "> \n",
    "> Máskülönben:\n",
    "> - húsznál nagyobb és páros: 'malac'\n",
    "> - húsznál nagyobb és páratlan: 'boci'"
   ]
  },
  {
   "cell_type": "code",
   "execution_count": 31,
   "id": "657e7161-1e48-4420-82d7-ae35f7cc5a1d",
   "metadata": {},
   "outputs": [
    {
     "name": "stdin",
     "output_type": "stream",
     "text": [
      "Adj meg egy számot:  -23\n"
     ]
    },
    {
     "name": "stdout",
     "output_type": "stream",
     "text": [
      "cica\n"
     ]
    }
   ],
   "source": [
    "szam = int(input(\"Adj meg egy számot: \"))\n",
    "\n",
    "if szam < 20:\n",
    "    if szam > 10 or szam % 2 == 1:\n",
    "        print('cica')\n",
    "    else:\n",
    "        print('kutya')\n",
    "else:\n",
    "    if szam % 2 == 0:\n",
    "        print('malac')\n",
    "    else:\n",
    "        print('boci')"
   ]
  },
  {
   "cell_type": "markdown",
   "id": "11dd7434-5ddb-439a-875f-15f9deb2cc22",
   "metadata": {},
   "source": [
    "## 4. Listák és feltételek, `any` és `all`\n",
    "#### Példa\n",
    "A felhasználó megad egy egész számot.\n",
    "Amennyiben erre a számra mind teljesül az alábbi feltételek közül:\n",
    "- páros\n",
    "- három vagy több számjegyből áll\n",
    "\n",
    "Akkor kiírjuk, hogy 'százas páros'.\n",
    "\n",
    "Máskülönben, ha az alábbiak közül bármelyik igaz:\n",
    "- utolsó számjegye egy, három, hét vagy kilenc\n",
    "- hat számjegyű, vagy kevesebb, de háromnál nagyobb\n",
    "\n",
    "Akkor kiírjuk, hogy \"fura szám, de még nem biztos, hogy prím\""
   ]
  },
  {
   "cell_type": "code",
   "execution_count": 49,
   "id": "d2213666-12e1-427c-b236-5466c24b1610",
   "metadata": {},
   "outputs": [
    {
     "name": "stdin",
     "output_type": "stream",
     "text": [
      "add meg a számot:  33\n"
     ]
    },
    {
     "name": "stdout",
     "output_type": "stream",
     "text": [
      "ez egy fura szám\n"
     ]
    }
   ],
   "source": [
    "szam  = input(\"add meg a számot: \")\n",
    "\n",
    "szazas_paros = [\n",
    "    int(szam) % 2 == 0,\n",
    "    len(szam) > 2\n",
    "]\n",
    "\n",
    "fura_szam = [\n",
    "    int(szam[-1]) in [1,3,7,9],\n",
    "    3 <= len(szam) <= 6,\n",
    "]\n",
    "\n",
    "if all(szazas_paros):\n",
    "    print(\"százas páros\")\n",
    "elif any(fura_szam):\n",
    "    print(\"ez egy fura szám\")\n",
    "else:\n",
    "    print(\"ebben a számban nincs semmi érdekes\")"
   ]
  },
  {
   "cell_type": "markdown",
   "id": "02360457-a79c-42dd-b660-51d75c211626",
   "metadata": {},
   "source": [
    "Ez a listás módszer nagy segítségünkre lehet a későbbiekben, ha nagyon sok feltételünk van, vagy dinamikusan kell őket generálni.\n",
    "\n",
    "#### `in` kulcsszó\n",
    "A példában látható egy alábbi *állítás*:\n",
    "```\n",
    "int(szam[-1]) in [1,3,7,9]\n",
    "```\n",
    "Listák esetén az `in` kulcsszó segítségével megállapíthatjuk, hogy `a` eleme-e `l` listának."
   ]
  },
  {
   "cell_type": "code",
   "execution_count": 50,
   "id": "be5911b6-a769-4e4b-9f31-fd23a4d0b320",
   "metadata": {},
   "outputs": [
    {
     "name": "stdin",
     "output_type": "stream",
     "text": [
      "adj meg egy számot 1-10 között:  3\n"
     ]
    },
    {
     "name": "stdout",
     "output_type": "stream",
     "text": [
      "páratlan\n"
     ]
    }
   ],
   "source": [
    "a = int(input(\"adj meg egy számot 1-10 között: \"))\n",
    "b = a in [1,3,5,7,9]\n",
    "if b:\n",
    "    print(\"páratlan\")\n",
    "else:\n",
    "    print(\"páros\")"
   ]
  },
  {
   "cell_type": "markdown",
   "id": "218511d8-ee7f-4131-8777-ef98a6b532e8",
   "metadata": {},
   "source": [
    "Természetesen mindez működhet `not in`-nel is!"
   ]
  },
  {
   "cell_type": "code",
   "execution_count": 51,
   "id": "f530e7f6-4847-473a-88aa-48567fecd884",
   "metadata": {},
   "outputs": [
    {
     "name": "stdin",
     "output_type": "stream",
     "text": [
      "adj meg egy számot 1-10 között:  5\n"
     ]
    },
    {
     "name": "stdout",
     "output_type": "stream",
     "text": [
      "páratlan\n"
     ]
    }
   ],
   "source": [
    "a = int(input(\"adj meg egy számot 1-10 között: \"))\n",
    "b = a not in [1,3,5,7,9]\n",
    "if b:\n",
    "    print(\"páros\")\n",
    "else:\n",
    "    print(\"páratlan\")"
   ]
  }
 ],
 "metadata": {
  "kernelspec": {
   "display_name": "Python 3",
   "language": "python",
   "name": "python3"
  },
  "language_info": {
   "codemirror_mode": {
    "name": "ipython",
    "version": 3
   },
   "file_extension": ".py",
   "mimetype": "text/x-python",
   "name": "python",
   "nbconvert_exporter": "python",
   "pygments_lexer": "ipython3",
   "version": "3.9.2"
  }
 },
 "nbformat": 4,
 "nbformat_minor": 5
}
