{
 "cells": [
  {
   "cell_type": "markdown",
   "id": "9bf2f248-76e8-4ac7-a6dc-10667b4f6800",
   "metadata": {},
   "source": [
    "# Negyedik lecke\n",
    "## Ciklusok és logikai elágazások\n",
    "1. Logikai elágazások\n",
    "\n",
    "### 1. Logikai elágazások\n",
    "Vegyük példának az alábbi programot:\n",
    "- a felhasználótól bekérünk egy számot\n",
    "- a számról megállapítjuk, hogy kisebb vagy nagyobb, mint 10, esetleg egyenlő vele\n",
    "Ahhoz, hogy ezt implementáljuk, egy új építőkockát kell megtanulnunk, a logikai elágazást.\n",
    "\n",
    "#### Boolean típus\n",
    "Elengedhetetlen, hogy megértsük a boolean típust ahhoz, hogy jó elágazásokat tudjunk írni.\n",
    "A boolean egy olyan típus, aminek két értéke lehet: igaz vagy hamis. Nyelven belül ez `True` vagy `False` lehet.\n",
    "A típus gyakran logikai kiértékelések eredményeképp jön létre, ilyen logikai kiértékelés az, hogy valami kisebb\n",
    "vagy nagyobb, mint egy másik, esetleg egyenlő vele."
   ]
  },
  {
   "cell_type": "code",
   "execution_count": 4,
   "id": "4920a10f-cbee-4605-8064-2c9503d75e55",
   "metadata": {},
   "outputs": [
    {
     "name": "stdout",
     "output_type": "stream",
     "text": [
      "<class 'bool'>\n",
      "True\n"
     ]
    }
   ],
   "source": [
    "a = 56\n",
    "b = 100\n",
    "c = a < b\n",
    "print(type(c))\n",
    "print(c)"
   ]
  },
  {
   "cell_type": "markdown",
   "id": "2f3991f0-0c7a-40b3-8ec4-308871206787",
   "metadata": {},
   "source": [
    "### Összehasonlítások\n",
    "|szimbólum|jelentés|példa|\n",
    "|-|-|-|\n",
    "|`<`, `<=`|reláció, *kisebb, mint; nagyobb vagy egyenlő, mint*|`5 < 6` True|\n",
    "|`>`, `>=`|reláció, *nagyobb, mint; nagyobb vagy egyenlő, mint*|`5 >= 6` False|\n",
    "|`==`|**egyenlő -e?**|`5 == 6` False; `'alma' == 'alma'` True|\n",
    "|`!`|**tagadás**|`!True` False; `5 != 6` True|"
   ]
  },
  {
   "cell_type": "code",
   "execution_count": 7,
   "id": "02785476-b665-433f-a9cd-6187d2958a59",
   "metadata": {},
   "outputs": [
    {
     "name": "stdout",
     "output_type": "stream",
     "text": [
      "True\n",
      "True\n"
     ]
    }
   ],
   "source": [
    "feltetel_1 = True != False\n",
    "print(feltetel_1)\n",
    "hello = \"hello\"\n",
    "ugyanaz_e = hello == \"hello\"\n",
    "print(ugyanaz_e)"
   ]
  },
  {
   "cell_type": "markdown",
   "id": "e2133b97-a282-43a4-bdac-b545e175d6bd",
   "metadata": {},
   "source": [
    "#### Indentation\n",
    "Fejlesztés során bizonyos kódblokkok logikai összefüggésbe fognak kerülni és/vagy csak együtt értelmesek, és a fordítónak egyben kell értelmeznie azt a kódrészletet. A Python, számos nyelvvel ellentétben ezeket a blokkokat indentation-nel jelöli,\n",
    "vagyis ezeket a részeket egy tabbal (vagy kettő/négy szóközzel) bentebb írja. A bentebb írt kódrésznek saját scope-ja van, vagyis az ott létrehozott változók pl. csak azon a blokkon belül vannak értelmezve. Ahhoz azonban, hogy ezt pontosan\n",
    "értelmezni tudjuk, könnyebb, ha megnézünk egy példát és belevágunk a logikai elágazásokba.\n",
    "\n",
    "### Ha...\n",
    "A fenti példából látható, hogy valamikor az alapján kell működnie a kódunknak, hogy egy adott feltétel igaz-e, vagy sem.\n",
    "Ezeket a programozásban *logikai elágazásoknak* hívjuk, más néven if-else elágazásoknak"
   ]
  }
 ],
 "metadata": {
  "kernelspec": {
   "display_name": "Python 3",
   "language": "python",
   "name": "python3"
  },
  "language_info": {
   "codemirror_mode": {
    "name": "ipython",
    "version": 3
   },
   "file_extension": ".py",
   "mimetype": "text/x-python",
   "name": "python",
   "nbconvert_exporter": "python",
   "pygments_lexer": "ipython3",
   "version": "3.9.2"
  }
 },
 "nbformat": 4,
 "nbformat_minor": 5
}
