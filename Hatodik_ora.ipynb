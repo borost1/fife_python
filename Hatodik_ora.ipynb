{
 "cells": [
  {
   "cell_type": "markdown",
   "id": "4ef96041-e4cf-426f-bd3f-84a8418f80de",
   "metadata": {},
   "source": [
    "# Hatodik lecke\n",
    "1. Függvények I.\n",
    "2. Külső modulok, import\n",
    "\n",
    "## 1. Függvények I.\n",
    "Számos beépített függvénnyel eddig is találkoztunk már. Találkoztunk több típusokkal is, voltak egyszerű függvények, illetve a ponttal összekötött metódusok.\n",
    "Előfordul azonban, hogy a saját függvényeinket kell megírnunk, ugyanis nagyban javítják a kódunk átláthatóságát, újrahasznosíthatóságát.\n",
    "\n",
    "De nézzük végig konkrét példákon keresztül! Függvényt a **def** kulcsszó segítségével deklarálunk. Ahogy megszoktuk már korábbi függvényeknél, zárójelek követik a függvény nevét, ahova paramétereket sorolhatunk fel!\n",
    "\n",
    "### Visszatérési érték nélküli függvények\n",
    "Lehetnek olyan függvényeink, amelyek egyszerűen végrehajtják azokat a műveleteket amelyeket megadunk nekik."
   ]
  },
  {
   "cell_type": "code",
   "execution_count": 1,
   "id": "1f758c6a-3cda-4b6e-beee-23cec3597f00",
   "metadata": {},
   "outputs": [
    {
     "name": "stdout",
     "output_type": "stream",
     "text": [
      "37\n"
     ]
    }
   ],
   "source": [
    "def osszead(elso, masodik):\n",
    "    print(elso + masodik)\n",
    "    \n",
    "a = 5\n",
    "b = 32\n",
    "osszead(a, b)"
   ]
  },
  {
   "cell_type": "markdown",
   "id": "2fb3c45b-7c15-4da1-96c1-1cf757cd64bb",
   "metadata": {},
   "source": [
    "### Függvények visszatérési értékkel\n",
    "Arra is láttunk már példát, hogy egy függvény visszatér egy adott értékkel, így változónak akarunk értéket adni. Induljunk ki a fenti példából, de ezúttal ne printeljük a függvényen belül ki az összeadás eredményét, ehelyett térjünk vissza a kiszámított értékkel!"
   ]
  },
  {
   "cell_type": "code",
   "execution_count": 3,
   "id": "9f1faf52-c347-4731-9ba4-73ed89f4c804",
   "metadata": {},
   "outputs": [
    {
     "name": "stdout",
     "output_type": "stream",
     "text": [
      "308\n"
     ]
    }
   ],
   "source": [
    "def osszead(elso, masodik):\n",
    "    return elso + masodik\n",
    "\n",
    "a = 23\n",
    "b = 285\n",
    "c = osszead(a, b)\n",
    "# a printelős sor futása nélkül semmit nem fog kiírni a programunk!\n",
    "print(c)"
   ]
  },
  {
   "cell_type": "markdown",
   "id": "81d4a329-c90a-4868-bcf0-ab30fcced7c3",
   "metadata": {},
   "source": [
    "A típusosság természetesen ilyen esetben ugyanúgy fontos, ugyanolyan módon viselkedik az összeadás művelet, mint eddig!"
   ]
  },
  {
   "cell_type": "code",
   "execution_count": 8,
   "id": "0e1b0911-9071-40fc-85d6-a3466e41f5ee",
   "metadata": {},
   "outputs": [
    {
     "name": "stdout",
     "output_type": "stream",
     "text": [
      "sziaöt\n"
     ]
    },
    {
     "ename": "TypeError",
     "evalue": "can only concatenate str (not \"int\") to str",
     "output_type": "error",
     "traceback": [
      "\u001b[0;31m---------------------------------------------------------------------------\u001b[0m",
      "\u001b[0;31mTypeError\u001b[0m                                 Traceback (most recent call last)",
      "\u001b[0;32m<ipython-input-8-8f05e1684c8e>\u001b[0m in \u001b[0;36m<module>\u001b[0;34m\u001b[0m\n\u001b[1;32m      6\u001b[0m \u001b[0mszoveg\u001b[0m \u001b[0;34m=\u001b[0m \u001b[0;34m\"szia\"\u001b[0m\u001b[0;34m\u001b[0m\u001b[0;34m\u001b[0m\u001b[0m\n\u001b[1;32m      7\u001b[0m \u001b[0mszam\u001b[0m \u001b[0;34m=\u001b[0m \u001b[0;36m5\u001b[0m\u001b[0;34m\u001b[0m\u001b[0;34m\u001b[0m\u001b[0m\n\u001b[0;32m----> 8\u001b[0;31m \u001b[0mosszeg\u001b[0m \u001b[0;34m=\u001b[0m \u001b[0mosszead\u001b[0m\u001b[0;34m(\u001b[0m\u001b[0mszoveg\u001b[0m\u001b[0;34m,\u001b[0m \u001b[0mszam\u001b[0m\u001b[0;34m)\u001b[0m\u001b[0;34m\u001b[0m\u001b[0;34m\u001b[0m\u001b[0m\n\u001b[0m\u001b[1;32m      9\u001b[0m \u001b[0mprint\u001b[0m\u001b[0;34m(\u001b[0m\u001b[0mosszeg\u001b[0m\u001b[0;34m)\u001b[0m\u001b[0;34m\u001b[0m\u001b[0;34m\u001b[0m\u001b[0m\n",
      "\u001b[0;32m<ipython-input-3-081c6d64a673>\u001b[0m in \u001b[0;36mosszead\u001b[0;34m(elso, masodik)\u001b[0m\n\u001b[1;32m      1\u001b[0m \u001b[0;32mdef\u001b[0m \u001b[0mosszead\u001b[0m\u001b[0;34m(\u001b[0m\u001b[0melso\u001b[0m\u001b[0;34m,\u001b[0m \u001b[0mmasodik\u001b[0m\u001b[0;34m)\u001b[0m\u001b[0;34m:\u001b[0m\u001b[0;34m\u001b[0m\u001b[0;34m\u001b[0m\u001b[0m\n\u001b[0;32m----> 2\u001b[0;31m     \u001b[0;32mreturn\u001b[0m \u001b[0melso\u001b[0m \u001b[0;34m+\u001b[0m \u001b[0mmasodik\u001b[0m\u001b[0;34m\u001b[0m\u001b[0;34m\u001b[0m\u001b[0m\n\u001b[0m\u001b[1;32m      3\u001b[0m \u001b[0;34m\u001b[0m\u001b[0m\n\u001b[1;32m      4\u001b[0m \u001b[0ma\u001b[0m \u001b[0;34m=\u001b[0m \u001b[0;36m23\u001b[0m\u001b[0;34m\u001b[0m\u001b[0;34m\u001b[0m\u001b[0m\n\u001b[1;32m      5\u001b[0m \u001b[0mb\u001b[0m \u001b[0;34m=\u001b[0m \u001b[0;36m285\u001b[0m\u001b[0;34m\u001b[0m\u001b[0;34m\u001b[0m\u001b[0m\n",
      "\u001b[0;31mTypeError\u001b[0m: can only concatenate str (not \"int\") to str"
     ]
    }
   ],
   "source": [
    "szoveg = \"szia\"\n",
    "szam_szoveg = \"öt\"\n",
    "osszeg = osszead(szoveg, szam_szoveg)\n",
    "print(osszeg)\n",
    "\n",
    "szoveg = \"szia\"\n",
    "szam = 5\n",
    "osszeg = osszead(szoveg, szam)\n",
    "print(osszeg)"
   ]
  },
  {
   "cell_type": "markdown",
   "id": "08fe7e00-2a16-4614-9c3c-19102c5ea2a5",
   "metadata": {},
   "source": [
    "### Alapértelmezett paraméterek\n",
    "Függvény esetén meg tudjuk adni bizonyos paraméterek alapértelmezett értékét, így azok később a függvény hívásakor opcionálissá válnak, és kívülről írhatóak felül."
   ]
  },
  {
   "cell_type": "code",
   "execution_count": 9,
   "id": "bfb4bfc6-a701-4153-ae4a-de193c910d3c",
   "metadata": {},
   "outputs": [
    {
     "name": "stdout",
     "output_type": "stream",
     "text": [
      "9\n",
      "18\n"
     ]
    }
   ],
   "source": [
    "def osszead(a1, b1, c1=0):\n",
    "    return a1 + b1 + c1\n",
    "\n",
    "a = 4\n",
    "b = 5\n",
    "print(osszead(a, b))\n",
    "c = 9\n",
    "print(osszead(a, b, c))"
   ]
  },
  {
   "cell_type": "markdown",
   "id": "fe4b0aab-d8a7-4937-a4af-4d52be13b2b5",
   "metadata": {},
   "source": [
    ">## Órai feladat\n",
    "Írj egy olyan függvényt, amely két számot fogad paraméterként. Ha mindkét szám páros, akkor összeadja őket, ha mindkét szám páratlan, akkor szorozza össze őket, ha pedig vegyesen vannak, úgy az első számot emelje a második hatványára! A függvény az eredménnyel térjen vissza változóban!\n",
    "\n",
    "A függvényekről később még (sokkal) részletesebben lesz szó!"
   ]
  },
  {
   "cell_type": "markdown",
   "id": "20477a2a-44f9-424c-9e01-ec079aa074e7",
   "metadata": {},
   "source": [
    "## 2. Külső modulok importálása\n",
    "\n",
    "A kód olvashatóságát nagyban segíti, ha a kódunkat több fájlba tudjuk szervezni. Így akár külön fájlban tudjuk kezelni a függvényeinket, később osztályainkat stb.\n",
    "\n",
    "A programunknak mindig van azonban egy úgynevezett belépési pontja, amely a fő vezérlő utasításokat tartalmazza. A külső fájlokkal való összeköttetést nekünk kell biztosítani.\n",
    "\n",
    "Hozzunk létre egy `fuggvenyek.py` nevű fájlt, és ebben hozzuk létre a következő három függvényt!"
   ]
  },
  {
   "cell_type": "code",
   "execution_count": 33,
   "id": "8730cda4-c8bf-49cc-8e59-ea454df4762e",
   "metadata": {},
   "outputs": [],
   "source": [
    "def elso_fuggveny():\n",
    "    print(\"ez az első függvény!\")\n",
    "    \n",
    "def masodik_fuggveny():\n",
    "    print(\"ez a második függvény!\")\n",
    "    \n",
    "def harmadik_fuggveny():\n",
    "    print(\"ez a harmadik függvény!\")"
   ]
  },
  {
   "cell_type": "markdown",
   "id": "7d985e0d-cc2c-4a81-8d09-b99ca8e63249",
   "metadata": {},
   "source": [
    "Az órai munkát tartalmazó `hatodik.py` fájlba kell behívnunk ezt a három függvényt.\n",
    "Ehhez hivatkoznunk kell a `fuggvenyek.py` fájlra, amelyet az `import` kulcsszóval tudunk megtenni a következőképp:\n",
    "```\n",
    "import fuggvenyek\n",
    "```\n",
    "Ezután bármelyik függvényre a következőképpen tudunk hivatkozni:\n",
    "```\n",
    "fuggvenyek.elso_fuggveny()\n",
    "fuggvenyek.masodik_fuggveny()\n",
    "```\n",
    "*Ha Jupyterben is létezik a fájlunk, ugyanúgy be tudjuk hivatkozni - oldalt látható is!*"
   ]
  },
  {
   "cell_type": "code",
   "execution_count": 12,
   "id": "864dc4d7-725e-4158-ba76-c80be97d368c",
   "metadata": {},
   "outputs": [
    {
     "name": "stdout",
     "output_type": "stream",
     "text": [
      "ez az első függvény!\n",
      "ez a második függvény!\n"
     ]
    }
   ],
   "source": [
    "import fuggvenyek\n",
    "\n",
    "fuggvenyek.elso_fuggveny()\n",
    "fuggvenyek.masodik_fuggveny()"
   ]
  },
  {
   "cell_type": "markdown",
   "id": "52df7273-e063-4659-8a74-0f0a6ebbafab",
   "metadata": {},
   "source": [
    "Amennyiben csak egy specifikus függvényt szeretnénk behivatkozni, akkor azt a `from ... import ...` szerkezettel tudjuk megtenni az alábbi módon:"
   ]
  },
  {
   "cell_type": "code",
   "execution_count": 26,
   "id": "642bd8d6-0314-4369-ae3e-745c510a47b6",
   "metadata": {},
   "outputs": [
    {
     "name": "stdout",
     "output_type": "stream",
     "text": [
      "ez az első függvény!\n"
     ]
    }
   ],
   "source": [
    "from fuggvenyek import elso_fuggveny\n",
    "\n",
    "elso_fuggveny()"
   ]
  },
  {
   "cell_type": "markdown",
   "id": "ff5e083d-c7f5-40fe-8a32-91bb7601e78d",
   "metadata": {},
   "source": [
    "#### Figyelem! Importáláskor a függvény neve után nem tesszük ki a zárójelet!\n",
    "Látható, hogy ilyen helyzetben viszont nem kell kitennünk az előhivatkozást a fájlra, nem kell a `fuggvenyek.elso_fuggveny()`, elég a függvényt a saját nevén behivatkozni.\n",
    "\n",
    "*Akár adhatunk a függvénynek aliast is, a következő formában:*\n",
    "```\n",
    "from fuggvenyek import harmadik_fuggveny as harmadik\n",
    "\n",
    "harmadik()\n",
    "```"
   ]
  },
  {
   "cell_type": "markdown",
   "id": "19b34384-54db-4aa2-aed0-f9e909767d34",
   "metadata": {},
   "source": [
    "### Beépített modulok\n",
    "A következőekben találkozni fogunk viszonylag gyakran olyan Pythonba alapvetően beépített, mégis csak importálással elérhető modulokkal. Az első ilyen modul a random, amelyet véletlen adatok előállítására lehet használni.\n",
    "\n",
    "Ebből a modulból pedig a randint függvényt fogjuk használni, amely egy kétparaméteres függvény, az első az alsó határt, a második pedig a felső határt jelöli ki, amely számok közül választ. Mind az alsó, mind a felső határ értéke még benne lehet a választásban.\n",
    "\n",
    "[random modul dokumentáció](https://docs.python.org/3/library/random.html)"
   ]
  },
  {
   "cell_type": "code",
   "execution_count": 47,
   "id": "f9cde338-7404-44fd-8ba2-8f4ef102dae9",
   "metadata": {},
   "outputs": [
    {
     "name": "stdout",
     "output_type": "stream",
     "text": [
      "10\n",
      "2\n",
      "6\n",
      "1\n",
      "6\n",
      "1845\n",
      "1291\n",
      "523\n",
      "245\n",
      "1068\n"
     ]
    }
   ],
   "source": [
    "from random import randint\n",
    "\n",
    "for i in range(5):\n",
    "    print(randint(1,10))    \n",
    "\n",
    "for i in range(5):\n",
    "    print(randint(1,10000))"
   ]
  },
  {
   "cell_type": "markdown",
   "id": "16ad4170-9fff-4192-a6d3-f36370b3b2fb",
   "metadata": {},
   "source": [
    "> ### Házi feladat\n",
    "> 1. Készíts egy tippelős programot! A gép kitalál egy számot egy és száz között, majd a felhasználónak addig kell tippelnie, míg el nem találja! Minden tippre mondania kell valamit a gépnek, ha a gondolt szám nagyobb, mint a bemondott, akkor azt, hogy nagyobb, ha kisebb, akkor azt. Találat esetén gratuláljunk!"
   ]
  }
 ],
 "metadata": {
  "kernelspec": {
   "display_name": "Python 3",
   "language": "python",
   "name": "python3"
  },
  "language_info": {
   "codemirror_mode": {
    "name": "ipython",
    "version": 3
   },
   "file_extension": ".py",
   "mimetype": "text/x-python",
   "name": "python",
   "nbconvert_exporter": "python",
   "pygments_lexer": "ipython3",
   "version": "3.7.4"
  }
 },
 "nbformat": 4,
 "nbformat_minor": 5
}
