{
 "cells": [
  {
   "cell_type": "markdown",
   "id": "8c7f432a-c250-4b3f-8dc9-1c1b2f88453f",
   "metadata": {},
   "source": [
    "# Nulladik lecke - Telepítés\n",
    "\n",
    "1. Python telepítése\n",
    "2. PyCharm telepítése"
   ]
  },
  {
   "cell_type": "markdown",
   "id": "a1391771-3118-467b-98a1-78bf24a7cf42",
   "metadata": {},
   "source": [
    "## Python telepítése\n",
    "\n",
    "Tölsd le az [operációs rendszerednek megfelelő verziót innen](https://www.python.org/downloads/), és bizonyosodj meg róla, hogy a telepítés során hozzáadod PATH-hoz a pythont.\n",
    "Amennyiben az operációs rendszer kéri, úgy indítsd újra!"
   ]
  },
  {
   "cell_type": "markdown",
   "id": "bee295c5-86e3-4119-818d-e7d7f25e35cb",
   "metadata": {},
   "source": [
    "## PyCharm telepítése\n",
    "[Töltsd le az operációs rendszerednek / architektúrádnak megfelelő verziót innen](https://www.jetbrains.com/pycharm/) - bizonyosodj meg róla, hogy a **Community Edition**-t töltöd le, ugyanis ez az ingyenes verzió. Valószínűleg szintén újraindítást fog kérni.\n",
    "\n",
    "### Hozz létre egy új projektet!\n",
    "Bárhova, ahol a gépeden szeretnéd tárolni a kurzust és szeretnél gyakorolni.\n",
    "\n",
    "Ha megnyílt a projekted, és kész szerkesztésre, a bal alsó sarok környékén lesz egy `Terminal` feliratú gomb, amelyre klikkelve alul felnyílik egy kis parancssor, a következő szöveggel:\n",
    "```\n",
    "Microsoft Windows [Version 10.0.19041.928]\n",
    "(c) Microsoft Corporation. All rights reserved.\n",
    "\n",
    "(venv) C:\\Users\\b0r15\\PycharmProjects\\jupyter-test>\n",
    "```\n",
    "Ami innen fontos, hogy megjelenjen a **(venv)** felirat a terminálod elején! **Ha nincs ott, sikíts!**\n",
    "Ide kell beírni a következő parancsot (erről később lesz még szó), hogy telepítsd a Jupyter Notebookot!\n",
    "```\n",
    "pip install jupyterlab\n",
    "```\n",
    "Ez elvileg telepíteni fogja a Jupyter Lab nevű dokumentációs eszközt, amit sok hasznos dologra fogunk tudni használni.\n",
    "\n",
    "### Lecke fájlok letöltése githubról\n",
    "[Innen töltsd le a git repository-t](https://github.com/borost1/fife_python), a \"Code\" feliratú gombnál, *download ZIP* lehetőségre kattintva le tudod tölteni a teljes tananyagot, ami itt folyamatosan frissülni fog.\n",
    "\n",
    "A zipből elsősorban az **ipynb** kiterjesztésű fájlokra lesz szükség, ezeket be kell másolni a projekt gyökerébe (nagyon fontos, hogy **ne a venv mappa alá**!\n",
    "\n",
    "Ezután a korábban megismert terminalba, a következő parancsot kiadva egy böngészőablakban meg fog nyílni a Jupyter Lab a projekttel egyetemben!\n",
    "```\n",
    "jupyter-lab\n",
    "```\n",
    "Ez a localhost nevű webcímre mutat, bal oldalról böngészhetőek a már elkészült leckefájlok, illetve létrehozhatunk gyakorló munkafüzeteket stb."
   ]
  }
 ],
 "metadata": {
  "kernelspec": {
   "display_name": "Python 3",
   "language": "python",
   "name": "python3"
  },
  "language_info": {
   "codemirror_mode": {
    "name": "ipython",
    "version": 3
   },
   "file_extension": ".py",
   "mimetype": "text/x-python",
   "name": "python",
   "nbconvert_exporter": "python",
   "pygments_lexer": "ipython3",
   "version": "3.9.2"
  }
 },
 "nbformat": 4,
 "nbformat_minor": 5
}
