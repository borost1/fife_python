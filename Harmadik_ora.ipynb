{
 "cells": [
  {
   "cell_type": "markdown",
   "id": "a6ada732-6844-44b2-9843-200aea35e4c8",
   "metadata": {},
   "source": [
    "# Harmadik lecke - listák\n",
    "\n",
    "## Tematika\n",
    "1. List típus"
   ]
  },
  {
   "cell_type": "markdown",
   "id": "a6b36343-1c80-46fc-a3e9-78f470eb9a81",
   "metadata": {},
   "source": [
    "### 1. List típus\n",
    "A Python egyik leggyakoribb típusa a lista, avagy list. Ez változó típusú, de összefüggő elemekből álló lista, ahol *fontos a sorrend*, tehát **rendezett**, *ugyanaz az elem többször is szerepelhet*, **duplikáció előfordulhat**. A lista tetszőlegesen mutálható, azaz elemeket vehetünk ki belőle, elemeket adhatunk hozzá vagy szúrhatunk be, ehhez számos hasznos metódus áll rendelkezésünkre. A list az úgynevezett *iterable* típusok közé tartozik, ami egy olyan tulajdonságot jelent, hogy minden elemét meg tudjuk vizsgálni.\n",
    "\n",
    "A lista elemeit **szögletes zárójel** közé vesszük föl, **az elemeket vesszővel választjuk el**."
   ]
  },
  {
   "cell_type": "code",
   "execution_count": 2,
   "id": "525bbf7a-335d-4cbf-a9d7-9f66d48df2ae",
   "metadata": {},
   "outputs": [
    {
     "name": "stdout",
     "output_type": "stream",
     "text": [
      "['a', 'b', 1, 2]\n"
     ]
    }
   ],
   "source": [
    "lista = [\"a\",\"b\", 1, 2]\n",
    "print(lista)"
   ]
  },
  {
   "cell_type": "code",
   "execution_count": 4,
   "id": "98e87dc9-24f8-4d18-8512-33c178bc9e23",
   "metadata": {},
   "outputs": [
    {
     "name": "stdout",
     "output_type": "stream",
     "text": [
      "['szia', 10.2, 33, 'a', 'b', 1, 2]\n"
     ]
    }
   ],
   "source": [
    "# lista elemének adhatunk meg változót is, ez lehet bármilyen típus\n",
    "a = \"szia\"\n",
    "b = 10.2\n",
    "c = 33\n",
    "lista = [a, b, c, \"a\", \"b\", 1, 2]\n",
    "print(lista)"
   ]
  },
  {
   "cell_type": "markdown",
   "id": "59bf2e0e-84b5-4ea5-94e0-99978869dcd9",
   "metadata": {},
   "source": [
    "#### Indexelés, lista hossza\n",
    "A listák és a stringek számos dologban hasonlítanak, így az indexelésük is hasonlóan 0-tól kezdődik. \n",
    "A negatív indexelés és a splice-olás is a stringeknél megszokott módon működik.\n",
    "\n",
    "Ugyanúgy a `len()` függvény segítségével tudjuk meghatározni, hány elemből állnak."
   ]
  },
  {
   "cell_type": "code",
   "execution_count": 25,
   "id": "db86b1b7-6ef8-4043-99f4-8a96fe4fa171",
   "metadata": {},
   "outputs": [
    {
     "name": "stdout",
     "output_type": "stream",
     "text": [
      "['hello', 'jó napot', 'szia', 10.2, 33, 'a', 'b', 1, 2, 20, 'husz']\n",
      "A lista nulladik és első eleme: hello, jó napot\n",
      "11\n",
      "A lista első három eleme: ['hello', 'jó napot', 'szia'], a lista utolsó eleme: husz\n"
     ]
    }
   ],
   "source": [
    "# ne feledjük, hogy a Jupyter megköveteli a típuskonverziókat! extra trükk: a korábban definiált változóra később is emlékszik a Jupyter is!\n",
    "print(lista)\n",
    "print(\"A lista nulladik és első eleme: \" + lista[0] + \", \" + str(lista[1]))\n",
    "print(len(lista))\n",
    "print(\"A lista első három eleme: \" + str(lista[:3]) + \", a lista utolsó eleme: \" + str(lista[-1]))"
   ]
  },
  {
   "cell_type": "markdown",
   "id": "06201f3d-6653-44c6-8745-787af5a5e632",
   "metadata": {},
   "source": [
    "#### Elemek hozzáfűzése, beszúrása\n",
    "A `len()`-hez hasonló metódusok állnak rendelkezésünkre ahhoz, hogy a listához elemeket adjunk hozzá, vagy szúrjunk be adott indexnél.\n",
    "- `append(a)` - `a` változó elemként való hozzáadása. Az `append()` függvény egy értéket (argumentumot) fogad, ez pedig a hozzáfűzendő elem.\n",
    "- `insert(i, a)` - `i` indexre beszúrja `a` változót a listába."
   ]
  },
  {
   "cell_type": "code",
   "execution_count": 21,
   "id": "ca79a33c-1865-4de6-9810-ca2514158773",
   "metadata": {},
   "outputs": [
    {
     "name": "stdout",
     "output_type": "stream",
     "text": [
      "['szia', 10.2, 33, 'a', 'b', 1, 2, 20, 'husz']\n",
      "['hello', 'szia', 10.2, 33, 'a', 'b', 1, 2, 20, 'husz']\n",
      "['hello', 'jó napot', 'szia', 10.2, 33, 'a', 'b', 1, 2, 20, 'husz']\n"
     ]
    }
   ],
   "source": [
    "lista = ['szia', 10.2, 33, 'a', 'b', 1, 2]\n",
    "lista.append(20)\n",
    "lista.append(\"husz\")\n",
    "print(lista)\n",
    "lista.insert(0,\"hello\")\n",
    "print(lista)\n",
    "lista.insert(1,\"jó napot\")\n",
    "print(lista)"
   ]
  },
  {
   "cell_type": "markdown",
   "id": "bd06d03b-93db-4d5f-bd8a-bd07062848b2",
   "metadata": {},
   "source": [
    "#### Elemek cseréje, törlése\n",
    "Elemeket tudunk úgy cserélni, hogy az indexükre hivatkozva felüldefiniáljuk őket.\n",
    "Elemeket többféle módon is törölhetünk:\n",
    "- `del list[elem]`: a `del` kulcsszó segítségével tudunk lista elemeket indexre hivatkozással törölni. Teljes funkcionalitása ennél egy picit komplexebb, egyelőre legyen annyi elég, hogy kifejezésként adott lista elemre indexelve (spliceolva is!) tudunk törölni elemeket.\n",
    "- `remove(e)` - a `remove()` függvény segítségével explicit módon meg tudjuk adni, melyik elemet szeretnénk törölni! **Ilyenkor csak az első ilyen elemet törli indexelés szerint haladva!**\n",
    "- `pop(i)` - ezzel a függvénnyel az `i` indexű elemet töröljük. Ha nem adunk meg indexet, akkor az utolsó (-1) elemet törli. A `pop()` függvény vissza is ad értéket, ez most csak ízelítő lesz abból, hogy mit jelent, később azonban nagy mélységeiben lesz erről szó :)"
   ]
  },
  {
   "cell_type": "code",
   "execution_count": 29,
   "id": "1aca96b2-a72d-4670-b285-fa152ac667bb",
   "metadata": {},
   "outputs": [
    {
     "name": "stdout",
     "output_type": "stream",
     "text": [
      "['hello', 'jó napot', 'szia', 10.2, 33, 'a', 'b', 1, 2, 20, 'husz']\n",
      "['hello', 'jó napot', 'cső', 10.2, 33, 'a', 'b', 1, 2, 20, 'husz']\n",
      "['hello', 'jó napot', 'cső', 10.2, 33, 'a', 'b', 1, 2, 20, 'husz', 10.2]\n",
      "['hello', 'jó napot', 'cső', 33, 'a', 'b', 1, 2, 20, 'husz', 10.2]\n",
      "[10.2, 'hello', 'jó napot', 'cső', 33, 'a', 'b', 1, 2, 20, 'husz', 10.2]\n",
      "['hello', 'jó napot', 'cső', 33, 'a', 'b', 1, 2, 20, 'husz', 10.2]\n",
      "['hello', 'jó napot', 'cső', 33, 'a', 'b', 1, 2, 20, 'husz']\n",
      "['hello', 'jó napot', 'cső', 'a', 'b', 1, 2, 20, 'husz']\n",
      "A törölt elem: 33\n"
     ]
    }
   ],
   "source": [
    "lista = ['hello', 'jó napot', 'szia', 10.2, 33, 'a', 'b', 1, 2, 20, 'husz']\n",
    "print(lista)\n",
    "# cseréljük ki a 'szia'-t 'cső'-re\n",
    "lista[2] = \"cső\"\n",
    "print(lista)\n",
    "# adjuk hozzá a lista végéhez mégegyszer 10.2\n",
    "lista.append(10.2)\n",
    "print(lista)\n",
    "# töröljük az első 10.2 értéket!\n",
    "del lista[3]\n",
    "print(lista)\n",
    "# adjunk még egy 10.2-t a listához, de a legelejére!\n",
    "lista.insert(0,10.2)\n",
    "print(lista)\n",
    "# töröljük az összes 10.2-es értéket! Először csak az elsőt fogja törölni\n",
    "lista.remove(10.2)\n",
    "print(lista)\n",
    "# ezt megismételve az utolsót is\n",
    "lista.remove(10.2)\n",
    "print(lista)\n",
    "# töröljük ki a lista negyedik elemét, de tároljuk is le egy 'b' változóban!\n",
    "b = lista.pop(3)\n",
    "print(lista)\n",
    "print(\"A törölt elem: \" + str(b))"
   ]
  },
  {
   "cell_type": "markdown",
   "id": "d7320667-62e2-4c3e-8d65-d182c76c1b25",
   "metadata": {},
   "source": [
    "#### További list metódusok\n",
    "- `sort()` - sorba rendezi a listánkat\n",
    "- `count(e)` - visszaadja `e` elem számosságát a listában, magyarul, hogy hány darab van belőle a listán belül\n",
    "- `reverse()` - megfordítja a lista sorrendjét\n",
    "- `copy()` - egy másolatot készít a listánkról, bővebben példa a kódban :)\n",
    "- `clear()` - üríti a listát\n",
    "- `index(i,s,e)` - visszaadja az i-edik elemet, de opcionálisan s kezdő index és e záró index között\n",
    "- `extend(e)` - e iterable-t hozzáfűzi a listához (ez lehet nem csak lista típusú, hanem tuple azaz rendezett pár, set, dictionary stb., ezekről a típusokról később lesz szó)\n",
    "\n",
    "#### Listák és aritmetika\n",
    "Alapvetően listákkal szorzást és összeadást értelmezünk. Az összeadás eredménye összefűzött lista, vagyis a két listából csinál egy harmadikat, amely mindkét lista minden elemét tartalmazza.\n",
    "Szorzás esetén minden elem n-szer lesz megismételve, az indexelés azonban nem változik (tehát n alkalommal lesz összefűzve ugyanaz a lista). Listát listával nem lehetséges szorozni, ha minden elemet fel akarunk szorozni egy másikkal, akkor ciklusokra lesz szükségünk (mint számos egyéb esetben)."
   ]
  },
  {
   "cell_type": "code",
   "execution_count": 40,
   "id": "e1b7e809-9d29-44a6-8610-fe8a4d6d3a5e",
   "metadata": {},
   "outputs": [
    {
     "name": "stdout",
     "output_type": "stream",
     "text": [
      "['a', 'b', 'c', 'd', 'e', 'f', 'g']\n",
      "['a', 'b', 'c', 'd', 'e', 'f', 'g', 'a', 'b', 'c', 'd', 'e', 'f', 'g', 'a', 'b', 'c', 'd', 'e', 'f', 'g']\n",
      "['g', 'g', 'g', 'f', 'f', 'f', 'e', 'e', 'e', 'd', 'd', 'd', 'c', 'c', 'c', 'b', 'b', 'b', 'a', 'a', 'a']\n",
      "lista_3: ['g', 'g', 'g', 'f', 'f', 'f', 'e', 'e', 'e', 'd', 'd', 'd', 'c', 'c', 'c', 'b', 'b', 'b', 'a', 'a', 'a', 'a', 'b', 'c', 'd', 'e', 'f', 'g']\n",
      "lista_4: ['a', 'b', 'c', 'd', 'e', 'f', 'g', 'g', 'g', 'g', 'f', 'f', 'f', 'e', 'e', 'e', 'd', 'd', 'd', 'c', 'c', 'c', 'b', 'b', 'b', 'a', 'a', 'a']\n",
      "lista_3-ban 3 db. e betű van.\n",
      "lista_4-ben 4 db. e betű van.\n",
      "['a', 'b', 'c', 'd', 'e', 'f', 'g', 'g', 'g', 'g', 'f', 'f', 'f', 'e', 'e', 'e', 'd', 'd', 'd', 'c', 'c', 'c', 'b', 'b', 'b', 'a', 'a', 'a']\n",
      "['a', 'b', 'c', 'd', 'e', 'f', 'g', 'g', 'g', 'g', 'f', 'f', 'f', 'e', 'e', 'e', 'd', 'd', 'd', 'c', 'c', 'c', 'b', 'b', 'b', 'a', 'a', 'a']\n",
      "['b', 'c', 'd', 'e', 'f', 'g', 'g', 'g', 'g', 'f', 'f', 'f', 'e', 'e', 'e', 'd', 'd', 'd', 'c', 'c', 'c', 'b', 'b', 'b', 'a', 'a', 'a']\n",
      "['b', 'c', 'd', 'e', 'f', 'g', 'g', 'g', 'g', 'f', 'f', 'f', 'e', 'e', 'e', 'd', 'd', 'd', 'c', 'c', 'c', 'b', 'b', 'b', 'a', 'a', 'a']\n",
      "['a', 'b', 'c', 'd', 'e', 'f', 'g', 'g', 'g', 'g', 'f', 'f', 'f', 'e', 'e', 'e', 'd', 'd', 'd', 'c', 'c', 'c', 'b', 'b', 'b', 'a', 'a', 'a']\n",
      "['b', 'c', 'd', 'e', 'f', 'g', 'g', 'g', 'g', 'f', 'f', 'f', 'e', 'e', 'e', 'd', 'd', 'd', 'c', 'c', 'c', 'b', 'b', 'b', 'a', 'a', 'a']\n",
      "['a', 'b', 'c', 'd', 'e', 'f', 'g', 'g', 'g', 'g', 'f', 'f', 'f', 'e', 'e', 'e', 'd', 'd', 'd', 'c', 'c', 'c', 'b', 'b', 'b', 'a', 'a', 'a']\n"
     ]
    }
   ],
   "source": [
    "# sort(), vagyis rendezés\n",
    "lista_1 = [\"a\", \"c\", \"g\", \"d\", \"f\", \"b\", \"e\"]\n",
    "lista_1.sort()\n",
    "print(lista_1)\n",
    "# lista szorzása\n",
    "lista_2 = 3*lista_1\n",
    "print(lista_2)\n",
    "# lista_2 rendezése és megfordítása\n",
    "lista_2.sort()\n",
    "lista_2.reverse()\n",
    "print(lista_2)\n",
    "# lista_2-höz adjuk hozzá lista_1-et lista_3-ba, illetve lista_1-hez adjuk hozzá lista_2-t lista_4-be!\n",
    "lista_3 = lista_2 + lista_1\n",
    "lista_4 = lista_1 + lista_2\n",
    "print(\"lista_3: \" + str(lista_3))\n",
    "print(\"lista_4: \" + str(lista_4))\n",
    "# lista_3-ből töröljünk egy 'e' betűt!\n",
    "lista_3.remove('e')\n",
    "# számoljuk meg az 'e betűket mindkét listában!'\n",
    "print(\"lista_3-ban \" + str(lista_3.count('e')) + \" db. e betű van.\")\n",
    "print(\"lista_4-ben \" + str(lista_4.count('e')) + \" db. e betű van.\")\n",
    "# listát tudunk másolni úgy, hogy egyenlővé tesszük őket, de van egy apróbb csapda a történetben\n",
    "lista_5 = lista_4\n",
    "print(lista_4)\n",
    "print(lista_5)\n",
    "del lista_4[0]\n",
    "# mivel lista_4 ugyanaz a memóriában, mint lista_5, ezért lista_5-ből is eltűnt az első elem!\n",
    "print(lista_4)\n",
    "print(lista_5)\n",
    "# erre jó a copy funkció! először adjuk vissza lista_4 első elemét, az 'a' betút!\n",
    "lista_4.insert(0, 'a')\n",
    "print(lista_4)\n",
    "# copyzzuk le lista_6-ba! töröljük lista_4 első elemét megint!\n",
    "lista_6 = lista_4.copy()\n",
    "del lista_4[0]\n",
    "# lista_6-ban benne lesz az 'a!'\n",
    "print(lista_4)\n",
    "print(lista_6)"
   ]
  },
  {
   "cell_type": "markdown",
   "id": "9d8f153a-0c5c-450c-9303-c5063f13f656",
   "metadata": {},
   "source": [
    "## List generálás\n",
    "A listákkal kapcsolatban Pythonban az egyik legfontosabb tudnivaló a generálásuk. Számtalan alkalommal szükség van lista generálásra, illetve számtalanszor hasznos eszközöknek bizonyulnak. Most csak az egyszerű lista generálásokkal fogunk foglalkozni, komparatív listákkal, szűréssel és egyéb komplex műveletekkel a ciklusok során fogunk foglalkozni. Fontos megjegyezni, hogy a nyelv sokkal egyszerűbb eszközöket ad ezeknek a műveleteknek az elvégzéséhez, de ahhoz hogy megértsük a működésüket, először az alapokkal kell kezdenünk.\n",
    "\n",
    "### Range típus\n",
    "Pythonban létezik egy tartomány-típus, melynek neve **range**. A range-ek egy n-től m-ig terjedő számtartományt jelölnek, ahol n alapértelmezett értéke 0. A range-ek **iterable**-ök közé tartoznak, és a számláló ciklusoknál nagyon fontos szerepük lesz. **Ne feledjük, hogy a range egy külön típus Pythonban, tehát listává konvertálnunk kell!**\n",
    "- `range(10)` - tíz elemű szekvencia, nulla kezdőelemmel, 9 záró elemmel.\n",
    "- `range(1, 10)` - kilenc elemű szekvencia, a **10 ugyanis a stop értéket jelöli!**\n",
    "- `range(2, 100, 2)` - állítható a range-en *step* is, avagy hogy a szekvenciában két érték között mi a különbség. Így pl. megkapjuk az 100-nál kisebb páros számokat!\n",
    "A range-ekkel a későbbiekben (ciklusok, itertools stb.) is fogunk találkozni, úgyhogy érdemes rájuk elmékezni!"
   ]
  },
  {
   "cell_type": "code",
   "execution_count": 9,
   "id": "0fb55f75-3fa4-4f27-bf3e-b5f3132880f8",
   "metadata": {},
   "outputs": [
    {
     "name": "stdout",
     "output_type": "stream",
     "text": [
      "[0, 1, 2, 3, 4, 5, 6, 7, 8, 9]\n",
      "[1, 2, 3, 4, 5, 6, 7, 8, 9]\n",
      "[2, 4, 6, 8, 10, 12, 14, 16, 18, 20, 22, 24, 26, 28, 30, 32, 34, 36, 38, 40, 42, 44, 46, 48, 50, 52, 54, 56, 58, 60, 62, 64, 66, 68, 70, 72, 74, 76, 78, 80, 82, 84, 86, 88, 90, 92, 94, 96, 98]\n",
      "Countdown starts at [10, 9, 8, 7, 6, 5, 4, 3, 2, 1, 0]!\n"
     ]
    }
   ],
   "source": [
    "a = list(range(10))\n",
    "print(a)\n",
    "b = list(range(1,10))\n",
    "print(b)\n",
    "c = list(range(2, 100, 2))\n",
    "print(c)\n",
    "# NASA rakéta kilövése 10 mp-en belül:\n",
    "nasa_countdown = list(range(10,-1,-1))\n",
    "print(\"Countdown starts at \" + str(nasa_countdown) + \"!\")"
   ]
  },
  {
   "cell_type": "markdown",
   "id": "8307c290-8a33-4efc-9341-71256c674514",
   "metadata": {},
   "source": [
    "### String splitting\n",
    "A stringek és a listák közötti kapcsolatot eddig is láthattuk, azonban a `split()` metódus segítségével közvetlenül is listává alakíthatók szavanként! Ez egy shortcut abban, hogy pl. szavakat számoljunk.\n",
    "A `split()` metódus fogad *argumentumokat* is, egy separator névre hallgatót, amely megadja, hogy hol bontsa lista elemekre a szöveget, pl. vesszőnként, illetve egy maxsplit névre hallgatót, hogy maximum hány elemből álló listát kapjunk.\n",
    "\n",
    "Amennyiben betűkre és karakterekre szeretnénk bontatni a szövegünket, használhatunk típuskonverziót, ekkor karakterenkénti listát fog létrehozni a `list()` függvény."
   ]
  },
  {
   "cell_type": "code",
   "execution_count": 14,
   "id": "c7e58887-f310-44dc-9ebd-fde24549aafb",
   "metadata": {},
   "outputs": [
    {
     "name": "stdout",
     "output_type": "stream",
     "text": [
      "['sziasztok', 'fiatal', 'felnőttek!']\n",
      "['Juci', 'Zsuzsi', 'Zoli', 'Tibi', 'Etus', 'Alma']\n",
      "['J', 'u', 'c', 'i', ',', ' ', 'Z', 's', 'u', 'z', 's', 'i', ',', ' ', 'Z', 'o', 'l', 'i', ',', ' ', 'T', 'i', 'b', 'i', ',', ' ', 'E', 't', 'u', 's', ',', ' ', 'A', 'l', 'm', 'a']\n"
     ]
    }
   ],
   "source": [
    "a = \"sziasztok fiatal felnőttek!\"\n",
    "szavak = a.split()\n",
    "print(szavak)\n",
    "b = \"Juci, Zsuzsi, Zoli, Tibi, Etus, Alma\"\n",
    "# figyelem, \"vessző, szóköz!\"\n",
    "nevek = b.split(\", \")\n",
    "print(nevek)\n",
    "karakterek = list(b)\n",
    "print(karakterek)"
   ]
  },
  {
   "cell_type": "markdown",
   "id": "6716a19a-0a82-46b6-8de0-2a521a05fa69",
   "metadata": {},
   "source": [
    "### Stringből list\n",
    "A listák és stringek közti kapcsolatot tovább erősíti az, hogy a legtöbb list metódus használható stringeken is. Ez nem mindre igaz, azonban pl. a `count()` metódus ennek tipikus példája.\n",
    "Ahol pedig nem használhatjuk a list metódust, ilyen pl. a `reverse()`, ott még mindig listává tudjuk alakítani a stringet, elvégezni a műveletet.\n",
    "\n",
    "Az `str()` típuskonverzió nem alakítja vissza a listákat stringekké, csak string formátumban fogja kiírni a listát. A visszakonvertáláshoz a `join()` string metódust tudjuk használni, amely ismeri a korábban használt separator fogalmát is, azonban kicsit másképp. A separator itt maga a string, aminek segítségével összefűzzük a listát újra.\n",
    "\n",
    "A korábban leírtak alapján máris igencsak hasznos eszközzé vált a Python számunkra szövegek elemzésében!"
   ]
  },
  {
   "cell_type": "code",
   "execution_count": 25,
   "id": "1bfb4cfa-0fc2-4f4d-8982-31eb1cb51ac9",
   "metadata": {},
   "outputs": [
    {
     "name": "stdout",
     "output_type": "stream",
     "text": [
      "a:  14\n",
      "b: 3\n",
      "sas: 1\n",
      ".uh.sasigalrap a sé eynémelzök )EMM( telüseygE imledévtezsémreT sé inatrádaM raygaM a ajrí ,nebéygem gereB-rámtazS-sclobazS el kettehől tűylesektárab sódalej idlöflüK\n",
      ".!u!h!.!s!a!s!i!g!a!l!r!a!p! !a! !s!é! !e!y!n!é!m!e!l!z!ö!k! !)!E!M!M!(! !t!e!l!ü!s!e!y!g!E! !i!m!l!e!d!é!v!t!e!z!s!é!m!r!e!T! !s!é! !i!n!a!t!r!á!d!a!M! !r!a!y!g!a!M! !a! !a!j!r!í! !,!n!e!b!é!y!g!e!m! !g!e!r!e!B!-!r!á!m!t!a!z!S!-!s!c!l!o!b!a!z!S! !e!l! !k!e!t!t!e!h!ő!l! !t!ű!y!l!e!s!e!k!t!á!r!a!b! !s!ó!d!a!l!e!j! !i!d!l!ö!f!l!ü!K\n"
     ]
    }
   ],
   "source": [
    "szoveg = \"Külföldi jeladós barátkeselyűt lőhettek le Szabolcs-Szatmár-Bereg megyében, írja a Magyar Madártani és Természetvédelmi Egyesület (MME) közleménye és a parlagisas.hu.\"\n",
    "print(\"a:  \" + str(szoveg.count('a')))\n",
    "print(\"b: \" + str(szoveg.count('b')))\n",
    "print(\"sas: \" + str(szoveg.count('sas')))\n",
    "szoveg_forditva_list = list(szoveg)\n",
    "szoveg_forditva_list.reverse()\n",
    "# üres separator egy '', így nem fog közéjük semmilyen elválasztó érdéket beszúrni\n",
    "szoveg_forditva = ('').join(szoveg_forditva_list)\n",
    "print(szoveg_forditva)\n",
    "# ha megadunk separatort, nézzük meg, mi történik\n",
    "szoveg_felkialtojel = ('!').join(szoveg_forditva_list)\n",
    "print(szoveg_felkialtojel)"
   ]
  },
  {
   "cell_type": "markdown",
   "id": "5aade671-40b3-4651-9cc5-b232383768b7",
   "metadata": {},
   "source": [
    "> ## Házi feladat\n",
    "> 1. Írj egy olyan programot, amely a fenti barátkeselyűs szövegből megmondja, hogy melyik betű a teljes magyar abc-ből hány százalékos előfordulással fordul elő az adott szövegen belül! Összekapcsolt mássalhangzókat is nézzen (cs, dzs stb.)!\n",
    "> 2. Írj egy olyan programot, amely tetszőleges szöveggel végzi el az első feladatban megadott analízist!\n",
    "> 3. Írj egy olyan programot, amely bekéri a user teljes nevét, és megmondja a nevét visszafele! Figyelj oda arra, hogy a visszafele olvasott név nagybetűvel kezdődjön, és a végén kisbetű legyen. Pl. Sanyi - Iynas"
   ]
  }
 ],
 "metadata": {
  "kernelspec": {
   "display_name": "Python 3",
   "language": "python",
   "name": "python3"
  },
  "language_info": {
   "codemirror_mode": {
    "name": "ipython",
    "version": 3
   },
   "file_extension": ".py",
   "mimetype": "text/x-python",
   "name": "python",
   "nbconvert_exporter": "python",
   "pygments_lexer": "ipython3",
   "version": "3.9.2"
  }
 },
 "nbformat": 4,
 "nbformat_minor": 5
}
